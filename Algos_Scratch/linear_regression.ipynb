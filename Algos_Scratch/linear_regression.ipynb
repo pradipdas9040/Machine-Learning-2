{
 "cells": [
  {
   "cell_type": "markdown",
   "id": "4d820f7a",
   "metadata": {},
   "source": [
    "## Using Numpy"
   ]
  },
  {
   "cell_type": "code",
   "execution_count": 1,
   "id": "45b8b6fb",
   "metadata": {},
   "outputs": [],
   "source": [
    "import numpy as np\n",
    "\n",
    "# Generate synthetic data\n",
    "np.random.seed(0)\n",
    "m = 100  # number of samples\n",
    "n = 3    # number of features\n",
    "\n",
    "X = np.random.rand(m, n)  # shape (m, n)\n",
    "true_W = np.array([\n",
    "    [2.0],\n",
    "    [-3.5],\n",
    "    [1.2]\n",
    "])                        # shape (n, 1)\n",
    "true_b = 4.0\n",
    "\n",
    "y = X @ true_W + true_b + np.random.randn(m, 1) * 0.5  # shape (m, 1)"
   ]
  },
  {
   "cell_type": "code",
   "execution_count": 2,
   "id": "cf524be0",
   "metadata": {},
   "outputs": [],
   "source": [
    "class linear_regression:\n",
    "    def __init__(self, X, y):\n",
    "        self.X = X\n",
    "        self.y = y\n",
    "        self.W = np.random.randn(X.shape[1], 1)\n",
    "        self.b = np.random.rand(1)\n",
    "\n",
    "        print(f'Initial weight: {self.W},\\n\\nInitial bias: {self.b}')\n",
    "\n",
    "    def fit(self, lr, epochs):\n",
    "        for epoch in range(epochs+1):\n",
    "            y_hat = self.X @ self.W + self.b\n",
    "            error = y_hat - y\n",
    "\n",
    "            dW = (2/m) * X.T @ error\n",
    "            db = (2/m) * np.sum(error)\n",
    "\n",
    "            self.W -= lr * dW\n",
    "            self.b -= lr * db\n",
    "\n",
    "            if epoch % 100 == 0:\n",
    "                loss = np.mean(error**2)\n",
    "                print(f'Epoch {epoch}: Loss = {loss:.4f}')"
   ]
  },
  {
   "cell_type": "code",
   "execution_count": 3,
   "id": "659fead1",
   "metadata": {},
   "outputs": [
    {
     "name": "stdout",
     "output_type": "stream",
     "text": [
      "Initial weight: [[-0.15766702]\n",
      " [ 2.2567235 ]\n",
      " [-0.70470028]],\n",
      "\n",
      "Initial bias: [0.24141862]\n"
     ]
    }
   ],
   "source": [
    "linear_reg = linear_regression(X, y)"
   ]
  },
  {
   "cell_type": "code",
   "execution_count": 4,
   "id": "103a6041",
   "metadata": {},
   "outputs": [
    {
     "name": "stdout",
     "output_type": "stream",
     "text": [
      "Epoch 0: Loss = 12.7778\n",
      "Epoch 100: Loss = 0.9945\n",
      "Epoch 200: Loss = 0.3972\n",
      "Epoch 300: Loss = 0.2680\n",
      "Epoch 400: Loss = 0.2335\n",
      "Epoch 500: Loss = 0.2225\n",
      "Epoch 600: Loss = 0.2186\n",
      "Epoch 700: Loss = 0.2172\n",
      "Epoch 800: Loss = 0.2166\n",
      "Epoch 900: Loss = 0.2164\n",
      "Epoch 1000: Loss = 0.2163\n",
      "^-_^-_^-_^-_^-_^-_^-_^-_^-_^-_^-_^-_^-_^-_^-_^-_^-_^-_^-_^-_^-_^-_^-_^-_^-_\n",
      "Learned weight: [[ 1.80267032]\n",
      " [-3.49305057]\n",
      " [ 1.3444946 ]] \n",
      "\n",
      "Learned bias: [3.95295633]\n"
     ]
    }
   ],
   "source": [
    "lr = 0.05\n",
    "epochs = 1000\n",
    "linear_reg.fit(lr, epochs)\n",
    "\n",
    "print('^-_'*25)\n",
    "print(f'Learned weight: {linear_reg.W} \\n\\nLearned bias: {linear_reg.b}')"
   ]
  },
  {
   "cell_type": "markdown",
   "id": "485befab",
   "metadata": {},
   "source": [
    "## Using List"
   ]
  },
  {
   "cell_type": "code",
   "execution_count": 5,
   "id": "4d040cb2",
   "metadata": {},
   "outputs": [],
   "source": [
    "import random\n",
    "\n",
    "random.seed(0)"
   ]
  },
  {
   "cell_type": "code",
   "execution_count": 6,
   "id": "1fde5576",
   "metadata": {},
   "outputs": [],
   "source": [
    "m = 100\n",
    "n = 3\n",
    "\n",
    "true_W = [1.0, -2.5, 2.9]\n",
    "true_b = 4.0\n",
    "\n",
    "X = [[random.uniform(0, 1) for _ in range(n)] for _ in range(m)]\n",
    "y = [sum(x[i] * true_W[i] for i in range(n)) + true_b + random.uniform(-0.5, 0.5) for x in X]"
   ]
  },
  {
   "cell_type": "code",
   "execution_count": 7,
   "id": "a6e81d25",
   "metadata": {},
   "outputs": [],
   "source": [
    "class linear_regression_list:\n",
    "    def __init__(self, X, y):\n",
    "        self.X = X\n",
    "        self.y = y\n",
    "        self.m = len(X)\n",
    "        self.n = len(X[0])\n",
    "        self.W = [random.uniform(-1, 1) for _ in range(self.n)]\n",
    "        self.b = random.uniform(1, 2)\n",
    "\n",
    "        print(f'Initial weight: {self.W}\\nInitial bias: {self.b}')\n",
    "\n",
    "    def fit(self, epoches, lr):\n",
    "        for epoch in range(epoches):\n",
    "            y_hat = [sum(x[i] * self.W[i] for i in range(self.n)) + self.b for x in self.X]\n",
    "            error = [y_hat[i] - y[i] for i in range(self.m)]\n",
    "\n",
    "            dW = [0] * self.n\n",
    "            for j in range(self.n):\n",
    "                dW[j] = (2/m) * sum(error[i] * self.X[i][j] for i in range(self.m))\n",
    "            db = (2/m) * sum(error)\n",
    "\n",
    "            for i in range(self.n):\n",
    "                self.W[i] -= lr * dW[i]\n",
    "            self.b -= lr * db\n",
    "\n",
    "            if epoch % 100 == 0:\n",
    "                loss = sum(error[i]**2 for i in range(self.m))/self.m\n",
    "                print(f'Epoch: {epoch} -- loss: {loss: .4f}')"
   ]
  },
  {
   "cell_type": "code",
   "execution_count": 8,
   "id": "c94d9de2",
   "metadata": {},
   "outputs": [
    {
     "name": "stdout",
     "output_type": "stream",
     "text": [
      "Initial weight: [0.5961189422083166, 0.3139691037722683, -0.9995186069496662]\n",
      "Initial bias: 1.181968922186211\n"
     ]
    }
   ],
   "source": [
    "linear_reg_list = linear_regression_list(X, y)"
   ]
  },
  {
   "cell_type": "code",
   "execution_count": 9,
   "id": "09f956eb",
   "metadata": {},
   "outputs": [
    {
     "name": "stdout",
     "output_type": "stream",
     "text": [
      "Epoch: 0 -- loss:  15.5943\n",
      "Epoch: 100 -- loss:  0.4672\n",
      "Epoch: 200 -- loss:  0.1663\n",
      "Epoch: 300 -- loss:  0.1039\n",
      "Epoch: 400 -- loss:  0.0906\n",
      "Epoch: 500 -- loss:  0.0876\n",
      "Epoch: 600 -- loss:  0.0869\n",
      "Epoch: 700 -- loss:  0.0867\n",
      "Epoch: 800 -- loss:  0.0866\n",
      "Epoch: 900 -- loss:  0.0866\n",
      "^-_^-_^-_^-_^-_^-_^-_^-_^-_^-_^-_^-_^-_^-_^-_^-_^-_^-_^-_^-_^-_^-_^-_^-_^-_\n",
      "Learned weight: [0.8555064251689274, -2.524686609618502, 2.708543208538386] \n",
      "\n",
      "Learned bias: 4.206011818160051\n"
     ]
    }
   ],
   "source": [
    "lr = 0.05\n",
    "epochs = 1000\n",
    "linear_reg_list.fit(epochs, lr)\n",
    "\n",
    "print('^-_'*25)\n",
    "print(f'Learned weight: {linear_reg_list.W} \\n\\nLearned bias: {linear_reg_list.b}')"
   ]
  },
  {
   "cell_type": "code",
   "execution_count": null,
   "id": "72268662",
   "metadata": {},
   "outputs": [],
   "source": []
  }
 ],
 "metadata": {
  "kernelspec": {
   "display_name": "Python 3",
   "language": "python",
   "name": "python3"
  },
  "language_info": {
   "codemirror_mode": {
    "name": "ipython",
    "version": 3
   },
   "file_extension": ".py",
   "mimetype": "text/x-python",
   "name": "python",
   "nbconvert_exporter": "python",
   "pygments_lexer": "ipython3",
   "version": "3.12.3"
  }
 },
 "nbformat": 4,
 "nbformat_minor": 5
}
