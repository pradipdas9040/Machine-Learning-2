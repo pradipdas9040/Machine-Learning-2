{
 "cells": [
  {
   "cell_type": "markdown",
   "id": "09e9d1ed",
   "metadata": {},
   "source": [
    "## Using List"
   ]
  },
  {
   "cell_type": "code",
   "execution_count": 1,
   "id": "f420c59c",
   "metadata": {},
   "outputs": [],
   "source": [
    "import math\n",
    "import random"
   ]
  },
  {
   "cell_type": "code",
   "execution_count": 2,
   "id": "ddac65a0",
   "metadata": {},
   "outputs": [],
   "source": [
    "class create_data:\n",
    "    def __init__(\n",
    "            self, \n",
    "            W = [1.0, 2.7, -3.4],\n",
    "            b = 0.07,\n",
    "            m = 100\n",
    "    ):\n",
    "        self.W = W\n",
    "        self.b = b\n",
    "        self.m = m\n",
    "    \n",
    "    def sigmoid(self, z):\n",
    "        return 1 / (1 + math.exp(-z))\n",
    "    \n",
    "    def get_data(self):\n",
    "        n = len(self.W)\n",
    "        X = [[random.uniform(0, 1) for _ in range(n)] for _ in range(self.m)] \n",
    "        y = []\n",
    "\n",
    "        for x in X:\n",
    "            linear = sum([self.W[i] * x[i] for i in range(n)]) + self.b\n",
    "            prob = self.sigmoid(linear)\n",
    "            label = 1 if prob >= 0.5 else 0\n",
    "            y.append(label)\n",
    "        return X, y"
   ]
  },
  {
   "cell_type": "code",
   "execution_count": 3,
   "id": "04a15162",
   "metadata": {},
   "outputs": [],
   "source": [
    "data = create_data()\n",
    "X, y = data.get_data()"
   ]
  },
  {
   "cell_type": "code",
   "execution_count": 4,
   "id": "b0d01ec6",
   "metadata": {},
   "outputs": [],
   "source": [
    "class logistic_regression_list:\n",
    "    def __init__(self, X, y, distribution='normal'):\n",
    "        self.X = X\n",
    "        self.y = y\n",
    "        self.m = len(X)\n",
    "        self.n = len(X[0])\n",
    "        if distribution == 'normal':\n",
    "            self.W = [random.normalvariate() for _ in range(self.n)]\n",
    "            self.b = random.normalvariate()\n",
    "        elif distribution == 'uniform':\n",
    "            self.W = [random.uniform(0, 1) for _ in range(self.n)]\n",
    "            self.b = random.uniform(0, 1)\n",
    "        else:\n",
    "            ValueError('Put distribution either normal or uniform')\n",
    "\n",
    "        print(f'Initial weight: {self.W} \\nInitial b: {self.b}')\n",
    "\n",
    "    def sigmoid(self, z):\n",
    "        return 1 / (1 + math.exp(-z))\n",
    "    \n",
    "    def binary_cross_entropy(self, y_true, y_pred):\n",
    "        epsilon = 1e-8\n",
    "        return - (y_true * math.log(y_pred + epsilon) + (1 - y_true) * math.log(1 - y_pred + epsilon))\n",
    "\n",
    "    def fit(self, epochs=10000, lr=0.05):\n",
    "        for epoch in range(epochs):\n",
    "            y_pred = [self.sigmoid(sum(self.W[i] * x[i] for i in range(self.n)) + self.b) for x in self.X]\n",
    "            error = [y_pred[i] - self.y[i] for i in range(self.m)]\n",
    "            total_loss = sum([self.binary_cross_entropy(self.y[i], y_pred[i]) for i in range(self.m)]) / self.m\n",
    "\n",
    "            dW = [0] * self.n \n",
    "            for j in range(self.n):\n",
    "                dW[j] = sum([error[i] * self.X[i][j] for i in range(self.m)])\n",
    "            db = sum(error)\n",
    "\n",
    "            for i in range(self.n):\n",
    "                self.W[i] -= (lr / self.m) * dW[i]\n",
    "            self.b -= (lr / self.m) * db\n",
    "\n",
    "            if epoch % 1000 == 0:\n",
    "                print(f'{epoch=}: {total_loss=:.4f}')\n",
    "\n",
    "        return None\n",
    "    \n",
    "    def predict(self):\n",
    "        y_pred = [self.sigmoid(sum(self.W[i] * x[i] for i in range(self.n)) + self.b) for x in self.X]\n",
    "        return [(1 if y_pred[i] >= 0.5 else 0) for i in range(self.m)]\n",
    "    \n",
    "    def confusion_matrix(self, y_pred):\n",
    "        assert len(self.y) == len(y_pred), \"Mismatched lengths.\"\n",
    "\n",
    "        TP = FP = TN = FN = 0\n",
    "        for t, p in zip(self.y, y_pred):\n",
    "            TP += t == 1 and p == 1\n",
    "            FP += t == 0 and p == 1\n",
    "            TN += t == 0 and p == 0\n",
    "            FN += t == 1 and p == 0\n",
    "        return [[TP, FP], [FN, TN]]"
   ]
  },
  {
   "cell_type": "code",
   "execution_count": 5,
   "id": "d916fe0d",
   "metadata": {},
   "outputs": [
    {
     "name": "stdout",
     "output_type": "stream",
     "text": [
      "Initial weight: [1.6377175303710514, -0.7045323362055084, 0.42710899013561343] \n",
      "Initial b: -0.49763537360948695\n"
     ]
    }
   ],
   "source": [
    "logistic_reg_list = logistic_regression_list(X=X, y=y)"
   ]
  },
  {
   "cell_type": "code",
   "execution_count": 6,
   "id": "5f98d843",
   "metadata": {},
   "outputs": [
    {
     "name": "stdout",
     "output_type": "stream",
     "text": [
      "epoch=0: total_loss=0.7839\n",
      "epoch=1000: total_loss=0.3932\n",
      "epoch=2000: total_loss=0.2956\n",
      "epoch=3000: total_loss=0.2502\n",
      "epoch=4000: total_loss=0.2226\n",
      "epoch=5000: total_loss=0.2035\n",
      "epoch=6000: total_loss=0.1891\n",
      "epoch=7000: total_loss=0.1778\n",
      "epoch=8000: total_loss=0.1686\n",
      "epoch=9000: total_loss=0.1608\n"
     ]
    }
   ],
   "source": [
    "logistic_reg_list.fit()\n",
    "y_pred = logistic_reg_list.predict()"
   ]
  },
  {
   "cell_type": "code",
   "execution_count": 7,
   "id": "0e70fac4",
   "metadata": {},
   "outputs": [
    {
     "data": {
      "text/plain": [
       "[[48, 0], [1, 51]]"
      ]
     },
     "execution_count": 7,
     "metadata": {},
     "output_type": "execute_result"
    }
   ],
   "source": [
    "logistic_reg_list.confusion_matrix(y_pred)"
   ]
  },
  {
   "cell_type": "code",
   "execution_count": null,
   "id": "84098414",
   "metadata": {},
   "outputs": [],
   "source": []
  }
 ],
 "metadata": {
  "kernelspec": {
   "display_name": "Python 3",
   "language": "python",
   "name": "python3"
  },
  "language_info": {
   "codemirror_mode": {
    "name": "ipython",
    "version": 3
   },
   "file_extension": ".py",
   "mimetype": "text/x-python",
   "name": "python",
   "nbconvert_exporter": "python",
   "pygments_lexer": "ipython3",
   "version": "3.12.3"
  }
 },
 "nbformat": 4,
 "nbformat_minor": 5
}
