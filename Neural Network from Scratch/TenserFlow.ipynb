{
 "cells": [
  {
   "cell_type": "markdown",
   "metadata": {},
   "source": [
    "# Neural Network from Scratch in TensorFlow"
   ]
  },
  {
   "cell_type": "code",
   "execution_count": 1,
   "metadata": {},
   "outputs": [
    {
     "name": "stdout",
     "output_type": "stream",
     "text": [
      "TensorFlow Version: 2.8.0\n"
     ]
    }
   ],
   "source": [
    "import tensorflow as tf\n",
    "import numpy as np\n",
    "import matplotlib.pyplot as plt\n",
    "import nn_utils\n",
    "%matplotlib inline\n",
    "\n",
    "print('TensorFlow Version:', tf.__version__)"
   ]
  },
  {
   "cell_type": "code",
   "execution_count": 2,
   "metadata": {},
   "outputs": [],
   "source": [
    "class NeuralNetwork:\n",
    "    def __init__(self, layers):\n",
    "        self.layers = layers\n",
    "        self.L = len(layers)\n",
    "        self.num_features = layers[0]\n",
    "        self.num_classes = layers[-1]\n",
    "        \n",
    "        self.W = {}\n",
    "        self.b = {}\n",
    "        \n",
    "        self.dW = {}\n",
    "        self.db = {}\n",
    "        \n",
    "        self.setup()\n",
    "        \n",
    "    def setup(self):\n",
    "        for i in range(1, self.L):\n",
    "            self.W[i] = tf.Variable(tf.random.normal(shape=(self.layers[i], self.layers[i-1])))\n",
    "            self.b[i] = tf.Variable(tf.zeros(shape=(self.layers[i], 1)))    \n",
    "\n",
    "    def forward_pass(self, X):\n",
    "        A = tf.convert_to_tensor(X, dtype=tf.float32)\n",
    "        for i in range(1, self.L):\n",
    "            z = tf.matmul(A, tf.transpose(self.W[i])) + tf.transpose(self.b[i])\n",
    "            if i != self.L-1:\n",
    "                A = tf.nn.relu(z)\n",
    "            else:\n",
    "                A = tf.nn.sigmoid(z)\n",
    "        return A\n",
    "\n",
    "    def compute_loss(self, A, Y):\n",
    "        loss = tf.nn.softmax_cross_entropy_with_logits(Y, A)\n",
    "        return tf.reduce_mean(loss)\n",
    "    \n",
    "    def update_params(self, lr):\n",
    "        for i in range(1, self.L):\n",
    "            self.W[i].assign_sub(lr * self.dW[i])\n",
    "            self.b[i].assign_sub(lr * self.db[i])\n",
    "\n",
    "    def predict(self, X):\n",
    "        A = self.forward_pass(X)\n",
    "        return tf.argmax(tf.nn.softmax(A), axis=1)\n",
    "    \n",
    "    def info(self):\n",
    "        num_params = 0\n",
    "        for i in range(1, self.L):\n",
    "            num_params += self.W[i].shape[0] * self.W[i].shape[1]\n",
    "            num_params += self.b[i].shape[0]\n",
    "        print('Input Features:', self.num_features)\n",
    "        print('Number of Classes:', self.num_classes)\n",
    "        print('Hidden Layers:')\n",
    "        print('--------------')\n",
    "        for i in range(1, self.L-1):\n",
    "            print('Layer {}, Units {}'.format(i, self.layers[i]))\n",
    "        print('--------------')\n",
    "        print('Number of parameters:', num_params)\n",
    "\n",
    "        \n",
    "    def train_on_batch(self, X, Y, lr):\n",
    "        X = tf.convert_to_tensor(X, dtype=tf.float32)\n",
    "        Y = tf.convert_to_tensor(Y, dtype=tf.float32)\n",
    "        \n",
    "        with tf.GradientTape(persistent=True) as tape:\n",
    "            A = self.forward_pass(X)\n",
    "            loss = self.compute_loss(A, Y)\n",
    "        for i in range(1, self.L):\n",
    "            self.dW[i] = tape.gradient(loss, self.W[i])\n",
    "            self.db[i] = tape.gradient(loss, self.b[i])\n",
    "        del tape\n",
    "        self.update_params(lr)\n",
    "        return loss.numpy()\n",
    "\n",
    "    \n",
    "    def train(self, x_train, y_train, x_test, y_test, epochs, batch_size, lr):\n",
    "        steps_per_epoch = int(x_train.shape[0]/batch_size)\n",
    "        history = {\n",
    "            'val_loss': [],\n",
    "            'train_loss': [],\n",
    "            'val_acc': []\n",
    "        }\n",
    "        \n",
    "        for e in range(0, epochs):\n",
    "            epoch_train_loss = 0.0\n",
    "            print(f'Epoch {e}.', end='')\n",
    "            for i in range(0, steps_per_epoch):\n",
    "                x_batch = x_train[i*batch_size:(i+1)*batch_size]\n",
    "                y_batch = y_train[i*batch_size:(i+1)*batch_size]\n",
    "                \n",
    "                batch_loss = self.train_on_batch(x_batch, y_batch, lr)\n",
    "                epoch_train_loss += batch_loss\n",
    "                \n",
    "                if i%int(steps_per_epoch/10) == 0:\n",
    "                    print(end='.')\n",
    "            history['train_loss'].append(epoch_train_loss/steps_per_epoch)\n",
    "            val_A = self.forward_pass(x_test)\n",
    "            val_loss = self.compute_loss(val_A, y_test).numpy()\n",
    "            history['val_loss'].append(val_loss)\n",
    "            val_prads = self.predict(x_test)\n",
    "            val_acc = np.mean(np.argmax(y_test, axis=1) == val_prads.numpy())\n",
    "            history['val_acc'].append(val_acc)\n",
    "            print(f'Val acc: {val_acc}')\n",
    "        return history"
   ]
  },
  {
   "cell_type": "markdown",
   "metadata": {},
   "source": [
    "# Task 8: Application"
   ]
  },
  {
   "cell_type": "code",
   "execution_count": 3,
   "metadata": {},
   "outputs": [
    {
     "data": {
      "text/plain": [
       "<module 'matplotlib.pyplot' from 'C:\\\\Users\\\\Pradip\\\\AppData\\\\Roaming\\\\Python\\\\Python310\\\\site-packages\\\\matplotlib\\\\pyplot.py'>"
      ]
     },
     "execution_count": 3,
     "metadata": {},
     "output_type": "execute_result"
    },
    {
     "data": {
      "image/png": "[encoded data removed]",
      "text/plain": [
       "<Figure size 720x360 with 10 Axes>"
      ]
     },
     "metadata": {},
     "output_type": "display_data"
    }
   ],
   "source": [
    "(x_train, y_train), (x_test, y_test) = nn_utils.load_data()\n",
    "nn_utils.plot_random_examples(x_train, y_train)"
   ]
  },
  {
   "cell_type": "code",
   "execution_count": 4,
   "metadata": {},
   "outputs": [
    {
     "name": "stdout",
     "output_type": "stream",
     "text": [
      "Input Features: 784\n",
      "Number of Classes: 10\n",
      "Hidden Layers:\n",
      "--------------\n",
      "Layer 1, Units 128\n",
      "Layer 2, Units 128\n",
      "--------------\n",
      "Number of parameters: 118282\n"
     ]
    }
   ],
   "source": [
    "net = NeuralNetwork([784, 128, 128, 10])\n",
    "net.info()"
   ]
  },
  {
   "cell_type": "code",
   "execution_count": 5,
   "metadata": {},
   "outputs": [],
   "source": [
    "batch_size = 280\n",
    "epochs = 100\n",
    "lr = 0.01"
   ]
  },
  {
   "cell_type": "code",
   "execution_count": 6,
   "metadata": {},
   "outputs": [
    {
     "name": "stdout",
     "output_type": "stream",
     "text": [
      "Epoch 0............Val acc: 0.1206\n",
      "Epoch 1............Val acc: 0.1289\n",
      "Epoch 2............Val acc: 0.1401\n",
      "Epoch 3............Val acc: 0.1479\n",
      "Epoch 4............Val acc: 0.1592\n",
      "Epoch 5............Val acc: 0.1753\n",
      "Epoch 6............Val acc: 0.1902\n",
      "Epoch 7............Val acc: 0.2035\n",
      "Epoch 8............Val acc: 0.2147\n",
      "Epoch 9............Val acc: 0.2289\n",
      "Epoch 10............Val acc: 0.2465\n",
      "Epoch 11............Val acc: 0.2615\n",
      "Epoch 12............Val acc: 0.273\n",
      "Epoch 13............Val acc: 0.2867\n",
      "Epoch 14............Val acc: 0.2978\n",
      "Epoch 15............Val acc: 0.3086\n",
      "Epoch 16............Val acc: 0.3135\n",
      "Epoch 17............Val acc: 0.3192\n",
      "Epoch 18............Val acc: 0.3291\n",
      "Epoch 19............Val acc: 0.3386\n",
      "Epoch 20............Val acc: 0.343\n",
      "Epoch 21............Val acc: 0.3518\n",
      "Epoch 22............Val acc: 0.3546\n",
      "Epoch 23............Val acc: 0.3626\n",
      "Epoch 24............Val acc: 0.3683\n",
      "Epoch 25............Val acc: 0.3724\n",
      "Epoch 26............Val acc: 0.3767\n",
      "Epoch 27............Val acc: 0.3774\n",
      "Epoch 28............Val acc: 0.3859\n",
      "Epoch 29............Val acc: 0.3897\n",
      "Epoch 30............Val acc: 0.3916\n",
      "Epoch 31............Val acc: 0.3973\n",
      "Epoch 32............Val acc: 0.3975\n",
      "Epoch 33............Val acc: 0.402\n",
      "Epoch 34............Val acc: 0.4044\n",
      "Epoch 35............Val acc: 0.407\n",
      "Epoch 36............Val acc: 0.4062\n",
      "Epoch 37............Val acc: 0.4105\n",
      "Epoch 38............Val acc: 0.4129\n",
      "Epoch 39............Val acc: 0.4147\n",
      "Epoch 40............Val acc: 0.4178\n",
      "Epoch 41............Val acc: 0.4198\n",
      "Epoch 42............Val acc: 0.422\n",
      "Epoch 43............Val acc: 0.4237\n",
      "Epoch 44............Val acc: 0.4287\n",
      "Epoch 45............Val acc: 0.4295\n",
      "Epoch 46............Val acc: 0.4319\n",
      "Epoch 47............Val acc: 0.4352\n",
      "Epoch 48............Val acc: 0.4378\n",
      "Epoch 49............Val acc: 0.4393\n",
      "Epoch 50............Val acc: 0.4411\n",
      "Epoch 51............Val acc: 0.4426\n",
      "Epoch 52............Val acc: 0.446\n",
      "Epoch 53............Val acc: 0.4467\n",
      "Epoch 54............Val acc: 0.4479\n",
      "Epoch 55............Val acc: 0.4499\n",
      "Epoch 56............Val acc: 0.4499\n",
      "Epoch 57............Val acc: 0.4539\n",
      "Epoch 58............Val acc: 0.4546\n",
      "Epoch 59............Val acc: 0.4548\n",
      "Epoch 60............Val acc: 0.4573\n",
      "Epoch 61............Val acc: 0.4574\n",
      "Epoch 62............Val acc: 0.4565\n",
      "Epoch 63............Val acc: 0.4582\n",
      "Epoch 64............Val acc: 0.456\n",
      "Epoch 65............Val acc: 0.4597\n",
      "Epoch 66............Val acc: 0.4608\n",
      "Epoch 67............Val acc: 0.4621\n",
      "Epoch 68............Val acc: 0.4637\n",
      "Epoch 69............Val acc: 0.4635\n",
      "Epoch 70............Val acc: 0.4645\n",
      "Epoch 71............Val acc: 0.467\n",
      "Epoch 72............Val acc: 0.4683\n",
      "Epoch 73............Val acc: 0.4685\n",
      "Epoch 74............Val acc: 0.4699\n",
      "Epoch 75............Val acc: 0.4709\n",
      "Epoch 76............Val acc: 0.4711\n",
      "Epoch 77............Val acc: 0.4723\n",
      "Epoch 78............Val acc: 0.473\n",
      "Epoch 79............Val acc: 0.4735\n",
      "Epoch 80............Val acc: 0.4742\n",
      "Epoch 81............Val acc: 0.4746\n",
      "Epoch 82............Val acc: 0.475\n",
      "Epoch 83............Val acc: 0.4764\n",
      "Epoch 84............Val acc: 0.4771\n",
      "Epoch 85............Val acc: 0.4773\n",
      "Epoch 86............Val acc: 0.478\n",
      "Epoch 87............Val acc: 0.4781\n",
      "Epoch 88............Val acc: 0.4796\n",
      "Epoch 89............Val acc: 0.4812\n",
      "Epoch 90............Val acc: 0.482\n",
      "Epoch 91............Val acc: 0.4826\n",
      "Epoch 92............Val acc: 0.4828\n",
      "Epoch 93............Val acc: 0.4833\n",
      "Epoch 94............Val acc: 0.4844\n",
      "Epoch 95............Val acc: 0.4846\n",
      "Epoch 96............Val acc: 0.4848\n",
      "Epoch 97............Val acc: 0.4854\n",
      "Epoch 98............Val acc: 0.4864\n",
      "Epoch 99............Val acc: 0.4869\n"
     ]
    }
   ],
   "source": [
    "history = net.train(\n",
    "    x_train, y_train,\n",
    "    x_test, y_test, epochs,\n",
    "    batch_size, lr\n",
    ")"
   ]
  },
  {
   "cell_type": "markdown",
   "metadata": {},
   "source": [
    "# Task 9: Results"
   ]
  },
  {
   "cell_type": "code",
   "execution_count": 7,
   "metadata": {},
   "outputs": [
    {
     "data": {
      "image/png": "[encoded data removed]",
      "text/plain": [
       "<Figure size 864x288 with 2 Axes>"
      ]
     },
     "metadata": {
      "needs_background": "light"
     },
     "output_type": "display_data"
    }
   ],
   "source": [
    "nn_utils.plot_results(history).show()"
   ]
  },
  {
   "cell_type": "code",
   "execution_count": 8,
   "metadata": {},
   "outputs": [],
   "source": [
    "pred = net.predict(x_test)"
   ]
  },
  {
   "cell_type": "code",
   "execution_count": 9,
   "metadata": {},
   "outputs": [
    {
     "data": {
      "image/png": "[encoded data removed]",
      "text/plain": [
       "<Figure size 720x360 with 10 Axes>"
      ]
     },
     "metadata": {},
     "output_type": "display_data"
    }
   ],
   "source": [
    "nn_utils.plot_random_examples(x_test, y_test, pred.numpy()).show()"
   ]
  },
  {
   "cell_type": "code",
   "execution_count": null,
   "metadata": {},
   "outputs": [],
   "source": []
  }
 ],
 "metadata": {
  "kernelspec": {
   "display_name": "Python 3 (ipykernel)",
   "language": "python",
   "name": "python3"
  },
  "language_info": {
   "codemirror_mode": {
    "name": "ipython",
    "version": 3
   },
   "file_extension": ".py",
   "mimetype": "text/x-python",
   "name": "python",
   "nbconvert_exporter": "python",
   "pygments_lexer": "ipython3",
   "version": "3.10.2"
  }
 },
 "nbformat": 4,
 "nbformat_minor": 2
}
