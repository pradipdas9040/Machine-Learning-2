{
  "nbformat": 4,
  "nbformat_minor": 0,
  "metadata": {
    "kernelspec": {
      "display_name": "Python 3",
      "language": "python",
      "name": "python3"
    },
    "language_info": {
      "codemirror_mode": {
        "name": "ipython",
        "version": 3
      },
      "file_extension": ".py",
      "mimetype": "text/x-python",
      "name": "python",
      "nbconvert_exporter": "python",
      "pygments_lexer": "ipython3",
      "version": "3.9.1"
    },
    "colab": {
      "provenance": [],
      "collapsed_sections": []
    }
  },
  "cells": [
    {
      "cell_type": "code",
      "metadata": {
        "id": "dpFYlbUA4Ibw"
      },
      "source": [
        "import numpy as np\n",
        "from sklearn.datasets import make_circles\n",
        "from scipy.spatial.distance import cdist\n",
        "import matplotlib.pyplot as plt"
      ],
      "execution_count": 1,
      "outputs": []
    },
    {
      "cell_type": "code",
      "metadata": {
        "id": "MXCSXnCy4Iby",
        "colab": {
          "base_uri": "https://localhost:8080/",
          "height": 265
        },
        "outputId": "b5111430-f4cc-42fe-fd2d-70adcfcfa3bd"
      },
      "source": [
        "X, y = make_circles(n_samples=100, shuffle=True, noise=None, random_state=None, factor=0.2)\n",
        "# factor : float, default=0.8\n",
        "#    Scale factor between inner and outer circle in the range (0, 1).\n",
        "\n",
        "\n",
        "for i in range(2):\n",
        "    plt.scatter(X[y==i,0], X[y==i,1])\n",
        "plt.show()\n"
      ],
      "execution_count": 2,
      "outputs": [
        {
          "output_type": "display_data",
          "data": {
            "text/plain": [
              "<Figure size 432x288 with 1 Axes>"
            ],
            "image/png": "[encoded data removed]"
          },
          "metadata": {
            "needs_background": "light"
          }
        }
      ]
    },
    {
      "cell_type": "code",
      "metadata": {
        "id": "aj2thNRG4Ib1"
      },
      "source": [
        "def kernel_kmeans(X, n_clusters, sigma=1, max_iter=100, n_init=10, tol=1e-7):\n",
        "    '''Kernel k-Means Clustering\n",
        "    Parameters\n",
        "    ----------\n",
        "    X : array, shape (n_data_points, n_features)\n",
        "        The data array.\n",
        "    n_clusters : int\n",
        "        The number of clusters.\n",
        "    sigma : float\n",
        "        Parameter for the Gaussian Kernel.\n",
        "        K(a,b) = np.exp(-(a-b)**2 / (2 * (sigma ** 2)))\n",
        "    max_iter: int, default: 100\n",
        "        The maximum number of iterations of the Kernel k-Means algorithm.\n",
        "    n_init: int, default 10\n",
        "        The number of runs of the Kernel k-Means algorithm.\n",
        "        The results corresponding to the minimum cost will be returned.\n",
        "    tol: float, default 1e-7\n",
        "        Tolerance for convergence.\n",
        "    Returns\n",
        "    -------\n",
        "    mincost_mem: array, shape (n_data_points)\n",
        "        The resulting cluster memberships.\n",
        "    min_cost: float\n",
        "        The lowest cost achieved in n_init runs.\n",
        "    '''\n",
        "\n",
        "    K = np.exp(-cdist(X, X, metric='sqeuclidean') / (2 * (sigma ** 2)))\n",
        "    K_diag = np.diag(K) # Diagonal gives K(x_i,x_i) for all i\n",
        "    min_cost = +np.inf\n",
        "    for _ in range(n_init):\n",
        "        cost = +np.inf\n",
        "        mem = np.random.randint(0, n_clusters, X.shape[0])\n",
        "        for v_iter in range(max_iter):\n",
        "            # Compute distances\n",
        "            dist = np.zeros((X.shape[0], n_clusters))\n",
        "            for j in range(n_clusters):\n",
        "                if (mem == j).sum() > 0:\n",
        "                    dist[:, j] = (\n",
        "                        K_diag    # K(x_i,x_i) for all i\n",
        "                        - (2 * K[:, mem == j].sum(axis=1) / (mem == j).sum())\n",
        "                        + (K[:, mem == j][mem == j, :].sum()\n",
        "                            / ((mem == j).sum() ** 2))\n",
        "                    )\n",
        "            # Update membership\n",
        "            mem = dist.argmin(axis=1)\n",
        "            # Check for convergence\n",
        "            prev_cost = cost\n",
        "            cost = dist[np.arange(X.shape[0]), mem].sum()\n",
        "            if prev_cost - cost < tol:\n",
        "                break\n",
        "        if min_cost > cost:\n",
        "            min_cost = cost\n",
        "            mincost_mem = np.array(mem)\n",
        "    return mincost_mem, min_cost"
      ],
      "execution_count": 3,
      "outputs": []
    },
    {
      "cell_type": "code",
      "metadata": {
        "id": "yQ_JFIGi4Ib2",
        "colab": {
          "base_uri": "https://localhost:8080/",
          "height": 265
        },
        "outputId": "b75cfbaf-eafb-4897-fa9c-c58daafb497e"
      },
      "source": [
        "# With an appropriate sigma, the circles can be identified separately\n",
        "\n",
        "k = 2\n",
        "mem, cost = kernel_kmeans(X, n_clusters=k, sigma=0.3)\n",
        "\n",
        "for i in range(2):\n",
        "    plt.scatter(X[mem==i,0], X[mem==i,1])\n",
        "plt.show()"
      ],
      "execution_count": 4,
      "outputs": [
        {
          "output_type": "display_data",
          "data": {
            "text/plain": [
              "<Figure size 432x288 with 1 Axes>"
            ],
            "image/png": "[encoded data removed]"
          },
          "metadata": {
            "needs_background": "light"
          }
        }
      ]
    },
    {
      "cell_type": "code",
      "metadata": {
        "id": "wh9b2-qj4Ib2",
        "colab": {
          "base_uri": "https://localhost:8080/",
          "height": 265
        },
        "outputId": "8db290d3-da81-45a1-8c27-6df231b24779"
      },
      "source": [
        "# High sigma leads to behaviour similar to Euclidean distance\n",
        "\n",
        "k = 2\n",
        "mem, cost = kernel_kmeans(X, n_clusters=k, sigma=4.2)\n",
        "\n",
        "for i in range(2):\n",
        "    plt.scatter(X[mem==i,0], X[mem==i,1])\n",
        "plt.show()"
      ],
      "execution_count": 5,
      "outputs": [
        {
          "output_type": "display_data",
          "data": {
            "text/plain": [
              "<Figure size 432x288 with 1 Axes>"
            ],
            "image/png": "[encoded data removed]"
          },
          "metadata": {
            "needs_background": "light"
          }
        }
      ]
    },
    {
      "cell_type": "code",
      "metadata": {
        "id": "5yrNrRg-4Ib3"
      },
      "source": [],
      "execution_count": null,
      "outputs": []
    }
  ]
}