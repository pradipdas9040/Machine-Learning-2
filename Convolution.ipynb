{
  "nbformat": 4,
  "nbformat_minor": 0,
  "metadata": {
    "colab": {
      "provenance": []
    },
    "kernelspec": {
      "name": "python3",
      "display_name": "Python 3"
    },
    "language_info": {
      "name": "python"
    },
    "widgets": {
      "application/vnd.jupyter.widget-state+json": {
        "43d6ca5f64ed40dd8a5e19605a29870e": {
          "model_module": "@jupyter-widgets/controls",
          "model_name": "HBoxModel",
          "model_module_version": "1.5.0",
          "state": {
            "_dom_classes": [],
            "_model_module": "@jupyter-widgets/controls",
            "_model_module_version": "1.5.0",
            "_model_name": "HBoxModel",
            "_view_count": null,
            "_view_module": "@jupyter-widgets/controls",
            "_view_module_version": "1.5.0",
            "_view_name": "HBoxView",
            "box_style": "",
            "children": [
              "IPY_MODEL_a5cb3bdf9e0242f6ad4a3520ffaec762",
              "IPY_MODEL_bf1767521b5847808075c42ae6ac9b80",
              "IPY_MODEL_be2ab8fccffe4e9fa5f418e7056242ee"
            ],
            "layout": "IPY_MODEL_2b768dafb2ae4de88674112ccb2fba94"
          }
        },
        "a5cb3bdf9e0242f6ad4a3520ffaec762": {
          "model_module": "@jupyter-widgets/controls",
          "model_name": "HTMLModel",
          "model_module_version": "1.5.0",
          "state": {
            "_dom_classes": [],
            "_model_module": "@jupyter-widgets/controls",
            "_model_module_version": "1.5.0",
            "_model_name": "HTMLModel",
            "_view_count": null,
            "_view_module": "@jupyter-widgets/controls",
            "_view_module_version": "1.5.0",
            "_view_name": "HTMLView",
            "description": "",
            "description_tooltip": null,
            "layout": "IPY_MODEL_b26c29c4793f41f99edfeccd40395ae0",
            "placeholder": "​",
            "style": "IPY_MODEL_180049c06f434898ad9928af460d3b5c",
            "value": "100%"
          }
        },
        "bf1767521b5847808075c42ae6ac9b80": {
          "model_module": "@jupyter-widgets/controls",
          "model_name": "FloatProgressModel",
          "model_module_version": "1.5.0",
          "state": {
            "_dom_classes": [],
            "_model_module": "@jupyter-widgets/controls",
            "_model_module_version": "1.5.0",
            "_model_name": "FloatProgressModel",
            "_view_count": null,
            "_view_module": "@jupyter-widgets/controls",
            "_view_module_version": "1.5.0",
            "_view_name": "ProgressView",
            "bar_style": "success",
            "description": "",
            "description_tooltip": null,
            "layout": "IPY_MODEL_5a9280271e424210ab964c0ff9e56e40",
            "max": 9912422,
            "min": 0,
            "orientation": "horizontal",
            "style": "IPY_MODEL_383aac50ac0e4eda8bf081f2b901f4c0",
            "value": 9912422
          }
        },
        "be2ab8fccffe4e9fa5f418e7056242ee": {
          "model_module": "@jupyter-widgets/controls",
          "model_name": "HTMLModel",
          "model_module_version": "1.5.0",
          "state": {
            "_dom_classes": [],
            "_model_module": "@jupyter-widgets/controls",
            "_model_module_version": "1.5.0",
            "_model_name": "HTMLModel",
            "_view_count": null,
            "_view_module": "@jupyter-widgets/controls",
            "_view_module_version": "1.5.0",
            "_view_name": "HTMLView",
            "description": "",
            "description_tooltip": null,
            "layout": "IPY_MODEL_af52ae33a0324aaab818c8c603705987",
            "placeholder": "​",
            "style": "IPY_MODEL_4790680ea27c497bb065002a76be78e4",
            "value": " 9912422/9912422 [00:00&lt;00:00, 137946094.09it/s]"
          }
        },
        "2b768dafb2ae4de88674112ccb2fba94": {
          "model_module": "@jupyter-widgets/base",
          "model_name": "LayoutModel",
          "model_module_version": "1.2.0",
          "state": {
            "_model_module": "@jupyter-widgets/base",
            "_model_module_version": "1.2.0",
            "_model_name": "LayoutModel",
            "_view_count": null,
            "_view_module": "@jupyter-widgets/base",
            "_view_module_version": "1.2.0",
            "_view_name": "LayoutView",
            "align_content": null,
            "align_items": null,
            "align_self": null,
            "border": null,
            "bottom": null,
            "display": null,
            "flex": null,
            "flex_flow": null,
            "grid_area": null,
            "grid_auto_columns": null,
            "grid_auto_flow": null,
            "grid_auto_rows": null,
            "grid_column": null,
            "grid_gap": null,
            "grid_row": null,
            "grid_template_areas": null,
            "grid_template_columns": null,
            "grid_template_rows": null,
            "height": null,
            "justify_content": null,
            "justify_items": null,
            "left": null,
            "margin": null,
            "max_height": null,
            "max_width": null,
            "min_height": null,
            "min_width": null,
            "object_fit": null,
            "object_position": null,
            "order": null,
            "overflow": null,
            "overflow_x": null,
            "overflow_y": null,
            "padding": null,
            "right": null,
            "top": null,
            "visibility": null,
            "width": null
          }
        },
        "b26c29c4793f41f99edfeccd40395ae0": {
          "model_module": "@jupyter-widgets/base",
          "model_name": "LayoutModel",
          "model_module_version": "1.2.0",
          "state": {
            "_model_module": "@jupyter-widgets/base",
            "_model_module_version": "1.2.0",
            "_model_name": "LayoutModel",
            "_view_count": null,
            "_view_module": "@jupyter-widgets/base",
            "_view_module_version": "1.2.0",
            "_view_name": "LayoutView",
            "align_content": null,
            "align_items": null,
            "align_self": null,
            "border": null,
            "bottom": null,
            "display": null,
            "flex": null,
            "flex_flow": null,
            "grid_area": null,
            "grid_auto_columns": null,
            "grid_auto_flow": null,
            "grid_auto_rows": null,
            "grid_column": null,
            "grid_gap": null,
            "grid_row": null,
            "grid_template_areas": null,
            "grid_template_columns": null,
            "grid_template_rows": null,
            "height": null,
            "justify_content": null,
            "justify_items": null,
            "left": null,
            "margin": null,
            "max_height": null,
            "max_width": null,
            "min_height": null,
            "min_width": null,
            "object_fit": null,
            "object_position": null,
            "order": null,
            "overflow": null,
            "overflow_x": null,
            "overflow_y": null,
            "padding": null,
            "right": null,
            "top": null,
            "visibility": null,
            "width": null
          }
        },
        "180049c06f434898ad9928af460d3b5c": {
          "model_module": "@jupyter-widgets/controls",
          "model_name": "DescriptionStyleModel",
          "model_module_version": "1.5.0",
          "state": {
            "_model_module": "@jupyter-widgets/controls",
            "_model_module_version": "1.5.0",
            "_model_name": "DescriptionStyleModel",
            "_view_count": null,
            "_view_module": "@jupyter-widgets/base",
            "_view_module_version": "1.2.0",
            "_view_name": "StyleView",
            "description_width": ""
          }
        },
        "5a9280271e424210ab964c0ff9e56e40": {
          "model_module": "@jupyter-widgets/base",
          "model_name": "LayoutModel",
          "model_module_version": "1.2.0",
          "state": {
            "_model_module": "@jupyter-widgets/base",
            "_model_module_version": "1.2.0",
            "_model_name": "LayoutModel",
            "_view_count": null,
            "_view_module": "@jupyter-widgets/base",
            "_view_module_version": "1.2.0",
            "_view_name": "LayoutView",
            "align_content": null,
            "align_items": null,
            "align_self": null,
            "border": null,
            "bottom": null,
            "display": null,
            "flex": null,
            "flex_flow": null,
            "grid_area": null,
            "grid_auto_columns": null,
            "grid_auto_flow": null,
            "grid_auto_rows": null,
            "grid_column": null,
            "grid_gap": null,
            "grid_row": null,
            "grid_template_areas": null,
            "grid_template_columns": null,
            "grid_template_rows": null,
            "height": null,
            "justify_content": null,
            "justify_items": null,
            "left": null,
            "margin": null,
            "max_height": null,
            "max_width": null,
            "min_height": null,
            "min_width": null,
            "object_fit": null,
            "object_position": null,
            "order": null,
            "overflow": null,
            "overflow_x": null,
            "overflow_y": null,
            "padding": null,
            "right": null,
            "top": null,
            "visibility": null,
            "width": null
          }
        },
        "383aac50ac0e4eda8bf081f2b901f4c0": {
          "model_module": "@jupyter-widgets/controls",
          "model_name": "ProgressStyleModel",
          "model_module_version": "1.5.0",
          "state": {
            "_model_module": "@jupyter-widgets/controls",
            "_model_module_version": "1.5.0",
            "_model_name": "ProgressStyleModel",
            "_view_count": null,
            "_view_module": "@jupyter-widgets/base",
            "_view_module_version": "1.2.0",
            "_view_name": "StyleView",
            "bar_color": null,
            "description_width": ""
          }
        },
        "af52ae33a0324aaab818c8c603705987": {
          "model_module": "@jupyter-widgets/base",
          "model_name": "LayoutModel",
          "model_module_version": "1.2.0",
          "state": {
            "_model_module": "@jupyter-widgets/base",
            "_model_module_version": "1.2.0",
            "_model_name": "LayoutModel",
            "_view_count": null,
            "_view_module": "@jupyter-widgets/base",
            "_view_module_version": "1.2.0",
            "_view_name": "LayoutView",
            "align_content": null,
            "align_items": null,
            "align_self": null,
            "border": null,
            "bottom": null,
            "display": null,
            "flex": null,
            "flex_flow": null,
            "grid_area": null,
            "grid_auto_columns": null,
            "grid_auto_flow": null,
            "grid_auto_rows": null,
            "grid_column": null,
            "grid_gap": null,
            "grid_row": null,
            "grid_template_areas": null,
            "grid_template_columns": null,
            "grid_template_rows": null,
            "height": null,
            "justify_content": null,
            "justify_items": null,
            "left": null,
            "margin": null,
            "max_height": null,
            "max_width": null,
            "min_height": null,
            "min_width": null,
            "object_fit": null,
            "object_position": null,
            "order": null,
            "overflow": null,
            "overflow_x": null,
            "overflow_y": null,
            "padding": null,
            "right": null,
            "top": null,
            "visibility": null,
            "width": null
          }
        },
        "4790680ea27c497bb065002a76be78e4": {
          "model_module": "@jupyter-widgets/controls",
          "model_name": "DescriptionStyleModel",
          "model_module_version": "1.5.0",
          "state": {
            "_model_module": "@jupyter-widgets/controls",
            "_model_module_version": "1.5.0",
            "_model_name": "DescriptionStyleModel",
            "_view_count": null,
            "_view_module": "@jupyter-widgets/base",
            "_view_module_version": "1.2.0",
            "_view_name": "StyleView",
            "description_width": ""
          }
        },
        "7459143abdce48c2a171f028093816b4": {
          "model_module": "@jupyter-widgets/controls",
          "model_name": "HBoxModel",
          "model_module_version": "1.5.0",
          "state": {
            "_dom_classes": [],
            "_model_module": "@jupyter-widgets/controls",
            "_model_module_version": "1.5.0",
            "_model_name": "HBoxModel",
            "_view_count": null,
            "_view_module": "@jupyter-widgets/controls",
            "_view_module_version": "1.5.0",
            "_view_name": "HBoxView",
            "box_style": "",
            "children": [
              "IPY_MODEL_0976922316d8435ea9eb8d69aefdc161",
              "IPY_MODEL_e05e108e7c074e318c61b1928cc27123",
              "IPY_MODEL_bc89c828d8af4fab9e011a9c5593f38e"
            ],
            "layout": "IPY_MODEL_92d9da7b27cb47e88f30a75bfbea87db"
          }
        },
        "0976922316d8435ea9eb8d69aefdc161": {
          "model_module": "@jupyter-widgets/controls",
          "model_name": "HTMLModel",
          "model_module_version": "1.5.0",
          "state": {
            "_dom_classes": [],
            "_model_module": "@jupyter-widgets/controls",
            "_model_module_version": "1.5.0",
            "_model_name": "HTMLModel",
            "_view_count": null,
            "_view_module": "@jupyter-widgets/controls",
            "_view_module_version": "1.5.0",
            "_view_name": "HTMLView",
            "description": "",
            "description_tooltip": null,
            "layout": "IPY_MODEL_41126d5d851a46cd810c4c901cea5e97",
            "placeholder": "​",
            "style": "IPY_MODEL_2d852244caf44bdb8f1772cb84c922c5",
            "value": "100%"
          }
        },
        "e05e108e7c074e318c61b1928cc27123": {
          "model_module": "@jupyter-widgets/controls",
          "model_name": "FloatProgressModel",
          "model_module_version": "1.5.0",
          "state": {
            "_dom_classes": [],
            "_model_module": "@jupyter-widgets/controls",
            "_model_module_version": "1.5.0",
            "_model_name": "FloatProgressModel",
            "_view_count": null,
            "_view_module": "@jupyter-widgets/controls",
            "_view_module_version": "1.5.0",
            "_view_name": "ProgressView",
            "bar_style": "success",
            "description": "",
            "description_tooltip": null,
            "layout": "IPY_MODEL_a0300f2c3d2246739565946f941634f4",
            "max": 28881,
            "min": 0,
            "orientation": "horizontal",
            "style": "IPY_MODEL_a3a3943a93c4487fa6cb3f4ea6314efa",
            "value": 28881
          }
        },
        "bc89c828d8af4fab9e011a9c5593f38e": {
          "model_module": "@jupyter-widgets/controls",
          "model_name": "HTMLModel",
          "model_module_version": "1.5.0",
          "state": {
            "_dom_classes": [],
            "_model_module": "@jupyter-widgets/controls",
            "_model_module_version": "1.5.0",
            "_model_name": "HTMLModel",
            "_view_count": null,
            "_view_module": "@jupyter-widgets/controls",
            "_view_module_version": "1.5.0",
            "_view_name": "HTMLView",
            "description": "",
            "description_tooltip": null,
            "layout": "IPY_MODEL_36a8dd9a7e0a4330920f814e18ca6b2a",
            "placeholder": "​",
            "style": "IPY_MODEL_0e71eed378b9445cb825e2a74c185f72",
            "value": " 28881/28881 [00:00&lt;00:00, 689811.30it/s]"
          }
        },
        "92d9da7b27cb47e88f30a75bfbea87db": {
          "model_module": "@jupyter-widgets/base",
          "model_name": "LayoutModel",
          "model_module_version": "1.2.0",
          "state": {
            "_model_module": "@jupyter-widgets/base",
            "_model_module_version": "1.2.0",
            "_model_name": "LayoutModel",
            "_view_count": null,
            "_view_module": "@jupyter-widgets/base",
            "_view_module_version": "1.2.0",
            "_view_name": "LayoutView",
            "align_content": null,
            "align_items": null,
            "align_self": null,
            "border": null,
            "bottom": null,
            "display": null,
            "flex": null,
            "flex_flow": null,
            "grid_area": null,
            "grid_auto_columns": null,
            "grid_auto_flow": null,
            "grid_auto_rows": null,
            "grid_column": null,
            "grid_gap": null,
            "grid_row": null,
            "grid_template_areas": null,
            "grid_template_columns": null,
            "grid_template_rows": null,
            "height": null,
            "justify_content": null,
            "justify_items": null,
            "left": null,
            "margin": null,
            "max_height": null,
            "max_width": null,
            "min_height": null,
            "min_width": null,
            "object_fit": null,
            "object_position": null,
            "order": null,
            "overflow": null,
            "overflow_x": null,
            "overflow_y": null,
            "padding": null,
            "right": null,
            "top": null,
            "visibility": null,
            "width": null
          }
        },
        "41126d5d851a46cd810c4c901cea5e97": {
          "model_module": "@jupyter-widgets/base",
          "model_name": "LayoutModel",
          "model_module_version": "1.2.0",
          "state": {
            "_model_module": "@jupyter-widgets/base",
            "_model_module_version": "1.2.0",
            "_model_name": "LayoutModel",
            "_view_count": null,
            "_view_module": "@jupyter-widgets/base",
            "_view_module_version": "1.2.0",
            "_view_name": "LayoutView",
            "align_content": null,
            "align_items": null,
            "align_self": null,
            "border": null,
            "bottom": null,
            "display": null,
            "flex": null,
            "flex_flow": null,
            "grid_area": null,
            "grid_auto_columns": null,
            "grid_auto_flow": null,
            "grid_auto_rows": null,
            "grid_column": null,
            "grid_gap": null,
            "grid_row": null,
            "grid_template_areas": null,
            "grid_template_columns": null,
            "grid_template_rows": null,
            "height": null,
            "justify_content": null,
            "justify_items": null,
            "left": null,
            "margin": null,
            "max_height": null,
            "max_width": null,
            "min_height": null,
            "min_width": null,
            "object_fit": null,
            "object_position": null,
            "order": null,
            "overflow": null,
            "overflow_x": null,
            "overflow_y": null,
            "padding": null,
            "right": null,
            "top": null,
            "visibility": null,
            "width": null
          }
        },
        "2d852244caf44bdb8f1772cb84c922c5": {
          "model_module": "@jupyter-widgets/controls",
          "model_name": "DescriptionStyleModel",
          "model_module_version": "1.5.0",
          "state": {
            "_model_module": "@jupyter-widgets/controls",
            "_model_module_version": "1.5.0",
            "_model_name": "DescriptionStyleModel",
            "_view_count": null,
            "_view_module": "@jupyter-widgets/base",
            "_view_module_version": "1.2.0",
            "_view_name": "StyleView",
            "description_width": ""
          }
        },
        "a0300f2c3d2246739565946f941634f4": {
          "model_module": "@jupyter-widgets/base",
          "model_name": "LayoutModel",
          "model_module_version": "1.2.0",
          "state": {
            "_model_module": "@jupyter-widgets/base",
            "_model_module_version": "1.2.0",
            "_model_name": "LayoutModel",
            "_view_count": null,
            "_view_module": "@jupyter-widgets/base",
            "_view_module_version": "1.2.0",
            "_view_name": "LayoutView",
            "align_content": null,
            "align_items": null,
            "align_self": null,
            "border": null,
            "bottom": null,
            "display": null,
            "flex": null,
            "flex_flow": null,
            "grid_area": null,
            "grid_auto_columns": null,
            "grid_auto_flow": null,
            "grid_auto_rows": null,
            "grid_column": null,
            "grid_gap": null,
            "grid_row": null,
            "grid_template_areas": null,
            "grid_template_columns": null,
            "grid_template_rows": null,
            "height": null,
            "justify_content": null,
            "justify_items": null,
            "left": null,
            "margin": null,
            "max_height": null,
            "max_width": null,
            "min_height": null,
            "min_width": null,
            "object_fit": null,
            "object_position": null,
            "order": null,
            "overflow": null,
            "overflow_x": null,
            "overflow_y": null,
            "padding": null,
            "right": null,
            "top": null,
            "visibility": null,
            "width": null
          }
        },
        "a3a3943a93c4487fa6cb3f4ea6314efa": {
          "model_module": "@jupyter-widgets/controls",
          "model_name": "ProgressStyleModel",
          "model_module_version": "1.5.0",
          "state": {
            "_model_module": "@jupyter-widgets/controls",
            "_model_module_version": "1.5.0",
            "_model_name": "ProgressStyleModel",
            "_view_count": null,
            "_view_module": "@jupyter-widgets/base",
            "_view_module_version": "1.2.0",
            "_view_name": "StyleView",
            "bar_color": null,
            "description_width": ""
          }
        },
        "36a8dd9a7e0a4330920f814e18ca6b2a": {
          "model_module": "@jupyter-widgets/base",
          "model_name": "LayoutModel",
          "model_module_version": "1.2.0",
          "state": {
            "_model_module": "@jupyter-widgets/base",
            "_model_module_version": "1.2.0",
            "_model_name": "LayoutModel",
            "_view_count": null,
            "_view_module": "@jupyter-widgets/base",
            "_view_module_version": "1.2.0",
            "_view_name": "LayoutView",
            "align_content": null,
            "align_items": null,
            "align_self": null,
            "border": null,
            "bottom": null,
            "display": null,
            "flex": null,
            "flex_flow": null,
            "grid_area": null,
            "grid_auto_columns": null,
            "grid_auto_flow": null,
            "grid_auto_rows": null,
            "grid_column": null,
            "grid_gap": null,
            "grid_row": null,
            "grid_template_areas": null,
            "grid_template_columns": null,
            "grid_template_rows": null,
            "height": null,
            "justify_content": null,
            "justify_items": null,
            "left": null,
            "margin": null,
            "max_height": null,
            "max_width": null,
            "min_height": null,
            "min_width": null,
            "object_fit": null,
            "object_position": null,
            "order": null,
            "overflow": null,
            "overflow_x": null,
            "overflow_y": null,
            "padding": null,
            "right": null,
            "top": null,
            "visibility": null,
            "width": null
          }
        },
        "0e71eed378b9445cb825e2a74c185f72": {
          "model_module": "@jupyter-widgets/controls",
          "model_name": "DescriptionStyleModel",
          "model_module_version": "1.5.0",
          "state": {
            "_model_module": "@jupyter-widgets/controls",
            "_model_module_version": "1.5.0",
            "_model_name": "DescriptionStyleModel",
            "_view_count": null,
            "_view_module": "@jupyter-widgets/base",
            "_view_module_version": "1.2.0",
            "_view_name": "StyleView",
            "description_width": ""
          }
        },
        "d0f60c9e588146f6b84cf632dc2be15c": {
          "model_module": "@jupyter-widgets/controls",
          "model_name": "HBoxModel",
          "model_module_version": "1.5.0",
          "state": {
            "_dom_classes": [],
            "_model_module": "@jupyter-widgets/controls",
            "_model_module_version": "1.5.0",
            "_model_name": "HBoxModel",
            "_view_count": null,
            "_view_module": "@jupyter-widgets/controls",
            "_view_module_version": "1.5.0",
            "_view_name": "HBoxView",
            "box_style": "",
            "children": [
              "IPY_MODEL_b1d9e50d411a4a73bb90e8b03560911f",
              "IPY_MODEL_78976e717b874739a4bc568dc4a1a764",
              "IPY_MODEL_3979a4fd51214164830d61263315cbc6"
            ],
            "layout": "IPY_MODEL_46b22c39572a4c5d81e398aa07e2aecd"
          }
        },
        "b1d9e50d411a4a73bb90e8b03560911f": {
          "model_module": "@jupyter-widgets/controls",
          "model_name": "HTMLModel",
          "model_module_version": "1.5.0",
          "state": {
            "_dom_classes": [],
            "_model_module": "@jupyter-widgets/controls",
            "_model_module_version": "1.5.0",
            "_model_name": "HTMLModel",
            "_view_count": null,
            "_view_module": "@jupyter-widgets/controls",
            "_view_module_version": "1.5.0",
            "_view_name": "HTMLView",
            "description": "",
            "description_tooltip": null,
            "layout": "IPY_MODEL_62d912a1dff348dd9bce75d120d73b02",
            "placeholder": "​",
            "style": "IPY_MODEL_46db3375e20e4c459a62f0730b26c779",
            "value": "100%"
          }
        },
        "78976e717b874739a4bc568dc4a1a764": {
          "model_module": "@jupyter-widgets/controls",
          "model_name": "FloatProgressModel",
          "model_module_version": "1.5.0",
          "state": {
            "_dom_classes": [],
            "_model_module": "@jupyter-widgets/controls",
            "_model_module_version": "1.5.0",
            "_model_name": "FloatProgressModel",
            "_view_count": null,
            "_view_module": "@jupyter-widgets/controls",
            "_view_module_version": "1.5.0",
            "_view_name": "ProgressView",
            "bar_style": "success",
            "description": "",
            "description_tooltip": null,
            "layout": "IPY_MODEL_e6a1bd6a5b9f4bee8a3c793355355f44",
            "max": 1648877,
            "min": 0,
            "orientation": "horizontal",
            "style": "IPY_MODEL_769d8766e4c440458f7e2d11b17bfb9e",
            "value": 1648877
          }
        },
        "3979a4fd51214164830d61263315cbc6": {
          "model_module": "@jupyter-widgets/controls",
          "model_name": "HTMLModel",
          "model_module_version": "1.5.0",
          "state": {
            "_dom_classes": [],
            "_model_module": "@jupyter-widgets/controls",
            "_model_module_version": "1.5.0",
            "_model_name": "HTMLModel",
            "_view_count": null,
            "_view_module": "@jupyter-widgets/controls",
            "_view_module_version": "1.5.0",
            "_view_name": "HTMLView",
            "description": "",
            "description_tooltip": null,
            "layout": "IPY_MODEL_96d021e913e0498fa566ae2e5dc95a29",
            "placeholder": "​",
            "style": "IPY_MODEL_2898bf205a114bb683c6101ef46c17bc",
            "value": " 1648877/1648877 [00:00&lt;00:00, 26054050.56it/s]"
          }
        },
        "46b22c39572a4c5d81e398aa07e2aecd": {
          "model_module": "@jupyter-widgets/base",
          "model_name": "LayoutModel",
          "model_module_version": "1.2.0",
          "state": {
            "_model_module": "@jupyter-widgets/base",
            "_model_module_version": "1.2.0",
            "_model_name": "LayoutModel",
            "_view_count": null,
            "_view_module": "@jupyter-widgets/base",
            "_view_module_version": "1.2.0",
            "_view_name": "LayoutView",
            "align_content": null,
            "align_items": null,
            "align_self": null,
            "border": null,
            "bottom": null,
            "display": null,
            "flex": null,
            "flex_flow": null,
            "grid_area": null,
            "grid_auto_columns": null,
            "grid_auto_flow": null,
            "grid_auto_rows": null,
            "grid_column": null,
            "grid_gap": null,
            "grid_row": null,
            "grid_template_areas": null,
            "grid_template_columns": null,
            "grid_template_rows": null,
            "height": null,
            "justify_content": null,
            "justify_items": null,
            "left": null,
            "margin": null,
            "max_height": null,
            "max_width": null,
            "min_height": null,
            "min_width": null,
            "object_fit": null,
            "object_position": null,
            "order": null,
            "overflow": null,
            "overflow_x": null,
            "overflow_y": null,
            "padding": null,
            "right": null,
            "top": null,
            "visibility": null,
            "width": null
          }
        },
        "62d912a1dff348dd9bce75d120d73b02": {
          "model_module": "@jupyter-widgets/base",
          "model_name": "LayoutModel",
          "model_module_version": "1.2.0",
          "state": {
            "_model_module": "@jupyter-widgets/base",
            "_model_module_version": "1.2.0",
            "_model_name": "LayoutModel",
            "_view_count": null,
            "_view_module": "@jupyter-widgets/base",
            "_view_module_version": "1.2.0",
            "_view_name": "LayoutView",
            "align_content": null,
            "align_items": null,
            "align_self": null,
            "border": null,
            "bottom": null,
            "display": null,
            "flex": null,
            "flex_flow": null,
            "grid_area": null,
            "grid_auto_columns": null,
            "grid_auto_flow": null,
            "grid_auto_rows": null,
            "grid_column": null,
            "grid_gap": null,
            "grid_row": null,
            "grid_template_areas": null,
            "grid_template_columns": null,
            "grid_template_rows": null,
            "height": null,
            "justify_content": null,
            "justify_items": null,
            "left": null,
            "margin": null,
            "max_height": null,
            "max_width": null,
            "min_height": null,
            "min_width": null,
            "object_fit": null,
            "object_position": null,
            "order": null,
            "overflow": null,
            "overflow_x": null,
            "overflow_y": null,
            "padding": null,
            "right": null,
            "top": null,
            "visibility": null,
            "width": null
          }
        },
        "46db3375e20e4c459a62f0730b26c779": {
          "model_module": "@jupyter-widgets/controls",
          "model_name": "DescriptionStyleModel",
          "model_module_version": "1.5.0",
          "state": {
            "_model_module": "@jupyter-widgets/controls",
            "_model_module_version": "1.5.0",
            "_model_name": "DescriptionStyleModel",
            "_view_count": null,
            "_view_module": "@jupyter-widgets/base",
            "_view_module_version": "1.2.0",
            "_view_name": "StyleView",
            "description_width": ""
          }
        },
        "e6a1bd6a5b9f4bee8a3c793355355f44": {
          "model_module": "@jupyter-widgets/base",
          "model_name": "LayoutModel",
          "model_module_version": "1.2.0",
          "state": {
            "_model_module": "@jupyter-widgets/base",
            "_model_module_version": "1.2.0",
            "_model_name": "LayoutModel",
            "_view_count": null,
            "_view_module": "@jupyter-widgets/base",
            "_view_module_version": "1.2.0",
            "_view_name": "LayoutView",
            "align_content": null,
            "align_items": null,
            "align_self": null,
            "border": null,
            "bottom": null,
            "display": null,
            "flex": null,
            "flex_flow": null,
            "grid_area": null,
            "grid_auto_columns": null,
            "grid_auto_flow": null,
            "grid_auto_rows": null,
            "grid_column": null,
            "grid_gap": null,
            "grid_row": null,
            "grid_template_areas": null,
            "grid_template_columns": null,
            "grid_template_rows": null,
            "height": null,
            "justify_content": null,
            "justify_items": null,
            "left": null,
            "margin": null,
            "max_height": null,
            "max_width": null,
            "min_height": null,
            "min_width": null,
            "object_fit": null,
            "object_position": null,
            "order": null,
            "overflow": null,
            "overflow_x": null,
            "overflow_y": null,
            "padding": null,
            "right": null,
            "top": null,
            "visibility": null,
            "width": null
          }
        },
        "769d8766e4c440458f7e2d11b17bfb9e": {
          "model_module": "@jupyter-widgets/controls",
          "model_name": "ProgressStyleModel",
          "model_module_version": "1.5.0",
          "state": {
            "_model_module": "@jupyter-widgets/controls",
            "_model_module_version": "1.5.0",
            "_model_name": "ProgressStyleModel",
            "_view_count": null,
            "_view_module": "@jupyter-widgets/base",
            "_view_module_version": "1.2.0",
            "_view_name": "StyleView",
            "bar_color": null,
            "description_width": ""
          }
        },
        "96d021e913e0498fa566ae2e5dc95a29": {
          "model_module": "@jupyter-widgets/base",
          "model_name": "LayoutModel",
          "model_module_version": "1.2.0",
          "state": {
            "_model_module": "@jupyter-widgets/base",
            "_model_module_version": "1.2.0",
            "_model_name": "LayoutModel",
            "_view_count": null,
            "_view_module": "@jupyter-widgets/base",
            "_view_module_version": "1.2.0",
            "_view_name": "LayoutView",
            "align_content": null,
            "align_items": null,
            "align_self": null,
            "border": null,
            "bottom": null,
            "display": null,
            "flex": null,
            "flex_flow": null,
            "grid_area": null,
            "grid_auto_columns": null,
            "grid_auto_flow": null,
            "grid_auto_rows": null,
            "grid_column": null,
            "grid_gap": null,
            "grid_row": null,
            "grid_template_areas": null,
            "grid_template_columns": null,
            "grid_template_rows": null,
            "height": null,
            "justify_content": null,
            "justify_items": null,
            "left": null,
            "margin": null,
            "max_height": null,
            "max_width": null,
            "min_height": null,
            "min_width": null,
            "object_fit": null,
            "object_position": null,
            "order": null,
            "overflow": null,
            "overflow_x": null,
            "overflow_y": null,
            "padding": null,
            "right": null,
            "top": null,
            "visibility": null,
            "width": null
          }
        },
        "2898bf205a114bb683c6101ef46c17bc": {
          "model_module": "@jupyter-widgets/controls",
          "model_name": "DescriptionStyleModel",
          "model_module_version": "1.5.0",
          "state": {
            "_model_module": "@jupyter-widgets/controls",
            "_model_module_version": "1.5.0",
            "_model_name": "DescriptionStyleModel",
            "_view_count": null,
            "_view_module": "@jupyter-widgets/base",
            "_view_module_version": "1.2.0",
            "_view_name": "StyleView",
            "description_width": ""
          }
        },
        "b45b0340d35246008d21f954262ac25c": {
          "model_module": "@jupyter-widgets/controls",
          "model_name": "HBoxModel",
          "model_module_version": "1.5.0",
          "state": {
            "_dom_classes": [],
            "_model_module": "@jupyter-widgets/controls",
            "_model_module_version": "1.5.0",
            "_model_name": "HBoxModel",
            "_view_count": null,
            "_view_module": "@jupyter-widgets/controls",
            "_view_module_version": "1.5.0",
            "_view_name": "HBoxView",
            "box_style": "",
            "children": [
              "IPY_MODEL_98bdb6ad91bc47228db0b293c1450fbf",
              "IPY_MODEL_7517872ed2024696bb873f7feed1230b",
              "IPY_MODEL_9aa32e94563441898bc48aabbe1a678a"
            ],
            "layout": "IPY_MODEL_668964a2e69f4c4ab28dc9deb006995a"
          }
        },
        "98bdb6ad91bc47228db0b293c1450fbf": {
          "model_module": "@jupyter-widgets/controls",
          "model_name": "HTMLModel",
          "model_module_version": "1.5.0",
          "state": {
            "_dom_classes": [],
            "_model_module": "@jupyter-widgets/controls",
            "_model_module_version": "1.5.0",
            "_model_name": "HTMLModel",
            "_view_count": null,
            "_view_module": "@jupyter-widgets/controls",
            "_view_module_version": "1.5.0",
            "_view_name": "HTMLView",
            "description": "",
            "description_tooltip": null,
            "layout": "IPY_MODEL_13281de4f4354ecb954384e750b4d195",
            "placeholder": "​",
            "style": "IPY_MODEL_e2d5d31b2cf1429fb6a2a59a2eec4471",
            "value": "100%"
          }
        },
        "7517872ed2024696bb873f7feed1230b": {
          "model_module": "@jupyter-widgets/controls",
          "model_name": "FloatProgressModel",
          "model_module_version": "1.5.0",
          "state": {
            "_dom_classes": [],
            "_model_module": "@jupyter-widgets/controls",
            "_model_module_version": "1.5.0",
            "_model_name": "FloatProgressModel",
            "_view_count": null,
            "_view_module": "@jupyter-widgets/controls",
            "_view_module_version": "1.5.0",
            "_view_name": "ProgressView",
            "bar_style": "success",
            "description": "",
            "description_tooltip": null,
            "layout": "IPY_MODEL_a8defdfb8afc4089bf355d681af1ac20",
            "max": 4542,
            "min": 0,
            "orientation": "horizontal",
            "style": "IPY_MODEL_bcbd3d97bbd84e5696da0b5783d3a9de",
            "value": 4542
          }
        },
        "9aa32e94563441898bc48aabbe1a678a": {
          "model_module": "@jupyter-widgets/controls",
          "model_name": "HTMLModel",
          "model_module_version": "1.5.0",
          "state": {
            "_dom_classes": [],
            "_model_module": "@jupyter-widgets/controls",
            "_model_module_version": "1.5.0",
            "_model_name": "HTMLModel",
            "_view_count": null,
            "_view_module": "@jupyter-widgets/controls",
            "_view_module_version": "1.5.0",
            "_view_name": "HTMLView",
            "description": "",
            "description_tooltip": null,
            "layout": "IPY_MODEL_4b3891da32274ae19f8d4f6af2d4fb3a",
            "placeholder": "​",
            "style": "IPY_MODEL_239e3ad2f00f49dab5926a19da47389c",
            "value": " 4542/4542 [00:00&lt;00:00, 116672.56it/s]"
          }
        },
        "668964a2e69f4c4ab28dc9deb006995a": {
          "model_module": "@jupyter-widgets/base",
          "model_name": "LayoutModel",
          "model_module_version": "1.2.0",
          "state": {
            "_model_module": "@jupyter-widgets/base",
            "_model_module_version": "1.2.0",
            "_model_name": "LayoutModel",
            "_view_count": null,
            "_view_module": "@jupyter-widgets/base",
            "_view_module_version": "1.2.0",
            "_view_name": "LayoutView",
            "align_content": null,
            "align_items": null,
            "align_self": null,
            "border": null,
            "bottom": null,
            "display": null,
            "flex": null,
            "flex_flow": null,
            "grid_area": null,
            "grid_auto_columns": null,
            "grid_auto_flow": null,
            "grid_auto_rows": null,
            "grid_column": null,
            "grid_gap": null,
            "grid_row": null,
            "grid_template_areas": null,
            "grid_template_columns": null,
            "grid_template_rows": null,
            "height": null,
            "justify_content": null,
            "justify_items": null,
            "left": null,
            "margin": null,
            "max_height": null,
            "max_width": null,
            "min_height": null,
            "min_width": null,
            "object_fit": null,
            "object_position": null,
            "order": null,
            "overflow": null,
            "overflow_x": null,
            "overflow_y": null,
            "padding": null,
            "right": null,
            "top": null,
            "visibility": null,
            "width": null
          }
        },
        "13281de4f4354ecb954384e750b4d195": {
          "model_module": "@jupyter-widgets/base",
          "model_name": "LayoutModel",
          "model_module_version": "1.2.0",
          "state": {
            "_model_module": "@jupyter-widgets/base",
            "_model_module_version": "1.2.0",
            "_model_name": "LayoutModel",
            "_view_count": null,
            "_view_module": "@jupyter-widgets/base",
            "_view_module_version": "1.2.0",
            "_view_name": "LayoutView",
            "align_content": null,
            "align_items": null,
            "align_self": null,
            "border": null,
            "bottom": null,
            "display": null,
            "flex": null,
            "flex_flow": null,
            "grid_area": null,
            "grid_auto_columns": null,
            "grid_auto_flow": null,
            "grid_auto_rows": null,
            "grid_column": null,
            "grid_gap": null,
            "grid_row": null,
            "grid_template_areas": null,
            "grid_template_columns": null,
            "grid_template_rows": null,
            "height": null,
            "justify_content": null,
            "justify_items": null,
            "left": null,
            "margin": null,
            "max_height": null,
            "max_width": null,
            "min_height": null,
            "min_width": null,
            "object_fit": null,
            "object_position": null,
            "order": null,
            "overflow": null,
            "overflow_x": null,
            "overflow_y": null,
            "padding": null,
            "right": null,
            "top": null,
            "visibility": null,
            "width": null
          }
        },
        "e2d5d31b2cf1429fb6a2a59a2eec4471": {
          "model_module": "@jupyter-widgets/controls",
          "model_name": "DescriptionStyleModel",
          "model_module_version": "1.5.0",
          "state": {
            "_model_module": "@jupyter-widgets/controls",
            "_model_module_version": "1.5.0",
            "_model_name": "DescriptionStyleModel",
            "_view_count": null,
            "_view_module": "@jupyter-widgets/base",
            "_view_module_version": "1.2.0",
            "_view_name": "StyleView",
            "description_width": ""
          }
        },
        "a8defdfb8afc4089bf355d681af1ac20": {
          "model_module": "@jupyter-widgets/base",
          "model_name": "LayoutModel",
          "model_module_version": "1.2.0",
          "state": {
            "_model_module": "@jupyter-widgets/base",
            "_model_module_version": "1.2.0",
            "_model_name": "LayoutModel",
            "_view_count": null,
            "_view_module": "@jupyter-widgets/base",
            "_view_module_version": "1.2.0",
            "_view_name": "LayoutView",
            "align_content": null,
            "align_items": null,
            "align_self": null,
            "border": null,
            "bottom": null,
            "display": null,
            "flex": null,
            "flex_flow": null,
            "grid_area": null,
            "grid_auto_columns": null,
            "grid_auto_flow": null,
            "grid_auto_rows": null,
            "grid_column": null,
            "grid_gap": null,
            "grid_row": null,
            "grid_template_areas": null,
            "grid_template_columns": null,
            "grid_template_rows": null,
            "height": null,
            "justify_content": null,
            "justify_items": null,
            "left": null,
            "margin": null,
            "max_height": null,
            "max_width": null,
            "min_height": null,
            "min_width": null,
            "object_fit": null,
            "object_position": null,
            "order": null,
            "overflow": null,
            "overflow_x": null,
            "overflow_y": null,
            "padding": null,
            "right": null,
            "top": null,
            "visibility": null,
            "width": null
          }
        },
        "bcbd3d97bbd84e5696da0b5783d3a9de": {
          "model_module": "@jupyter-widgets/controls",
          "model_name": "ProgressStyleModel",
          "model_module_version": "1.5.0",
          "state": {
            "_model_module": "@jupyter-widgets/controls",
            "_model_module_version": "1.5.0",
            "_model_name": "ProgressStyleModel",
            "_view_count": null,
            "_view_module": "@jupyter-widgets/base",
            "_view_module_version": "1.2.0",
            "_view_name": "StyleView",
            "bar_color": null,
            "description_width": ""
          }
        },
        "4b3891da32274ae19f8d4f6af2d4fb3a": {
          "model_module": "@jupyter-widgets/base",
          "model_name": "LayoutModel",
          "model_module_version": "1.2.0",
          "state": {
            "_model_module": "@jupyter-widgets/base",
            "_model_module_version": "1.2.0",
            "_model_name": "LayoutModel",
            "_view_count": null,
            "_view_module": "@jupyter-widgets/base",
            "_view_module_version": "1.2.0",
            "_view_name": "LayoutView",
            "align_content": null,
            "align_items": null,
            "align_self": null,
            "border": null,
            "bottom": null,
            "display": null,
            "flex": null,
            "flex_flow": null,
            "grid_area": null,
            "grid_auto_columns": null,
            "grid_auto_flow": null,
            "grid_auto_rows": null,
            "grid_column": null,
            "grid_gap": null,
            "grid_row": null,
            "grid_template_areas": null,
            "grid_template_columns": null,
            "grid_template_rows": null,
            "height": null,
            "justify_content": null,
            "justify_items": null,
            "left": null,
            "margin": null,
            "max_height": null,
            "max_width": null,
            "min_height": null,
            "min_width": null,
            "object_fit": null,
            "object_position": null,
            "order": null,
            "overflow": null,
            "overflow_x": null,
            "overflow_y": null,
            "padding": null,
            "right": null,
            "top": null,
            "visibility": null,
            "width": null
          }
        },
        "239e3ad2f00f49dab5926a19da47389c": {
          "model_module": "@jupyter-widgets/controls",
          "model_name": "DescriptionStyleModel",
          "model_module_version": "1.5.0",
          "state": {
            "_model_module": "@jupyter-widgets/controls",
            "_model_module_version": "1.5.0",
            "_model_name": "DescriptionStyleModel",
            "_view_count": null,
            "_view_module": "@jupyter-widgets/base",
            "_view_module_version": "1.2.0",
            "_view_name": "StyleView",
            "description_width": ""
          }
        }
      }
    }
  },
  "cells": [
    {
      "cell_type": "markdown",
      "source": [
        "# CONVOLUTION"
      ],
      "metadata": {
        "id": "IlYZPU13JJm3"
      }
    },
    {
      "cell_type": "markdown",
      "source": [
        "## What is Convolution ????\n",
        "Convolution is a linear operation similar to a linear equation, dot product, or matrix multiplication. \\\\\n",
        "Convolution preserves the relationship between elements, and it requires fewer parameters than other methods. \\\\\n",
        "\n",
        "You can see the relationship between the different methods:\n",
        "\n",
        "$linear \\ equation :y=wx+b$\n",
        "\n",
        "$linear\\ equation\\ with\\ multiple \\ variables \\ where \\ \\mathbf{x} \\ is \\ a \\ vector \\ \\mathbf{y}=\\mathbf{wx}+b$\n",
        "\n",
        "$ \\ matrix\\ multiplication \\ where \\ \\mathbf{X} \\ in \\ a \\ matrix \\ \\mathbf{y}=\\mathbf{wX}+\\mathbf{b} $\n",
        "\n",
        "$\\ convolution \\ where \\ \\mathbf{X} \\ and \\ \\mathbf{Y} \\ is \\ a \\ tensor \\  \\mathbf{Y}=\\mathbf{w}\\*\\mathbf{X}+\\mathbf{b}$\n",
        "\n",
        "In convolution, the parameter <b>w</b> is called a kernel. You can perform convolution on images where you let the variable image denote the variable X and w denote the parameter.\n",
        "\n",
        "<img src = \"https://s3-api.us-geo.objectstorage.softlayer.net/cf-courses-data/CognitiveClass/DL0110EN/notebook_images%20/chapter%206/6.1.1xw.png\" width = 500, align = \"center\">\n",
        "\n",
        "\n",
        "\n"
      ],
      "metadata": {
        "id": "OM27b61V8kVW"
      }
    },
    {
      "cell_type": "code",
      "execution_count": null,
      "metadata": {
        "id": "lSkf76G48hKe"
      },
      "outputs": [],
      "source": [
        "import torch\n",
        "import torch.nn as nn"
      ]
    },
    {
      "cell_type": "code",
      "source": [
        "conv = nn.Conv2d(in_channels = 1, out_channels = 1, kernel_size = 3)\n",
        "print(conv.weight.shape)\n",
        "print(conv.weight)\n",
        "print(conv.bias)"
      ],
      "metadata": {
        "colab": {
          "base_uri": "https://localhost:8080/"
        },
        "id": "8eWEEHvh8raG",
        "outputId": "ae99457f-884d-4892-f23d-5b6906d68105"
      },
      "execution_count": null,
      "outputs": [
        {
          "output_type": "stream",
          "name": "stdout",
          "text": [
            "torch.Size([1, 1, 3, 3])\n",
            "Parameter containing:\n",
            "tensor([[[[ 0.0793, -0.3167,  0.2647],\n",
            "          [ 0.1802,  0.2103,  0.1982],\n",
            "          [-0.0882, -0.2238, -0.0814]]]], requires_grad=True)\n",
            "Parameter containing:\n",
            "tensor([-0.2862], requires_grad=True)\n"
          ]
        }
      ]
    },
    {
      "cell_type": "code",
      "source": [
        "conv.state_dict()['weight'][0][0]=torch.tensor([[1.0,0.0,-1],[2.0,0.0,-2],[1.0,0.0,-1.0]])\n",
        "conv.state_dict()['bias'][0]=0.0\n",
        "\n",
        "print(conv.weight)\n",
        "print(conv.bias)"
      ],
      "metadata": {
        "colab": {
          "base_uri": "https://localhost:8080/"
        },
        "id": "TEqq3AAuAai9",
        "outputId": "aafff757-0b5a-4176-8841-6b8a06469718"
      },
      "execution_count": null,
      "outputs": [
        {
          "output_type": "stream",
          "name": "stdout",
          "text": [
            "Parameter containing:\n",
            "tensor([[[[ 1.,  0., -1.],\n",
            "          [ 2.,  0., -2.],\n",
            "          [ 1.,  0., -1.]]]], requires_grad=True)\n",
            "Parameter containing:\n",
            "tensor([0.], requires_grad=True)\n"
          ]
        }
      ]
    },
    {
      "cell_type": "code",
      "source": [
        "img = torch.zeros(1,1,5,5)\n",
        "img[0,0,:,2] = 1\n",
        "print(img)\n",
        "z = conv(img)\n",
        "print(z)"
      ],
      "metadata": {
        "colab": {
          "base_uri": "https://localhost:8080/"
        },
        "id": "NbtWYAyp85rM",
        "outputId": "2e0523e8-f0ce-4faf-f13d-cd93d4c91f99"
      },
      "execution_count": null,
      "outputs": [
        {
          "output_type": "stream",
          "name": "stdout",
          "text": [
            "tensor([[[[0., 0., 1., 0., 0.],\n",
            "          [0., 0., 1., 0., 0.],\n",
            "          [0., 0., 1., 0., 0.],\n",
            "          [0., 0., 1., 0., 0.],\n",
            "          [0., 0., 1., 0., 0.]]]])\n",
            "tensor([[[[-4.,  0.,  4.],\n",
            "          [-4.,  0.,  4.],\n",
            "          [-4.,  0.,  4.]]]], grad_fn=<ConvolutionBackward0>)\n"
          ]
        }
      ]
    },
    {
      "cell_type": "markdown",
      "source": [
        "The kernel performs at the element-level multiplication on every element in the image in the corresponding region. \n",
        "The values are then added together. \n",
        "The kernel is then shifted and the process is repeated.\n",
        "\n",
        "<img src = \"https://s3-api.us-geo.objectstorage.softlayer.net/cf-courses-data/CognitiveClass/DL0110EN/notebook_images%20/chapter%206/6.1.1convltuon.gif\" width = 500, align = \"center\">\n",
        "\n"
      ],
      "metadata": {
        "id": "EgNDL_yoB-cA"
      }
    },
    {
      "cell_type": "markdown",
      "source": [
        "## Determining the Size of the Output\n",
        "\n",
        "The size of the output is an important parameter.Assume square images. For rectangular images, the same formula can be used in for each dimension independently.\n",
        "\n",
        "Let M be the size of the input and K be the size of the kernel. The size of the output is given by the following formula:\n",
        "\n",
        "$$M\\_{new}=M-K+1$$\n",
        "\n"
      ],
      "metadata": {
        "id": "Mvzcv34qDGeF"
      }
    },
    {
      "cell_type": "code",
      "source": [
        "# Create Kernel of size 2 x2 \n",
        "K=2\n",
        "conv1 = nn.Conv2d(in_channels=1, out_channels=1,kernel_size=K)\n",
        "conv1.state_dict()['weight'][0][0]=torch.tensor([[1.0,1.0],[1.0,1.0]])\n",
        "conv1.state_dict()['bias'][0]=0.0\n",
        "print(conv1.state_dict())\n",
        "print(conv1.weight.shape)\n",
        "print(conv1.weight)\n",
        "print(conv1.bias)"
      ],
      "metadata": {
        "colab": {
          "base_uri": "https://localhost:8080/"
        },
        "id": "qcDlpzQO_W3U",
        "outputId": "d357aac7-2ea1-48c5-bd1d-8b3fa6fcdb3b"
      },
      "execution_count": null,
      "outputs": [
        {
          "output_type": "stream",
          "name": "stdout",
          "text": [
            "OrderedDict([('weight', tensor([[[[1., 1.],\n",
            "          [1., 1.]]]])), ('bias', tensor([0.]))])\n",
            "torch.Size([1, 1, 2, 2])\n",
            "Parameter containing:\n",
            "tensor([[[[1., 1.],\n",
            "          [1., 1.]]]], requires_grad=True)\n",
            "Parameter containing:\n",
            "tensor([0.], requires_grad=True)\n"
          ]
        }
      ]
    },
    {
      "cell_type": "code",
      "source": [
        "# create image of size 4 x 4\n",
        "M=4\n",
        "image1=torch.ones(1,1,M,M)\n",
        "print(image1.shape)\n",
        "print(image1)"
      ],
      "metadata": {
        "colab": {
          "base_uri": "https://localhost:8080/"
        },
        "id": "h8QtVtsID2g5",
        "outputId": "e810ea51-7c22-4dd1-f4e6-99f8ed7ad24b"
      },
      "execution_count": null,
      "outputs": [
        {
          "output_type": "stream",
          "name": "stdout",
          "text": [
            "torch.Size([1, 1, 4, 4])\n",
            "tensor([[[[1., 1., 1., 1.],\n",
            "          [1., 1., 1., 1.],\n",
            "          [1., 1., 1., 1.],\n",
            "          [1., 1., 1., 1.]]]])\n"
          ]
        }
      ]
    },
    {
      "cell_type": "markdown",
      "source": [
        "<img src = \"https://s3-api.us-geo.objectstorage.softlayer.net/cf-courses-data/CognitiveClass/DL0110EN/notebook_images%20/chapter%206/6.1.1kernal2.png\" width = 500, align = \"center\">\n"
      ],
      "metadata": {
        "id": "NaTF2rGPEkyj"
      }
    },
    {
      "cell_type": "markdown",
      "source": [
        "The following equation provides the output:\n",
        "$$M\\_{new}=M-K+1$$\n",
        "$$M\\_{new}=4-2+1$$\n",
        "$$M\\_{new}=3$$\n",
        "The following animation illustrates the process: The first iteration of the kernel overlay of the images produces one output. As the kernel is of size K, there are M-K  elements for the kernel to move in the horizontal direction. The same logic applies to the vertical direction.\n",
        "<img src = \"https://s3-api.us-geo.objectstorage.softlayer.net/cf-courses-data/CognitiveClass/DL0110EN/notebook_images%20/chapter%206/6.1.1outsize.gif\" width = 500, align = \"center\">\n"
      ],
      "metadata": {
        "id": "msmXYAUiEr8b"
      }
    },
    {
      "cell_type": "code",
      "source": [
        "# perform conv and verify the size\n",
        "z1=conv1(image1)\n",
        "print(\"z1:\",z1)\n",
        "print(\"shape:\",z1.shape[2:4])"
      ],
      "metadata": {
        "colab": {
          "base_uri": "https://localhost:8080/"
        },
        "id": "DsFf3IPzEqzc",
        "outputId": "9e6d3449-18cf-49c1-a737-71faf7894da9"
      },
      "execution_count": null,
      "outputs": [
        {
          "output_type": "stream",
          "name": "stdout",
          "text": [
            "z1: tensor([[[[4., 4., 4.],\n",
            "          [4., 4., 4.],\n",
            "          [4., 4., 4.]]]], grad_fn=<ConvolutionBackward0>)\n",
            "shape: torch.Size([3, 3])\n"
          ]
        }
      ]
    },
    {
      "cell_type": "markdown",
      "source": [
        "## Stride parameter\n",
        "The parameter stride changes the number of shifts the kernel moves per iteration. As a result, the output size also changes and is given by the following formula:\n",
        "$$M\\_{new}=\\dfrac{M-K}{stride}+1$$\n",
        "Create a convolution object with a stride of 2:\n"
      ],
      "metadata": {
        "id": "82lNHnCIFC2M"
      }
    },
    {
      "cell_type": "code",
      "source": [
        "conv3 = nn.Conv2d(in_channels=1, out_channels=1,kernel_size=2,stride=2)\n",
        "\n",
        "conv3.state_dict()['weight'][0][0]=torch.tensor([[1.0,1.0],[1.0,1.0]])\n",
        "conv3.state_dict()['bias'][0]=0.0\n",
        "print(conv3.state_dict())"
      ],
      "metadata": {
        "colab": {
          "base_uri": "https://localhost:8080/"
        },
        "id": "YKp-8v1TEAjQ",
        "outputId": "c98ed81d-2322-4db1-90d3-98a8364c8f95"
      },
      "execution_count": null,
      "outputs": [
        {
          "output_type": "stream",
          "name": "stdout",
          "text": [
            "OrderedDict([('weight', tensor([[[[1., 1.],\n",
            "          [1., 1.]]]])), ('bias', tensor([0.]))])\n"
          ]
        }
      ]
    },
    {
      "cell_type": "markdown",
      "source": [
        "For an image with a size of 4, calculate the output size:\n",
        "$$M\\_{new}=\\dfrac{M-K}{stride}+1$$\n",
        "$$M\\_{new}=\\dfrac{4-2}{2}+1$$\n",
        "$$M\\_{new}=2$$\n",
        "The following animation illustrates the process: The first iteration of the kernel overlay of the images produces one output. Because the kernel is of size K, there are M-K=2 elements. The stride is 2 because it will move 2 elements at a time. As a result, you divide M-K by the stride value 2:\n",
        "<img src = \"https://s3-api.us-geo.objectstorage.softlayer.net/cf-courses-data/CognitiveClass/DL0110EN/notebook_images%20/chapter%206/6.1.1stride2.gif\" width = 500, align = \"center\">"
      ],
      "metadata": {
        "id": "n_AiUOffFmso"
      }
    },
    {
      "cell_type": "code",
      "source": [
        "z3=conv3(image1)\n",
        "\n",
        "print(\"z3:\",z3)\n",
        "print(\"shape:\",z3.shape[2:4])"
      ],
      "metadata": {
        "colab": {
          "base_uri": "https://localhost:8080/"
        },
        "id": "oesogRhyFX1E",
        "outputId": "aace78b3-279c-4b14-8e21-ce142a042a1b"
      },
      "execution_count": null,
      "outputs": [
        {
          "output_type": "stream",
          "name": "stdout",
          "text": [
            "z3: tensor([[[[4., 4.],\n",
            "          [4., 4.]]]], grad_fn=<ConvolutionBackward0>)\n",
            "shape: torch.Size([2, 2])\n"
          ]
        }
      ]
    },
    {
      "cell_type": "markdown",
      "source": [
        "## Zero Padding\n",
        "As you apply successive convolutions, the image will shrink. You can apply zero padding to keep the image at a reasonable size, which also holds information at the borders.\n",
        "In addition, you might not get integer values for the size of the kernel. Consider the following image:\n",
        "Try performing convolutions with the <code>kernel_size=2</code> and a <code>stride=3</code>. Use these values:\n",
        "\n",
        "$$M\\_{new}=\\dfrac{M-K}{stride}+1$$\n",
        "$$M\\_{new}=\\dfrac{4-2}{3}+1$$\n",
        "$$M\\_{new}=1.666$$\n"
      ],
      "metadata": {
        "id": "M01BY5e9GAMG"
      }
    },
    {
      "cell_type": "code",
      "source": [
        "print(image1)\n",
        "conv4 = nn.Conv2d(in_channels=1, out_channels=1,kernel_size=2,stride=3)\n",
        "conv4.state_dict()['weight'][0][0]=torch.tensor([[1.0,1.0],[1.0,1.0]])\n",
        "conv4.state_dict()['bias'][0]=0.0\n",
        "conv4.state_dict()\n",
        "z4=conv4(image1)\n",
        "print(\"z4:\",z4)\n"
      ],
      "metadata": {
        "colab": {
          "base_uri": "https://localhost:8080/"
        },
        "id": "QtbJ0XqLF0zV",
        "outputId": "05b3e3df-8370-4f2d-8708-10a4f4a20ce5"
      },
      "execution_count": null,
      "outputs": [
        {
          "output_type": "stream",
          "name": "stdout",
          "text": [
            "tensor([[[[1., 1., 1., 1.],\n",
            "          [1., 1., 1., 1.],\n",
            "          [1., 1., 1., 1.],\n",
            "          [1., 1., 1., 1.]]]])\n",
            "z4: tensor([[[[4.]]]], grad_fn=<ConvolutionBackward0>)\n"
          ]
        }
      ]
    },
    {
      "cell_type": "markdown",
      "source": [
        "You can add rows and columns of zeros around the image. This is called padding. In the constructor <code>Conv2d</code>, you specify the number of rows or columns of zeros that you want to add with the parameter padding.\n",
        "\n",
        "For a square image, you merely pad an extra column of zeros to the first column and the last column. Repeat the process for the rows. As a result, for a square image, the width and height is the original size plus 2 x the number of padding elements specified. You can then determine the size of the output after subsequent operations accordingly as shown in the following equation where you determine the size of an image after padding and then applying a convolutions kernel of size K.\n",
        "$$M'=M+2 \\times padding$$\n",
        "$$M\\_{new}=M'-K+1$$\n",
        "\n",
        "Consider the following example:"
      ],
      "metadata": {
        "id": "mWSu-OmlGyK4"
      }
    },
    {
      "cell_type": "code",
      "source": [
        "conv5 = nn.Conv2d(in_channels=1, out_channels=1,kernel_size=2,stride=3,padding=1)\n",
        "\n",
        "conv5.state_dict()['weight'][0][0]=torch.tensor([[1.0,1.0],[1.0,1.0]])\n",
        "conv5.state_dict()['bias'][0]=0.0\n",
        "conv5.state_dict()\n",
        "z5=conv5(image1)\n",
        "print(\"z5:\",z5)\n",
        "print(\"z5:\",z4.shape[2:4])"
      ],
      "metadata": {
        "colab": {
          "base_uri": "https://localhost:8080/"
        },
        "id": "Sg1kcRoTG67g",
        "outputId": "8c9fa466-28fc-4c2b-8dd8-6f9414d73fb6"
      },
      "execution_count": null,
      "outputs": [
        {
          "output_type": "stream",
          "name": "stdout",
          "text": [
            "z5: tensor([[[[1., 2.],\n",
            "          [2., 4.]]]], grad_fn=<ConvolutionBackward0>)\n",
            "z5: torch.Size([1, 1])\n"
          ]
        }
      ]
    },
    {
      "cell_type": "markdown",
      "source": [
        "The process is summarized as:\n",
        "\n",
        "<img src = \"https://s3-api.us-geo.objectstorage.softlayer.net/cf-courses-data/CognitiveClass/DL0110EN/notebook_images%20/chapter%206/6.1.1zeropad.gif\" width = 500, align = \"center\">\n"
      ],
      "metadata": {
        "id": "TgYBbC8tHLSE"
      }
    },
    {
      "cell_type": "markdown",
      "source": [
        "## Question: You have an image of size 4. The parameters are as follows  kernel_size=2,stride=2. What is the size of the output?\n",
        "\n",
        "\n",
        "\n",
        "```\n",
        "(M-K)/stride +1\n",
        "(4-2)/2 +1\n",
        "2\n",
        "```\n",
        "\n"
      ],
      "metadata": {
        "id": "1h6DvHn6H6ql"
      }
    },
    {
      "cell_type": "code",
      "source": [
        "\n",
        "image = torch.ones(1,1,4,4)\n",
        "conv3 = nn.Conv2d(in_channels=1, out_channels=1,kernel_size=2,stride=2)\n",
        "\n",
        "conv3.state_dict()['weight'][0][0]=torch.tensor([[1.0,1.0],[1.0,1.0]])\n",
        "conv3.state_dict()['bias'][0]=0.0\n",
        "\n",
        "print(conv3(image).shape[2:4])"
      ],
      "metadata": {
        "colab": {
          "base_uri": "https://localhost:8080/"
        },
        "id": "Vcotb9hHGcJ-",
        "outputId": "86ebd3c6-ccf2-423d-ab0f-65619604e794"
      },
      "execution_count": null,
      "outputs": [
        {
          "output_type": "stream",
          "name": "stdout",
          "text": [
            "torch.Size([2, 2])\n"
          ]
        }
      ]
    },
    {
      "cell_type": "code",
      "source": [],
      "metadata": {
        "id": "3eo9BsXGIhak"
      },
      "execution_count": null,
      "outputs": []
    },
    {
      "cell_type": "markdown",
      "source": [
        "# Activation Functions and Max Polling "
      ],
      "metadata": {
        "id": "wVh8iNm5Jb7e"
      }
    },
    {
      "cell_type": "markdown",
      "source": [
        "## Activation Fn\n",
        "\n",
        "Just like a neural network, you apply an activation function to the activation map as shown in the following image:\n",
        "<img src = \"https://s3-api.us-geo.objectstorage.softlayer.net/cf-courses-data/CognitiveClass/DL0110EN/notebook_images%20/chapter%206/6.1.3block_digram.png\" width = 1000, align = \"center\">\n"
      ],
      "metadata": {
        "id": "1oA9eaNSJxFB"
      }
    },
    {
      "cell_type": "code",
      "source": [
        "conv = nn.Conv2d(in_channels=1, out_channels=1,kernel_size=3)\n",
        "Gx=torch.tensor([[1.0,0,-1.0],[2.0,0,-2.0],[1.0,0,-1.0]])\n",
        "conv.state_dict()['weight'][0][0]=Gx\n",
        "conv.state_dict()['bias'][0]=0.0\n",
        "conv.state_dict()"
      ],
      "metadata": {
        "colab": {
          "base_uri": "https://localhost:8080/"
        },
        "id": "ij0piC8KMq5y",
        "outputId": "ff7ad942-64ce-49f8-b483-1f8ce32aea2b"
      },
      "execution_count": null,
      "outputs": [
        {
          "output_type": "execute_result",
          "data": {
            "text/plain": [
              "OrderedDict([('weight', tensor([[[[ 1.,  0., -1.],\n",
              "                        [ 2.,  0., -2.],\n",
              "                        [ 1.,  0., -1.]]]])), ('bias', tensor([0.]))])"
            ]
          },
          "metadata": {},
          "execution_count": 50
        }
      ]
    },
    {
      "cell_type": "code",
      "source": [
        "image=torch.zeros(1,1,5,5)\n",
        "image[0,0,:,2]=1\n",
        "image"
      ],
      "metadata": {
        "colab": {
          "base_uri": "https://localhost:8080/"
        },
        "id": "QbVFWb6BMu28",
        "outputId": "a9d05732-ac18-4d2c-d0fb-68c668ab66bb"
      },
      "execution_count": null,
      "outputs": [
        {
          "output_type": "execute_result",
          "data": {
            "text/plain": [
              "tensor([[[[0., 0., 1., 0., 0.],\n",
              "          [0., 0., 1., 0., 0.],\n",
              "          [0., 0., 1., 0., 0.],\n",
              "          [0., 0., 1., 0., 0.],\n",
              "          [0., 0., 1., 0., 0.]]]])"
            ]
          },
          "metadata": {},
          "execution_count": 51
        }
      ]
    },
    {
      "cell_type": "markdown",
      "source": [
        "image and kernel \n",
        "\n",
        "<img src = \"https://s3-api.us-geo.objectstorage.softlayer.net/cf-courses-data/CognitiveClass/DL0110EN/notebook_images%20/chapter%206/6.1.3kernal_out.png\" width = 500, align = \"center\">\n"
      ],
      "metadata": {
        "id": "J4Z6R34iM1xr"
      }
    },
    {
      "cell_type": "code",
      "source": [
        "Z=conv(image)\n",
        "print(Z)\n",
        "\n",
        "A=torch.relu(Z)\n",
        "print(A)"
      ],
      "metadata": {
        "colab": {
          "base_uri": "https://localhost:8080/"
        },
        "id": "O1aqNtW-M6h-",
        "outputId": "05f456cb-58b4-4de2-9233-3880a582a227"
      },
      "execution_count": null,
      "outputs": [
        {
          "output_type": "stream",
          "name": "stdout",
          "text": [
            "tensor([[[[-4.,  0.,  4.],\n",
            "          [-4.,  0.,  4.],\n",
            "          [-4.,  0.,  4.]]]], grad_fn=<ConvolutionBackward0>)\n",
            "tensor([[[[0., 0., 4.],\n",
            "          [0., 0., 4.],\n",
            "          [0., 0., 4.]]]], grad_fn=<ReluBackward0>)\n"
          ]
        }
      ]
    },
    {
      "cell_type": "markdown",
      "source": [
        "The Relu function is applied to each element. All the elements less than zero are mapped to zero. The remaining components do not change.\n",
        "<img src = \"https://s3-api.us-geo.objectstorage.softlayer.net/cf-courses-data/CognitiveClass/DL0110EN/notebook_images%20/chapter%206/6.2.3_block_example.gif\" width = 1000, align = \"center\">\n"
      ],
      "metadata": {
        "id": "o5kiZ4CuNSn-"
      }
    },
    {
      "cell_type": "markdown",
      "source": [
        "## Max Pooling\n",
        "\n"
      ],
      "metadata": {
        "id": "sCTV_HlVNZKp"
      }
    },
    {
      "cell_type": "code",
      "source": [
        "image1=torch.zeros(1,1,4,4)\n",
        "image1[0,0,0,:]=torch.tensor([1.0,2.0,3.0,-4.0])\n",
        "image1[0,0,1,:]=torch.tensor([0.0,2.0,-3.0,0.0])\n",
        "image1[0,0,2,:]=torch.tensor([0.0,2.0,3.0,1.0])\n",
        "\n",
        "print(image1)"
      ],
      "metadata": {
        "colab": {
          "base_uri": "https://localhost:8080/"
        },
        "id": "oREOO4wANfJU",
        "outputId": "c3b46d23-df00-44b3-fbf9-3905f3392267"
      },
      "execution_count": null,
      "outputs": [
        {
          "output_type": "stream",
          "name": "stdout",
          "text": [
            "tensor([[[[ 1.,  2.,  3., -4.],\n",
            "          [ 0.,  2., -3.,  0.],\n",
            "          [ 0.,  2.,  3.,  1.],\n",
            "          [ 0.,  0.,  0.,  0.]]]])\n"
          ]
        }
      ]
    },
    {
      "cell_type": "markdown",
      "source": [
        "Max pooling simply takes the maximum value in each region. Consider the following image. For the first region, max pooling simply takes the largest element in a yellow region.\n",
        "\n",
        "<img src = \"https://s3-api.us-geo.objectstorage.softlayer.net/cf-courses-data/CognitiveClass/DL0110EN/notebook_images%20/chapter%206/6.1.3maxpool_1.png\" width = 500, align = \"center\">\n",
        "\n",
        "The region shifts, and the process is repeated. The process is similar to convolution and is demonstrated in the following figure:\n",
        "\n",
        "<img src = \"https://s3-api.us-geo.objectstorage.softlayer.net/cf-courses-data/CognitiveClass/DL0110EN/notebook_images%20/chapter%206/6.1.3_max_pool_animation.gif\" width = 500, align = \"center\">\n"
      ],
      "metadata": {
        "id": "sim6R-mLNlZj"
      }
    },
    {
      "cell_type": "code",
      "source": [
        "max1=torch.nn.MaxPool2d(2,stride=1)\n",
        "max1(image1)"
      ],
      "metadata": {
        "colab": {
          "base_uri": "https://localhost:8080/"
        },
        "id": "xZpcBEVjNihL",
        "outputId": "2024eb12-d71b-44d1-8112-460b9945fbcf"
      },
      "execution_count": null,
      "outputs": [
        {
          "output_type": "execute_result",
          "data": {
            "text/plain": [
              "tensor([[[[2., 3., 3.],\n",
              "          [2., 3., 3.],\n",
              "          [2., 3., 3.]]]])"
            ]
          },
          "metadata": {},
          "execution_count": 55
        }
      ]
    },
    {
      "cell_type": "markdown",
      "source": [
        "If the stride is set to None (its defaults setting), the process will simply take the maximum in a prescribed area and shift over accordingly as shown in the following figure:\n",
        "\n",
        "<img src = \"https://s3-api.us-geo.objectstorage.softlayer.net/cf-courses-data/CognitiveClass/DL0110EN/notebook_images%20/chapter%206/6.1.3_max_pool_animation_2.gif\" width = 500, align = \"center\">\n"
      ],
      "metadata": {
        "id": "KYXYXnMfN9eE"
      }
    },
    {
      "cell_type": "code",
      "source": [
        "max1=torch.nn.MaxPool2d(2, stride = None)\n",
        "max1(image1)"
      ],
      "metadata": {
        "colab": {
          "base_uri": "https://localhost:8080/"
        },
        "id": "MI0ATDBLN5sw",
        "outputId": "4284b6db-6f83-4e85-d386-890b3ff213a5"
      },
      "execution_count": null,
      "outputs": [
        {
          "output_type": "execute_result",
          "data": {
            "text/plain": [
              "tensor([[[[2., 3.],\n",
              "          [2., 3.]]]])"
            ]
          },
          "metadata": {},
          "execution_count": 57
        }
      ]
    },
    {
      "cell_type": "code",
      "source": [],
      "metadata": {
        "id": "SySI2-F0OCjK"
      },
      "execution_count": null,
      "outputs": []
    },
    {
      "cell_type": "markdown",
      "source": [
        "# Multiple i/p and o/p channels\n",
        "\n",
        "convolution with multiple channels.\n",
        "\n",
        "Multiple output channels, multiple input channels, and multiple input and output channels.\n",
        "\n",
        "\n",
        "\n",
        "\n"
      ],
      "metadata": {
        "id": "PHIlRyRqOPoe"
      }
    },
    {
      "cell_type": "markdown",
      "source": [
        "## Multiple Output Channels \n",
        "In Pytroch, you can create a <code>Conv2d</code> object with multiple outputs. For each channel, a kernel is created, and each kernel performs a convolution independently. As a result, the number of outputs is equal to the number of channels. This is demonstrated in the following figure. The number 9 is convolved with three kernels: each of a different color. There are three different activation maps represented by the different colors.\n",
        "\n",
        "<img src = \"https://s3-api.us-geo.objectstorage.softlayer.net/cf-courses-data/CognitiveClass/DL0110EN/notebook_images%20/chapter%206/6.1.2activationmaps.png\" width = 750, align = \"center\">\n",
        "\n",
        "Symbolically, this can be represented as follows:\n",
        "\n",
        "<img src = \"https://s3-api.us-geo.objectstorage.softlayer.net/cf-courses-data/CognitiveClass/DL0110EN/notebook_images%20/chapter%206/6.1.2activationmap2.png\" width = 500, align = \"center\">\n",
        "\n",
        "Create a <code>Conv2d</code> with three channels:"
      ],
      "metadata": {
        "id": "gJAnERaDWPtS"
      }
    },
    {
      "cell_type": "code",
      "source": [
        "import torch \n",
        "import torch.nn as nn\n",
        "import matplotlib.pyplot as plt\n",
        "import numpy as np"
      ],
      "metadata": {
        "id": "TnMORgrwUFNO"
      },
      "execution_count": null,
      "outputs": []
    },
    {
      "cell_type": "code",
      "source": [
        "conv1 = nn.Conv2d(in_channels=1, out_channels=3,kernel_size=3)\n",
        "\n",
        "\n",
        "Gx=torch.tensor([[1.0,0,-1.0],[2.0,0,-2.0],[1.0,0.0,-1.0]])\n",
        "Gy=torch.tensor([[1.0,2.0,1.0],[0.0,0.0,0.0],[-1.0,-2.0,-1.0]])\n",
        "\n",
        "conv1.state_dict()['weight'][0][0]=Gx\n",
        "conv1.state_dict()['weight'][1][0]=Gy\n",
        "conv1.state_dict()['weight'][2][0]=torch.ones(3,3)\n",
        "\n",
        "\n",
        "conv1.state_dict()['bias'][:]=torch.tensor([0.0,0.0,0.0])\n",
        "\n",
        "\n",
        "print(conv1.state_dict()['bias'])\n",
        "for x in conv1.state_dict()['weight']:\n",
        "    print(x)"
      ],
      "metadata": {
        "colab": {
          "base_uri": "https://localhost:8080/"
        },
        "id": "SmHBDdsPOWZj",
        "outputId": "e0419480-dd37-4235-bce1-4ad33afac5e5"
      },
      "execution_count": null,
      "outputs": [
        {
          "output_type": "stream",
          "name": "stdout",
          "text": [
            "tensor([0., 0., 0.])\n",
            "tensor([[[ 1.,  0., -1.],\n",
            "         [ 2.,  0., -2.],\n",
            "         [ 1.,  0., -1.]]])\n",
            "tensor([[[ 1.,  2.,  1.],\n",
            "         [ 0.,  0.,  0.],\n",
            "         [-1., -2., -1.]]])\n",
            "tensor([[[1., 1., 1.],\n",
            "         [1., 1., 1.],\n",
            "         [1., 1., 1.]]])\n"
          ]
        }
      ]
    },
    {
      "cell_type": "code",
      "source": [
        "image=torch.zeros(1,1,5,5)\n",
        "image[0,0,:,2]=1\n",
        "print(image)\n",
        "\n",
        "plt.imshow(image[0,0,:,:].numpy(), interpolation='nearest', cmap=plt.cm.gray)\n",
        "plt.colorbar()\n",
        "plt.show()"
      ],
      "metadata": {
        "colab": {
          "base_uri": "https://localhost:8080/",
          "height": 360
        },
        "id": "qw3oWp7xToVO",
        "outputId": "e339379e-3445-4c5f-e0cc-8b701a22286d"
      },
      "execution_count": null,
      "outputs": [
        {
          "output_type": "stream",
          "name": "stdout",
          "text": [
            "tensor([[[[0., 0., 1., 0., 0.],\n",
            "          [0., 0., 1., 0., 0.],\n",
            "          [0., 0., 1., 0., 0.],\n",
            "          [0., 0., 1., 0., 0.],\n",
            "          [0., 0., 1., 0., 0.]]]])\n"
          ]
        },
        {
          "output_type": "display_data",
          "data": {
            "text/plain": [
              "<Figure size 432x288 with 2 Axes>"
            ],
            "image/png": "[encoded data removed]"
          },
          "metadata": {
            "needs_background": "light"
          }
        }
      ]
    },
    {
      "cell_type": "code",
      "source": [
        "out=conv1(image)\n",
        "\n",
        "print(out.shape)\n",
        "\n",
        "\n",
        "for channel,image in enumerate(out[0]):\n",
        "    plt.imshow(image.detach().numpy(), interpolation='nearest', cmap=plt.cm.gray)\n",
        "    print(image)\n",
        "    plt.title(\"channel {}\".format(channel))\n",
        "    plt.colorbar()\n",
        "    plt.show()"
      ],
      "metadata": {
        "colab": {
          "base_uri": "https://localhost:8080/",
          "height": 991
        },
        "id": "w_x8aPL1UJW2",
        "outputId": "997e47a8-45ad-45e7-fdb9-4c27a638d9ad"
      },
      "execution_count": null,
      "outputs": [
        {
          "output_type": "stream",
          "name": "stdout",
          "text": [
            "torch.Size([1, 3, 3, 3])\n",
            "tensor([[-4.,  0.,  4.],\n",
            "        [-4.,  0.,  4.],\n",
            "        [-4.,  0.,  4.]], grad_fn=<UnbindBackward0>)\n"
          ]
        },
        {
          "output_type": "display_data",
          "data": {
            "text/plain": [
              "<Figure size 432x288 with 2 Axes>"
            ],
            "image/png": "[encoded data removed]"
          },
          "metadata": {
            "needs_background": "light"
          }
        },
        {
          "output_type": "stream",
          "name": "stdout",
          "text": [
            "tensor([[0., 0., 0.],\n",
            "        [0., 0., 0.],\n",
            "        [0., 0., 0.]], grad_fn=<UnbindBackward0>)\n"
          ]
        },
        {
          "output_type": "display_data",
          "data": {
            "text/plain": [
              "<Figure size 432x288 with 2 Axes>"
            ],
            "image/png": "[encoded data removed]"
          },
          "metadata": {
            "needs_background": "light"
          }
        },
        {
          "output_type": "stream",
          "name": "stdout",
          "text": [
            "tensor([[3., 3., 3.],\n",
            "        [3., 3., 3.],\n",
            "        [3., 3., 3.]], grad_fn=<UnbindBackward0>)\n"
          ]
        },
        {
          "output_type": "display_data",
          "data": {
            "text/plain": [
              "<Figure size 432x288 with 2 Axes>"
            ],
            "image/png": "[encoded data removed]"
          },
          "metadata": {
            "needs_background": "light"
          }
        }
      ]
    },
    {
      "cell_type": "markdown",
      "source": [
        "Different kernels can be used to detect various features in an image. You can see that the first channel fluctuates, and the second two channels produce a constant value. The following figure summarizes the process:\n",
        "\n",
        "<img src = \"https://s3-api.us-geo.objectstorage.softlayer.net/cf-courses-data/CognitiveClass/DL0110EN/notebook_images%20/chapter%206/6.1.2outputsgray.png\" width = 750, align = \"center\">\n"
      ],
      "metadata": {
        "id": "BW7uZFBpUfWQ"
      }
    },
    {
      "cell_type": "code",
      "source": [
        "# if use different image results will be different\n",
        "\n",
        "\n",
        "image1=torch.zeros(1,1,5,5)\n",
        "image1[0,0,2,:]=1\n",
        "print(image1)\n",
        "plt.imshow(image1[0,0,:,:].detach().numpy(), interpolation='nearest', cmap=plt.cm.gray)\n",
        "plt.show()\n",
        "\n",
        "\n",
        "out1=conv1(image1)\n",
        "for channel,image in enumerate(out1[0]):\n",
        "    plt.imshow(image.detach().numpy(), interpolation='nearest', cmap=plt.cm.gray)\n",
        "    print(image)\n",
        "    plt.title(\"channel {}\".format(channel))\n",
        "    plt.colorbar()\n",
        "    plt.show()"
      ],
      "metadata": {
        "colab": {
          "base_uri": "https://localhost:8080/",
          "height": 1311
        },
        "id": "8J1moai0UNSJ",
        "outputId": "e9cd6254-6fb9-4438-c65f-e04f40f63609"
      },
      "execution_count": null,
      "outputs": [
        {
          "output_type": "stream",
          "name": "stdout",
          "text": [
            "tensor([[[[0., 0., 0., 0., 0.],\n",
            "          [0., 0., 0., 0., 0.],\n",
            "          [1., 1., 1., 1., 1.],\n",
            "          [0., 0., 0., 0., 0.],\n",
            "          [0., 0., 0., 0., 0.]]]])\n"
          ]
        },
        {
          "output_type": "display_data",
          "data": {
            "text/plain": [
              "<Figure size 432x288 with 1 Axes>"
            ],
            "image/png": "[encoded data removed]"
          },
          "metadata": {
            "needs_background": "light"
          }
        },
        {
          "output_type": "stream",
          "name": "stdout",
          "text": [
            "tensor([[0., 0., 0.],\n",
            "        [0., 0., 0.],\n",
            "        [0., 0., 0.]], grad_fn=<UnbindBackward0>)\n"
          ]
        },
        {
          "output_type": "display_data",
          "data": {
            "text/plain": [
              "<Figure size 432x288 with 2 Axes>"
            ],
            "image/png": "[encoded data removed]"
          },
          "metadata": {
            "needs_background": "light"
          }
        },
        {
          "output_type": "stream",
          "name": "stdout",
          "text": [
            "tensor([[-4., -4., -4.],\n",
            "        [ 0.,  0.,  0.],\n",
            "        [ 4.,  4.,  4.]], grad_fn=<UnbindBackward0>)\n"
          ]
        },
        {
          "output_type": "display_data",
          "data": {
            "text/plain": [
              "<Figure size 432x288 with 2 Axes>"
            ],
            "image/png": "[encoded data removed]"
          },
          "metadata": {
            "needs_background": "light"
          }
        },
        {
          "output_type": "stream",
          "name": "stdout",
          "text": [
            "tensor([[3., 3., 3.],\n",
            "        [3., 3., 3.],\n",
            "        [3., 3., 3.]], grad_fn=<UnbindBackward0>)\n"
          ]
        },
        {
          "output_type": "display_data",
          "data": {
            "text/plain": [
              "<Figure size 432x288 with 2 Axes>"
            ],
            "image/png": "[encoded data removed]"
          },
          "metadata": {
            "needs_background": "light"
          }
        }
      ]
    },
    {
      "cell_type": "markdown",
      "source": [
        "Summary :\n",
        "\n",
        "<img src = \"https://s3-api.us-geo.objectstorage.softlayer.net/cf-courses-data/CognitiveClass/DL0110EN/notebook_images%20/chapter%206/6.1.2ouputsgray2.png\" width = 750, align = \"center\">\n"
      ],
      "metadata": {
        "id": "Q-CdTGqGU82g"
      }
    },
    {
      "cell_type": "markdown",
      "source": [
        "## Multiple Input Channels\n",
        "\n",
        "For two inputs, you can create two kernels. Each kernel performs a convolution on its associated input channel. The resulting output is added together as shown:\n",
        "\n",
        "\n",
        "<img src = \"https://s3-api.us-geo.objectstorage.softlayer.net/cf-courses-data/CognitiveClass/DL0110EN/notebook_images%20/chapter%206/6.1.22chanalsinput.png\" width = 750, align = \"center\">\n",
        "\n",
        "\n"
      ],
      "metadata": {
        "id": "FcFzBON2VJGQ"
      }
    },
    {
      "cell_type": "code",
      "source": [
        "image2=torch.zeros(1,2,5,5)\n",
        "image2[0,0,2,:]=-2\n",
        "image2[0,1,2,:]=1\n",
        "print(image2)\n",
        "\n",
        "\n",
        "for channel,image in enumerate(image2[0]):\n",
        "    plt.imshow(image.detach().numpy(), interpolation='nearest', cmap=plt.cm.gray)\n",
        "    print(image)\n",
        "    plt.title(\"channel {}\".format(channel))\n",
        "    plt.colorbar()\n",
        "    plt.show()"
      ],
      "metadata": {
        "colab": {
          "base_uri": "https://localhost:8080/",
          "height": 926
        },
        "id": "hemvzNBoUvhp",
        "outputId": "72515dac-617a-46d1-db55-4fd3ffeba9f9"
      },
      "execution_count": null,
      "outputs": [
        {
          "output_type": "stream",
          "name": "stdout",
          "text": [
            "tensor([[[[ 0.,  0.,  0.,  0.,  0.],\n",
            "          [ 0.,  0.,  0.,  0.,  0.],\n",
            "          [-2., -2., -2., -2., -2.],\n",
            "          [ 0.,  0.,  0.,  0.,  0.],\n",
            "          [ 0.,  0.,  0.,  0.,  0.]],\n",
            "\n",
            "         [[ 0.,  0.,  0.,  0.,  0.],\n",
            "          [ 0.,  0.,  0.,  0.,  0.],\n",
            "          [ 1.,  1.,  1.,  1.,  1.],\n",
            "          [ 0.,  0.,  0.,  0.,  0.],\n",
            "          [ 0.,  0.,  0.,  0.,  0.]]]])\n",
            "tensor([[ 0.,  0.,  0.,  0.,  0.],\n",
            "        [ 0.,  0.,  0.,  0.,  0.],\n",
            "        [-2., -2., -2., -2., -2.],\n",
            "        [ 0.,  0.,  0.,  0.,  0.],\n",
            "        [ 0.,  0.,  0.,  0.,  0.]])\n"
          ]
        },
        {
          "output_type": "display_data",
          "data": {
            "text/plain": [
              "<Figure size 432x288 with 2 Axes>"
            ],
            "image/png": "[encoded data removed]"
          },
          "metadata": {
            "needs_background": "light"
          }
        },
        {
          "output_type": "stream",
          "name": "stdout",
          "text": [
            "tensor([[0., 0., 0., 0., 0.],\n",
            "        [0., 0., 0., 0., 0.],\n",
            "        [1., 1., 1., 1., 1.],\n",
            "        [0., 0., 0., 0., 0.],\n",
            "        [0., 0., 0., 0., 0.]])\n"
          ]
        },
        {
          "output_type": "display_data",
          "data": {
            "text/plain": [
              "<Figure size 432x288 with 2 Axes>"
            ],
            "image/png": "[encoded data removed]"
          },
          "metadata": {
            "needs_background": "light"
          }
        }
      ]
    },
    {
      "cell_type": "code",
      "source": [
        "conv3 = nn.Conv2d(in_channels=2, out_channels=1,kernel_size=3)\n",
        "\n",
        "\n",
        "Gx1=torch.tensor([[0.0,0.0,0.0],[0,1.0,0],[0.0,0.0,0.0]])\n",
        "conv3.state_dict()['weight'][0][0]=1*Gx1\n",
        "conv3.state_dict()['weight'][0][1]=-2*Gx1\n",
        "conv3.state_dict()['bias'][:]=torch.tensor([0.0])\n",
        "\n",
        "\n",
        "print(conv3.state_dict()['weight'])\n",
        "\n",
        "conv3(image2)"
      ],
      "metadata": {
        "colab": {
          "base_uri": "https://localhost:8080/"
        },
        "id": "vsyJy-1vVYW_",
        "outputId": "a288d7a1-f604-400f-88cf-623182643817"
      },
      "execution_count": null,
      "outputs": [
        {
          "output_type": "stream",
          "name": "stdout",
          "text": [
            "tensor([[[[ 0.,  0.,  0.],\n",
            "          [ 0.,  1.,  0.],\n",
            "          [ 0.,  0.,  0.]],\n",
            "\n",
            "         [[-0., -0., -0.],\n",
            "          [-0., -2., -0.],\n",
            "          [-0., -0., -0.]]]])\n"
          ]
        },
        {
          "output_type": "execute_result",
          "data": {
            "text/plain": [
              "tensor([[[[ 0.,  0.,  0.],\n",
              "          [-4., -4., -4.],\n",
              "          [ 0.,  0.,  0.]]]], grad_fn=<ConvolutionBackward0>)"
            ]
          },
          "metadata": {},
          "execution_count": 69
        }
      ]
    },
    {
      "cell_type": "markdown",
      "source": [
        "The following images summarize the process. The object performs Convolution.\n",
        "\n",
        "<img src = \"https://s3-api.us-geo.objectstorage.softlayer.net/cf-courses-data/CognitiveClass/DL0110EN/notebook_images%20/chapter%206/6.1.2_two_channal_example.png\" width = 750, align = \"center\">\n",
        "\n",
        "\n",
        "Then, it adds the result:\n",
        "\n",
        "<img src = \"https://s3-api.us-geo.objectstorage.softlayer.net/cf-courses-data/CognitiveClass/DL0110EN/notebook_images%20/chapter%206/6.1.2_two_channal_example2.png\" width = 750, align = \"center\">\n"
      ],
      "metadata": {
        "id": "nLNnlVyhVth7"
      }
    },
    {
      "cell_type": "markdown",
      "source": [
        "## Multiple Input and Multiple Output Channels\n",
        "\n",
        "When using multiple inputs and outputs, a kernel is created for each input, and the process is repeated for each output. The process is summarized in the following image.\n",
        "\n",
        "There are two input channels and 3 output channels. For each channel, the input in red and purple is convolved with an individual kernel that is colored differently. As a result, there are three outputs.\n",
        "\n",
        "\n",
        "<img src = \"https://s3-api.us-geo.objectstorage.softlayer.net/cf-courses-data/CognitiveClass/DL0110EN/notebook_images%20/chapter%206/6.1.2mulit_input_output.png\" width = 750, align = \"center\">\n"
      ],
      "metadata": {
        "id": "ZE5puiPhWTEZ"
      }
    },
    {
      "cell_type": "code",
      "source": [
        "conv4 = nn.Conv2d(in_channels=2, out_channels=3,kernel_size=3)\n",
        "\n",
        "\n",
        "\n",
        "conv4.state_dict()['weight'][0][0]=torch.tensor([[0.0,0.0,0.0],[0,0.5,0],[0.0,0.0,0.0]])\n",
        "conv4.state_dict()['weight'][0][1]=torch.tensor([[0.0,0.0,0.0],[0,0.5,0],[0.0,0.0,0.0]])\n",
        "\n",
        "\n",
        "conv4.state_dict()['weight'][1][0]=torch.tensor([[0.0,0.0,0.0],[0,1,0],[0.0,0.0,0.0]])\n",
        "conv4.state_dict()['weight'][1][1]=torch.tensor([[0.0,0.0,0.0],[0,-1,0],[0.0,0.0,0.0]])\n",
        "\n",
        "conv4.state_dict()['weight'][2][0]=torch.tensor([[1.0,0,-1.0],[2.0,0,-2.0],[1.0,0.0,-1.0]])\n",
        "conv4.state_dict()['weight'][2][1]=torch.tensor([[1.0,2.0,1.0],[0.0,0.0,0.0],[-1.0,-2.0,-1.0]])\n",
        "\n",
        "\n",
        "\n",
        "conv4.state_dict()['bias'][:]=torch.tensor([0.0,0.0,0.0])"
      ],
      "metadata": {
        "id": "gfqJZ5GGVbrL"
      },
      "execution_count": null,
      "outputs": []
    },
    {
      "cell_type": "code",
      "source": [
        "# 2 channel image\n",
        "\n",
        "image4=torch.zeros(1,2,5,5)\n",
        "image4[0][0]=torch.ones(5,5)\n",
        "image4[0][1][2][2]=1\n",
        "for channel,image in enumerate(image4[0]):\n",
        "    plt.imshow(image.detach().numpy(), interpolation='nearest', cmap=plt.cm.gray)\n",
        "    print(image)\n",
        "    plt.title(\"channel {}\".format(channel))\n",
        "    plt.colorbar()\n",
        "    plt.show()"
      ],
      "metadata": {
        "colab": {
          "base_uri": "https://localhost:8080/",
          "height": 727
        },
        "id": "E1H7SB2nWo9z",
        "outputId": "877f2725-00f0-435d-bae6-f152575f69cb"
      },
      "execution_count": null,
      "outputs": [
        {
          "output_type": "stream",
          "name": "stdout",
          "text": [
            "tensor([[1., 1., 1., 1., 1.],\n",
            "        [1., 1., 1., 1., 1.],\n",
            "        [1., 1., 1., 1., 1.],\n",
            "        [1., 1., 1., 1., 1.],\n",
            "        [1., 1., 1., 1., 1.]])\n"
          ]
        },
        {
          "output_type": "display_data",
          "data": {
            "text/plain": [
              "<Figure size 432x288 with 2 Axes>"
            ],
            "image/png": "[encoded data removed]"
          },
          "metadata": {
            "needs_background": "light"
          }
        },
        {
          "output_type": "stream",
          "name": "stdout",
          "text": [
            "tensor([[0., 0., 0., 0., 0.],\n",
            "        [0., 0., 0., 0., 0.],\n",
            "        [0., 0., 1., 0., 0.],\n",
            "        [0., 0., 0., 0., 0.],\n",
            "        [0., 0., 0., 0., 0.]])\n"
          ]
        },
        {
          "output_type": "display_data",
          "data": {
            "text/plain": [
              "<Figure size 432x288 with 2 Axes>"
            ],
            "image/png": "[encoded data removed]"
          },
          "metadata": {
            "needs_background": "light"
          }
        }
      ]
    },
    {
      "cell_type": "code",
      "source": [
        "\n",
        "# perform conv\n",
        "z=conv4(image4)\n",
        "z"
      ],
      "metadata": {
        "colab": {
          "base_uri": "https://localhost:8080/"
        },
        "id": "SeER1c_yWprT",
        "outputId": "f01c1515-682f-412a-b7b4-589136b53862"
      },
      "execution_count": null,
      "outputs": [
        {
          "output_type": "execute_result",
          "data": {
            "text/plain": [
              "tensor([[[[ 0.5000,  0.5000,  0.5000],\n",
              "          [ 0.5000,  1.0000,  0.5000],\n",
              "          [ 0.5000,  0.5000,  0.5000]],\n",
              "\n",
              "         [[ 1.0000,  1.0000,  1.0000],\n",
              "          [ 1.0000,  0.0000,  1.0000],\n",
              "          [ 1.0000,  1.0000,  1.0000]],\n",
              "\n",
              "         [[-1.0000, -2.0000, -1.0000],\n",
              "          [ 0.0000,  0.0000,  0.0000],\n",
              "          [ 1.0000,  2.0000,  1.0000]]]], grad_fn=<ConvolutionBackward0>)"
            ]
          },
          "metadata": {},
          "execution_count": 73
        }
      ]
    },
    {
      "cell_type": "markdown",
      "source": [
        "The output of the first channel is given by:\n",
        "<img src = \"https://s3-api.us-geo.objectstorage.softlayer.net/cf-courses-data/CognitiveClass/DL0110EN/notebook_images%20/chapter%206/6.1.2_%20multi_channel_1.png\" width = 750, align = \"center\">\n",
        "\n",
        "The output of the second channel is given by:\n",
        "<img src = \"https://s3-api.us-geo.objectstorage.softlayer.net/cf-courses-data/CognitiveClass/DL0110EN/notebook_images%20/chapter%206/6.1.2_%20multi_channel_2.png\" width = 750, align = \"center\">\n",
        "\n",
        "The output of the third channel is given by:\n",
        "<img src = \"https://s3-api.us-geo.objectstorage.softlayer.net/cf-courses-data/CognitiveClass/DL0110EN/notebook_images%20/chapter%206/6.1.2_%20multi_channel_3.png\" width = 750, align = \"center\">\n"
      ],
      "metadata": {
        "id": "LJj9UH0tW-V2"
      }
    },
    {
      "cell_type": "markdown",
      "source": [
        "## Example\n",
        "\n",
        "Do this: \n",
        "\n",
        "<img src = \"https://s3-api.us-geo.objectstorage.softlayer.net/cf-courses-data/CognitiveClass/DL0110EN/notebook_images%20/chapter%206/6.1.2Practice%20Questions_1.png\" width = 750, align = \"center\">\n"
      ],
      "metadata": {
        "id": "U4M_jsQoXh7b"
      }
    },
    {
      "cell_type": "code",
      "source": [
        "imageA=torch.zeros(1,1,5,5)\n",
        "imageB=torch.zeros(1,1,5,5)\n",
        "imageA[0,0,2,:]=-2\n",
        "imageB[0,0,2,:]=1\n",
        "\n",
        "\n",
        "conv5 = nn.Conv2d(in_channels=1, out_channels=1,kernel_size=3)\n",
        "conv6 = nn.Conv2d(in_channels=1, out_channels=1,kernel_size=3)\n",
        "\n",
        "\n",
        "Gx1=torch.tensor([[0.0,0.0,0.0],[0,1.0,0],[0.0,0.0,0.0]])\n",
        "conv5.state_dict()['weight'][0][0]=1*Gx1\n",
        "conv6.state_dict()['weight'][0][0]=-2*Gx1\n",
        "conv5.state_dict()['bias'][:]=torch.tensor([0.0])\n",
        "conv6.state_dict()['bias'][:]=torch.tensor([0.0])\n",
        "\n",
        "\n",
        "conv5(imageA)+conv6(imageB)"
      ],
      "metadata": {
        "colab": {
          "base_uri": "https://localhost:8080/"
        },
        "id": "gF42b-ZoW17k",
        "outputId": "f421fa12-a9ab-4c2c-feeb-7a50987bed59"
      },
      "execution_count": null,
      "outputs": [
        {
          "output_type": "execute_result",
          "data": {
            "text/plain": [
              "tensor([[[[ 0.,  0.,  0.],\n",
              "          [-4., -4., -4.],\n",
              "          [ 0.,  0.,  0.]]]], grad_fn=<AddBackward0>)"
            ]
          },
          "metadata": {},
          "execution_count": 74
        }
      ]
    },
    {
      "cell_type": "markdown",
      "source": [
        "# Convolutional Neural Network\n"
      ],
      "metadata": {
        "id": "_7rCYs6nX4T2"
      }
    },
    {
      "cell_type": "markdown",
      "source": [
        "## Simple cnn"
      ],
      "metadata": {
        "id": "cR-4KNnLel3U"
      }
    },
    {
      "cell_type": "code",
      "source": [
        "import torch \n",
        "import torch.nn as nn\n",
        "import torchvision.transforms as transforms\n",
        "import torchvision.datasets as dsets\n",
        "import matplotlib.pylab as plt\n",
        "import numpy as np\n",
        "\n",
        "torch.manual_seed(4)\n",
        "\n",
        "#Helper function\n",
        "\n",
        "def plot_channels(W):\n",
        "    #number of output channels \n",
        "    n_out=W.shape[0]\n",
        "    #number of input channels \n",
        "    n_in=W.shape[1]\n",
        "    w_min=W.min().item()\n",
        "    w_max=W.max().item()\n",
        "    fig, axes = plt.subplots(n_out,n_in)\n",
        "    fig.subplots_adjust(hspace = 0.1)\n",
        "    out_index=0\n",
        "    in_index=0\n",
        "    #plot outputs as rows inputs as columns \n",
        "    for ax in axes.flat:\n",
        "    \n",
        "        if in_index>n_in-1:\n",
        "            out_index=out_index+1\n",
        "            in_index=0\n",
        "              \n",
        "        ax.imshow(W[out_index,in_index,:,:], vmin=w_min, vmax=w_max, cmap='seismic')\n",
        "        ax.set_yticklabels([])\n",
        "        ax.set_xticklabels([])\n",
        "        in_index=in_index+1\n",
        "\n",
        "    plt.show()\n",
        "\n",
        "def show_data(dataset,sample):\n",
        "\n",
        "    plt.imshow(dataset.x[sample,0,:,:].numpy(),cmap='gray')\n",
        "    plt.title('y='+str(dataset.y[sample].item()))\n",
        "    plt.show()\n",
        "\n",
        "#use to create show data\n",
        "\n",
        "from torch.utils.data import Dataset, DataLoader\n",
        "class Data(Dataset):\n",
        "    def __init__(self,N_images=100,offset=0,p=0.9, train=False):\n",
        "        \"\"\"\n",
        "        p:portability that pixel is wight  \n",
        "        N_images:number of images \n",
        "        offset:set a random vertical and horizontal offset images by a sample should be less than 3 \n",
        "        \"\"\"\n",
        "        if train==True:\n",
        "            np.random.seed(1)  \n",
        "        \n",
        "        #make images multiple of 3 \n",
        "        N_images=2*(N_images//2)\n",
        "        images=np.zeros((N_images,1,11,11))\n",
        "        start1=3\n",
        "        start2=1\n",
        "        self.y=torch.zeros(N_images).type(torch.long)\n",
        "\n",
        "        for n in range(N_images):\n",
        "            if offset>0:\n",
        "        \n",
        "                low=int(np.random.randint(low=start1, high=start1+offset, size=1))\n",
        "                high=int(np.random.randint(low=start2, high=start2+offset, size=1))\n",
        "            else:\n",
        "                low=4\n",
        "                high=1\n",
        "        \n",
        "            if n<=N_images//2:\n",
        "                self.y[n]=0\n",
        "                images[n,0,high:high+9,low:low+3]= np.random.binomial(1, p, (9,3))\n",
        "            elif  n>N_images//2:\n",
        "                self.y[n]=1\n",
        "                images[n,0,low:low+3,high:high+9] = np.random.binomial(1, p, (3,9))\n",
        "           \n",
        "        \n",
        "        \n",
        "        self.x=torch.from_numpy(images).type(torch.FloatTensor)\n",
        "        self.len=self.x.shape[0]\n",
        "        del(images)\n",
        "        np.random.seed(0)\n",
        "    def __getitem__(self,index):      \n",
        "        return self.x[index],self.y[index]\n",
        "    def __len__(self):\n",
        "        return self.len\n",
        "\n",
        "#plot activation of neural networks\n",
        "\n",
        "def plot_activations(A,number_rows= 1,name=\"\"):\n",
        "    A=A[0,:,:,:].detach().numpy()\n",
        "    n_activations=A.shape[0]\n",
        "    \n",
        "    \n",
        "    print(n_activations)\n",
        "    A_min=A.min().item()\n",
        "    A_max=A.max().item()\n",
        "\n",
        "    if n_activations==1:\n",
        "\n",
        "        # Plot the image.\n",
        "        plt.imshow(A[0,:], vmin=A_min, vmax=A_max, cmap='seismic')\n",
        "\n",
        "    else:\n",
        "        fig, axes = plt.subplots(number_rows, n_activations//number_rows)\n",
        "        fig.subplots_adjust(hspace = 0.4)\n",
        "        for i,ax in enumerate(axes.flat):\n",
        "            if i< n_activations:\n",
        "                # Set the label for the sub-plot.\n",
        "                ax.set_xlabel( \"activation:{0}\".format(i+1))\n",
        "\n",
        "                # Plot the image.\n",
        "                ax.imshow(A[i,:], vmin=A_min, vmax=A_max, cmap='seismic')\n",
        "                ax.set_xticks([])\n",
        "                ax.set_yticks([])\n",
        "    plt.show()\n",
        "\n",
        "\n",
        "# Utility function for computing output of convolutions takes a tuple of (h,w) and returns a tuple of (h,w)\n",
        "\n",
        "def conv_output_shape(h_w, kernel_size=1, stride=1, pad=0, dilation=1):\n",
        "    #by Duane Nielsen\n",
        "    from math import floor\n",
        "    if type(kernel_size) is not tuple:\n",
        "        kernel_size = (kernel_size, kernel_size)\n",
        "    h = floor( ((h_w[0] + (2 * pad) - ( dilation * (kernel_size[0] - 1) ) - 1 )/ stride) + 1)\n",
        "    w = floor( ((h_w[1] + (2 * pad) - ( dilation * (kernel_size[1] - 1) ) - 1 )/ stride) + 1)\n",
        "    return h, w"
      ],
      "metadata": {
        "id": "Rn49J6pJXkkt"
      },
      "execution_count": null,
      "outputs": []
    },
    {
      "cell_type": "code",
      "source": [
        "# Prepare data\n",
        "\n",
        "N_images=10000\n",
        "train_dataset=Data(N_images=N_images)\n",
        "\n",
        "#testing data\n",
        "validation_dataset=Data(N_images=1000,train=False)\n",
        "validation_dataset"
      ],
      "metadata": {
        "colab": {
          "base_uri": "https://localhost:8080/"
        },
        "id": "c5Y-oE5Ie5T-",
        "outputId": "f9e7a0f9-0479-4225-f3be-0b02607363de"
      },
      "execution_count": null,
      "outputs": [
        {
          "output_type": "execute_result",
          "data": {
            "text/plain": [
              "<__main__.Data at 0x7f8e84ebadd0>"
            ]
          },
          "metadata": {},
          "execution_count": 82
        }
      ]
    },
    {
      "cell_type": "markdown",
      "source": [
        "Data Visualization\n"
      ],
      "metadata": {
        "id": "kyuzIP8QfxVh"
      }
    },
    {
      "cell_type": "code",
      "source": [
        "show_data(train_dataset,0)"
      ],
      "metadata": {
        "colab": {
          "base_uri": "https://localhost:8080/",
          "height": 281
        },
        "id": "otMBlQuZfo72",
        "outputId": "d7384255-d828-4285-d713-7edd10a2ede3"
      },
      "execution_count": null,
      "outputs": [
        {
          "output_type": "display_data",
          "data": {
            "text/plain": [
              "<Figure size 432x288 with 1 Axes>"
            ],
            "image/png": "[encoded data removed]"
          },
          "metadata": {
            "needs_background": "light"
          }
        }
      ]
    },
    {
      "cell_type": "code",
      "source": [
        "show_data(train_dataset,N_images//2+2)"
      ],
      "metadata": {
        "colab": {
          "base_uri": "https://localhost:8080/",
          "height": 281
        },
        "id": "nc4YEetgf1dO",
        "outputId": "a9ad8318-2a5c-46ca-8e40-11251daa6b9d"
      },
      "execution_count": null,
      "outputs": [
        {
          "output_type": "display_data",
          "data": {
            "text/plain": [
              "<Figure size 432x288 with 1 Axes>"
            ],
            "image/png": "[encoded data removed]"
          },
          "metadata": {
            "needs_background": "light"
          }
        }
      ]
    },
    {
      "cell_type": "markdown",
      "source": [
        "### Build a Convolutional Neral Network Class\n",
        "The input image is 11 x11, the following will change the size of the activations:\n",
        "\n",
        "<ul>\n",
        "<il>convolutional layer</il> \n",
        "</ul>\n",
        "<ul>\n",
        "<il>max pooling layer</il> \n",
        "</ul>\n",
        "<ul>\n",
        "<il>convolutional layer </il>\n",
        "</ul>\n",
        "<ul>\n",
        "<il>max pooling layer </il>\n",
        "</ul>\n",
        "\n",
        "with the following parameters <code>kernel_size</code>, <code>stride</code> and <code> pad</code>.\n",
        "We use the following  lines of code to change the image before we get tot he fully connected layer\n",
        "\n"
      ],
      "metadata": {
        "id": "-VcDktF_f9T8"
      }
    },
    {
      "cell_type": "code",
      "source": [
        "out=conv_output_shape((11,11), kernel_size=2, stride=1, pad=0, dilation=1)\n",
        "print(out)\n",
        "out1=conv_output_shape(out, kernel_size=2, stride=1, pad=0, dilation=1)\n",
        "print(out1)\n",
        "out2=conv_output_shape(out1, kernel_size=2, stride=1, pad=0, dilation=1)\n",
        "print(out2)\n",
        "\n",
        "out3=conv_output_shape(out2, kernel_size=2, stride=1, pad=0, dilation=1)\n",
        "print(out3)"
      ],
      "metadata": {
        "colab": {
          "base_uri": "https://localhost:8080/"
        },
        "id": "ijgPpt-xf43f",
        "outputId": "a65785de-4563-451b-dbc6-db96e9c0057a"
      },
      "execution_count": null,
      "outputs": [
        {
          "output_type": "stream",
          "name": "stdout",
          "text": [
            "(10, 10)\n",
            "(9, 9)\n",
            "(8, 8)\n",
            "(7, 7)\n"
          ]
        }
      ]
    },
    {
      "cell_type": "markdown",
      "source": [
        "Build a Convolutional Network class with two Convolutional layers and one fully connected layer. Pre-determine the size of the final output matrix. The parameters in the constructor are the number of output channels for the first and second layer.\n"
      ],
      "metadata": {
        "id": "kUY9PsjhgUNK"
      }
    },
    {
      "cell_type": "code",
      "source": [
        "class CNN(nn.Module):\n",
        "    def __init__(self,out_1=2,out_2=1):\n",
        "        \n",
        "        super(CNN,self).__init__()\n",
        "        #first Convolutional layers \n",
        "        self.cnn1=nn.Conv2d(in_channels=1,out_channels=out_1,kernel_size=2,padding=0)\n",
        "        self.maxpool1=nn.MaxPool2d(kernel_size=2 ,stride=1)\n",
        "\n",
        "        #second Convolutional layers\n",
        "        self.cnn2=nn.Conv2d(in_channels=out_1,out_channels=out_2,kernel_size=2,stride=1,padding=0)\n",
        "        self.maxpool2=nn.MaxPool2d(kernel_size=2 ,stride=1)\n",
        "        #max pooling \n",
        "\n",
        "        #fully connected layer \n",
        "        self.fc1=nn.Linear(out_2*7*7,2)\n",
        "        \n",
        "    def forward(self,x):\n",
        "        #first Convolutional layers\n",
        "        x=self.cnn1(x)\n",
        "        #activation function \n",
        "        x=torch.relu(x)\n",
        "        #max pooling \n",
        "        x=self.maxpool1(x)\n",
        "        #first Convolutional layers\n",
        "        x=self.cnn2(x)\n",
        "        #activation function\n",
        "        x=torch.relu(x)\n",
        "        #max pooling\n",
        "        x=self.maxpool2(x)\n",
        "        #flatten output \n",
        "        x=x.view(x.size(0),-1)\n",
        "        #fully connected layer\n",
        "        x=self.fc1(x)\n",
        "        return x\n",
        "    \n",
        "    def activations(self,x):\n",
        "        #outputs activation this is not necessary just for fun \n",
        "        z1=self.cnn1(x)\n",
        "        a1=torch.relu(z1)\n",
        "        out=self.maxpool1(a1)\n",
        "        \n",
        "        z2=self.cnn2(out)\n",
        "        a2=torch.relu(z2)\n",
        "        out=self.maxpool2(a2)\n",
        "        out=out.view(out.size(0),-1)\n",
        "        return z1,a1,z2,a2,out        "
      ],
      "metadata": {
        "id": "MZeJMY55gPln"
      },
      "execution_count": null,
      "outputs": []
    },
    {
      "cell_type": "markdown",
      "source": [
        "### Define the Convolutional Neral Network Classifier , Criterion function, Optimizer and Train the  Model "
      ],
      "metadata": {
        "id": "B4MgV9I4gdgt"
      }
    },
    {
      "cell_type": "code",
      "source": [
        "model=CNN(2,1)\n",
        "print(model)\n",
        "\n"
      ],
      "metadata": {
        "colab": {
          "base_uri": "https://localhost:8080/"
        },
        "id": "g0KMGsa-gYFT",
        "outputId": "d3096bb6-235c-4069-a86d-8d587e91247d"
      },
      "execution_count": null,
      "outputs": [
        {
          "output_type": "stream",
          "name": "stdout",
          "text": [
            "CNN(\n",
            "  (cnn1): Conv2d(1, 2, kernel_size=(2, 2), stride=(1, 1))\n",
            "  (maxpool1): MaxPool2d(kernel_size=2, stride=1, padding=0, dilation=1, ceil_mode=False)\n",
            "  (cnn2): Conv2d(2, 1, kernel_size=(2, 2), stride=(1, 1))\n",
            "  (maxpool2): MaxPool2d(kernel_size=2, stride=1, padding=0, dilation=1, ceil_mode=False)\n",
            "  (fc1): Linear(in_features=49, out_features=2, bias=True)\n",
            ")\n"
          ]
        }
      ]
    },
    {
      "cell_type": "code",
      "source": [
        "plot_channels(model.state_dict()['cnn1.weight'])\n"
      ],
      "metadata": {
        "colab": {
          "base_uri": "https://localhost:8080/",
          "height": 252
        },
        "id": "DMBQUT2tg6zL",
        "outputId": "e6c13885-56ba-467a-838e-fea3e3bae648"
      },
      "execution_count": null,
      "outputs": [
        {
          "output_type": "display_data",
          "data": {
            "text/plain": [
              "<Figure size 432x288 with 2 Axes>"
            ],
            "image/png": "[encoded data removed]"
          },
          "metadata": {
            "needs_background": "light"
          }
        }
      ]
    },
    {
      "cell_type": "code",
      "source": [
        "plot_channels(model.state_dict()['cnn2.weight'])"
      ],
      "metadata": {
        "colab": {
          "base_uri": "https://localhost:8080/",
          "height": 187
        },
        "id": "B7JPUZKJg-nH",
        "outputId": "62c09747-9b15-4d19-ba19-f84a4cb30b4c"
      },
      "execution_count": null,
      "outputs": [
        {
          "output_type": "display_data",
          "data": {
            "text/plain": [
              "<Figure size 432x288 with 2 Axes>"
            ],
            "image/png": "[encoded data removed]"
          },
          "metadata": {
            "needs_background": "light"
          }
        }
      ]
    },
    {
      "cell_type": "markdown",
      "source": [
        "### Define the loss function"
      ],
      "metadata": {
        "id": "dwTBa9Wbgx15"
      }
    },
    {
      "cell_type": "code",
      "source": [
        "criterion=nn.CrossEntropyLoss()"
      ],
      "metadata": {
        "id": "xzc6rY7Xgs53"
      },
      "execution_count": null,
      "outputs": []
    },
    {
      "cell_type": "markdown",
      "source": [
        "### Optimizer"
      ],
      "metadata": {
        "id": "PBMAMbfDhE9l"
      }
    },
    {
      "cell_type": "code",
      "source": [
        "learning_rate=0.001\n",
        "\n",
        "optimizer = torch.optim.Adam(model.parameters(), lr=learning_rate)"
      ],
      "metadata": {
        "id": "w9jDMx0ghD_G"
      },
      "execution_count": null,
      "outputs": []
    },
    {
      "cell_type": "code",
      "source": [
        "train_loader=torch.utils.data.DataLoader(dataset=train_dataset,batch_size=10)\n",
        "validation_loader=torch.utils.data.DataLoader(dataset=validation_dataset,batch_size=20)"
      ],
      "metadata": {
        "id": "DwvZzmLphOaj"
      },
      "execution_count": null,
      "outputs": []
    },
    {
      "cell_type": "markdown",
      "source": [
        "### Training Loop"
      ],
      "metadata": {
        "id": "wLb-Cp4nhVB1"
      }
    },
    {
      "cell_type": "code",
      "source": [
        "n_epochs=10\n",
        "cost_list=[]\n",
        "accuracy_list=[]\n",
        "N_test=len(validation_dataset)\n",
        "cost=0\n",
        "#n_epochs\n",
        "for epoch in range(n_epochs):\n",
        "    cost=0    \n",
        "    for x, y in train_loader:\n",
        "      \n",
        "\n",
        "        #clear gradient \n",
        "        optimizer.zero_grad()\n",
        "        #make a prediction \n",
        "        z=model(x)\n",
        "        # calculate loss \n",
        "        loss=criterion(z,y)\n",
        "        # calculate gradients of parameters \n",
        "        loss.backward()\n",
        "        # update parameters \n",
        "        optimizer.step()\n",
        "        cost+=loss.item()\n",
        "    cost_list.append(cost)\n",
        "        \n",
        "        \n",
        "    correct=0\n",
        "    #perform a prediction on the validation  data  \n",
        "    for x_test, y_test in validation_loader:\n",
        "\n",
        "        z=model(x_test)\n",
        "        _,yhat=torch.max(z.data,1)\n",
        "\n",
        "        correct+=(yhat==y_test).sum().item()\n",
        "        \n",
        "\n",
        "    accuracy=correct/N_test\n",
        "\n",
        "    accuracy_list.append(accuracy)"
      ],
      "metadata": {
        "id": "rU1PCUfqhTm4"
      },
      "execution_count": null,
      "outputs": []
    },
    {
      "cell_type": "markdown",
      "source": [
        "### Loss and acc curves"
      ],
      "metadata": {
        "id": "IrNeMKyohfKS"
      }
    },
    {
      "cell_type": "code",
      "source": [
        "fig, ax1 = plt.subplots()\n",
        "color = 'tab:red'\n",
        "ax1.plot(cost_list,color=color)\n",
        "ax1.set_xlabel('epoch',color=color)\n",
        "ax1.set_ylabel('total loss',color=color)\n",
        "ax1.tick_params(axis='y', color=color)\n",
        "    \n",
        "ax2 = ax1.twinx()  \n",
        "color = 'tab:blue'\n",
        "ax2.set_ylabel('accuracy', color=color)  \n",
        "ax2.plot( accuracy_list, color=color)\n",
        "ax2.tick_params(axis='y', labelcolor=color)\n",
        "fig.tight_layout()"
      ],
      "metadata": {
        "colab": {
          "base_uri": "https://localhost:8080/",
          "height": 297
        },
        "id": "Gq3cmS9shXRj",
        "outputId": "00ffd186-7923-4a28-fb90-204af720ab2f"
      },
      "execution_count": null,
      "outputs": [
        {
          "output_type": "display_data",
          "data": {
            "text/plain": [
              "<Figure size 432x288 with 2 Axes>"
            ],
            "image/png": "[encoded data removed]"
          },
          "metadata": {
            "needs_background": "light"
          }
        }
      ]
    },
    {
      "cell_type": "markdown",
      "source": [
        "### View the results of the parameters for the Convolutional layers"
      ],
      "metadata": {
        "id": "xlU1J2Sthp3h"
      }
    },
    {
      "cell_type": "code",
      "source": [
        "model.state_dict()['cnn1.weight']"
      ],
      "metadata": {
        "colab": {
          "base_uri": "https://localhost:8080/"
        },
        "id": "u09GEXO2hiAH",
        "outputId": "e42dbd14-3015-4e00-e636-639c4b16a8ea"
      },
      "execution_count": null,
      "outputs": [
        {
          "output_type": "execute_result",
          "data": {
            "text/plain": [
              "tensor([[[[-0.1596,  0.9234],\n",
              "          [-0.4446,  0.4797]]],\n",
              "\n",
              "\n",
              "        [[[-0.1344,  0.1398],\n",
              "          [ 0.3901,  0.5132]]]])"
            ]
          },
          "metadata": {},
          "execution_count": 98
        }
      ]
    },
    {
      "cell_type": "code",
      "source": [
        "plot_channels(model.state_dict()['cnn1.weight'])"
      ],
      "metadata": {
        "colab": {
          "base_uri": "https://localhost:8080/",
          "height": 252
        },
        "id": "3a7i4FIphzHQ",
        "outputId": "e63f32fc-c5bd-468b-dd70-016ad36d87fa"
      },
      "execution_count": null,
      "outputs": [
        {
          "output_type": "display_data",
          "data": {
            "text/plain": [
              "<Figure size 432x288 with 2 Axes>"
            ],
            "image/png": "[encoded data removed]"
          },
          "metadata": {
            "needs_background": "light"
          }
        }
      ]
    },
    {
      "cell_type": "code",
      "source": [
        "model.state_dict()['cnn1.weight']"
      ],
      "metadata": {
        "colab": {
          "base_uri": "https://localhost:8080/"
        },
        "id": "nWtbr3fch1V2",
        "outputId": "ec22285b-87ab-46f2-8d2a-dd2aa2052dc5"
      },
      "execution_count": null,
      "outputs": [
        {
          "output_type": "execute_result",
          "data": {
            "text/plain": [
              "tensor([[[[-0.1596,  0.9234],\n",
              "          [-0.4446,  0.4797]]],\n",
              "\n",
              "\n",
              "        [[[-0.1344,  0.1398],\n",
              "          [ 0.3901,  0.5132]]]])"
            ]
          },
          "metadata": {},
          "execution_count": 100
        }
      ]
    },
    {
      "cell_type": "code",
      "source": [
        "plot_channels(model.state_dict()['cnn2.weight'])"
      ],
      "metadata": {
        "colab": {
          "base_uri": "https://localhost:8080/",
          "height": 187
        },
        "id": "uBjF-mW0h4Sn",
        "outputId": "09072bda-9b2a-450e-c8db-c1e280333447"
      },
      "execution_count": null,
      "outputs": [
        {
          "output_type": "display_data",
          "data": {
            "text/plain": [
              "<Figure size 432x288 with 2 Axes>"
            ],
            "image/png": "[encoded data removed]"
          },
          "metadata": {
            "needs_background": "light"
          }
        }
      ]
    },
    {
      "cell_type": "code",
      "source": [
        "show_data(train_dataset,N_images//2+2)"
      ],
      "metadata": {
        "colab": {
          "base_uri": "https://localhost:8080/",
          "height": 281
        },
        "id": "HD9GAQJjh7R2",
        "outputId": "664f3cd8-66bc-4987-cb44-a17df6b91f99"
      },
      "execution_count": null,
      "outputs": [
        {
          "output_type": "display_data",
          "data": {
            "text/plain": [
              "<Figure size 432x288 with 1 Axes>"
            ],
            "image/png": "[encoded data removed]"
          },
          "metadata": {
            "needs_background": "light"
          }
        }
      ]
    },
    {
      "cell_type": "code",
      "source": [
        "out=model.activations(train_dataset[N_images//2+2][0].view(1,1,11,11))\n",
        "out=model.activations(train_dataset[0][0].view(1,1,11,11))"
      ],
      "metadata": {
        "id": "62uLVRahh939"
      },
      "execution_count": null,
      "outputs": []
    },
    {
      "cell_type": "code",
      "source": [
        "plot_activations(out[0],number_rows=1,name=\" feature map\")\n",
        "plt.show()\n"
      ],
      "metadata": {
        "colab": {
          "base_uri": "https://localhost:8080/",
          "height": 215
        },
        "id": "3hht-A-FiAvi",
        "outputId": "afcacbb2-ae94-428b-b345-257bae61b529"
      },
      "execution_count": null,
      "outputs": [
        {
          "output_type": "stream",
          "name": "stdout",
          "text": [
            "2\n"
          ]
        },
        {
          "output_type": "display_data",
          "data": {
            "text/plain": [
              "<Figure size 432x288 with 2 Axes>"
            ],
            "image/png": "[encoded data removed]"
          },
          "metadata": {}
        }
      ]
    },
    {
      "cell_type": "code",
      "source": [
        "plot_activations(out[2],number_rows=1,name=\"2nd feature map\")\n",
        "plt.show()"
      ],
      "metadata": {
        "colab": {
          "base_uri": "https://localhost:8080/",
          "height": 283
        },
        "id": "sK4WQvWGiC54",
        "outputId": "1b07f316-d526-4bc2-ebf0-ad11ffc29f44"
      },
      "execution_count": null,
      "outputs": [
        {
          "output_type": "stream",
          "name": "stdout",
          "text": [
            "1\n"
          ]
        },
        {
          "output_type": "display_data",
          "data": {
            "text/plain": [
              "<Figure size 432x288 with 1 Axes>"
            ],
            "image/png": "[encoded data removed]"
          },
          "metadata": {
            "needs_background": "light"
          }
        }
      ]
    },
    {
      "cell_type": "code",
      "source": [
        "plot_activations(out[3],number_rows=1,name=\"first feature map\")\n",
        "plt.show()"
      ],
      "metadata": {
        "colab": {
          "base_uri": "https://localhost:8080/",
          "height": 283
        },
        "id": "1rd3VoAEiF3p",
        "outputId": "65b3c424-54d3-4f15-8011-4dfaf256bb4c"
      },
      "execution_count": null,
      "outputs": [
        {
          "output_type": "stream",
          "name": "stdout",
          "text": [
            "1\n"
          ]
        },
        {
          "output_type": "display_data",
          "data": {
            "text/plain": [
              "<Figure size 432x288 with 1 Axes>"
            ],
            "image/png": "[encoded data removed]"
          },
          "metadata": {
            "needs_background": "light"
          }
        }
      ]
    },
    {
      "cell_type": "code",
      "source": [
        "out1=out[4][0].detach().numpy()"
      ],
      "metadata": {
        "id": "usScslASiKKo"
      },
      "execution_count": null,
      "outputs": []
    },
    {
      "cell_type": "code",
      "source": [
        "out0=model.activations(train_dataset[100][0].view(1,1,11,11))[4][0].detach().numpy()\n",
        "out0"
      ],
      "metadata": {
        "colab": {
          "base_uri": "https://localhost:8080/"
        },
        "id": "WJuiLu2ViNkx",
        "outputId": "b3633ced-2c45-477c-a9d6-729cae76f861"
      },
      "execution_count": null,
      "outputs": [
        {
          "output_type": "execute_result",
          "data": {
            "text/plain": [
              "array([1.4762653 , 1.4762653 , 0.2599035 , 0.        , 0.        ,\n",
              "       0.25768492, 0.5747493 , 1.4762653 , 1.4762653 , 0.22671661,\n",
              "       0.        , 0.        , 0.25768492, 0.5747493 , 1.4762653 ,\n",
              "       1.4762653 , 0.22591361, 0.        , 0.        , 0.17383286,\n",
              "       0.5747493 , 1.4762653 , 1.4762653 , 0.22591361, 0.        ,\n",
              "       0.        , 0.17134304, 0.5747493 , 1.4762653 , 1.4762653 ,\n",
              "       0.22591361, 0.        , 0.        , 0.25768492, 0.5747493 ,\n",
              "       1.4762653 , 1.4762653 , 0.22591361, 0.        , 0.        ,\n",
              "       0.25768492, 0.5747493 , 1.4762653 , 1.4762653 , 0.22591361,\n",
              "       0.        , 0.        , 0.25768492, 0.5747493 ], dtype=float32)"
            ]
          },
          "metadata": {},
          "execution_count": 108
        }
      ]
    },
    {
      "cell_type": "code",
      "source": [
        "plt.subplot(2, 1, 1)\n",
        "plt.plot( out1, 'b')\n",
        "plt.title('Flatted Activation Values  ')\n",
        "plt.ylabel('Activation')\n",
        "plt.xlabel('index')\n",
        "plt.subplot(2, 1, 2)\n",
        "plt.plot(out0, 'r')\n",
        "plt.xlabel('index')\n",
        "plt.ylabel('Activation')"
      ],
      "metadata": {
        "colab": {
          "base_uri": "https://localhost:8080/",
          "height": 313
        },
        "id": "NwvTYWCgiQMn",
        "outputId": "304e2304-67f6-412c-bb71-f9e9b46a1e2e"
      },
      "execution_count": null,
      "outputs": [
        {
          "output_type": "execute_result",
          "data": {
            "text/plain": [
              "Text(0, 0.5, 'Activation')"
            ]
          },
          "metadata": {},
          "execution_count": 109
        },
        {
          "output_type": "display_data",
          "data": {
            "text/plain": [
              "<Figure size 432x288 with 2 Axes>"
            ],
            "image/png": "[encoded data removed]"
          },
          "metadata": {
            "needs_background": "light"
          }
        }
      ]
    },
    {
      "cell_type": "code",
      "source": [],
      "metadata": {
        "id": "PVVWcsm3iS5a"
      },
      "execution_count": null,
      "outputs": []
    },
    {
      "cell_type": "markdown",
      "source": [],
      "metadata": {
        "id": "gOjrMGdHicGg"
      }
    },
    {
      "cell_type": "markdown",
      "source": [
        "# CNN: MNIST *data*"
      ],
      "metadata": {
        "id": "Ks_HZTHrilKM"
      }
    },
    {
      "cell_type": "code",
      "source": [
        "import torch \n",
        "import torch.nn as nn\n",
        "import torchvision.transforms as transforms\n",
        "import torchvision.datasets as dsets\n",
        "import matplotlib.pylab as plt\n",
        "import numpy as np"
      ],
      "metadata": {
        "id": "kduqbmDPipQO"
      },
      "execution_count": null,
      "outputs": []
    },
    {
      "cell_type": "markdown",
      "source": [
        "Define some plot functions\n"
      ],
      "metadata": {
        "id": "2ts2daJRmcNz"
      }
    },
    {
      "cell_type": "code",
      "source": [
        "# Define the function for plotting the channels\n",
        "\n",
        "def plot_channels(W):\n",
        "    n_out = W.shape[0]\n",
        "    n_in = W.shape[1]\n",
        "    w_min = W.min().item()\n",
        "    w_max = W.max().item()\n",
        "    fig, axes = plt.subplots(n_out, n_in)\n",
        "    fig.subplots_adjust(hspace=0.1)\n",
        "    out_index = 0\n",
        "    in_index = 0\n",
        "    \n",
        "    #plot outputs as rows inputs as columns \n",
        "    for ax in axes.flat:\n",
        "        if in_index > n_in-1:\n",
        "            out_index = out_index + 1\n",
        "            in_index = 0\n",
        "        ax.imshow(W[out_index, in_index, :, :], vmin=w_min, vmax=w_max, cmap='seismic')\n",
        "        ax.set_yticklabels([])\n",
        "        ax.set_xticklabels([])\n",
        "        in_index = in_index + 1\n",
        "\n",
        "    plt.show()\n",
        "\n",
        "\n",
        "# Define the function for plotting the parameters\n",
        "\n",
        "def plot_parameters(W, number_rows=1, name=\"\", i=0):\n",
        "    W = W.data[:, i, :, :]\n",
        "    n_filters = W.shape[0]\n",
        "    w_min = W.min().item()\n",
        "    w_max = W.max().item()\n",
        "    fig, axes = plt.subplots(number_rows, n_filters // number_rows)\n",
        "    fig.subplots_adjust(hspace=0.4)\n",
        "\n",
        "    for i, ax in enumerate(axes.flat):\n",
        "        if i < n_filters:\n",
        "            # Set the label for the sub-plot.\n",
        "            ax.set_xlabel(\"kernel:{0}\".format(i + 1))\n",
        "\n",
        "            # Plot the image.\n",
        "            ax.imshow(W[i, :], vmin=w_min, vmax=w_max, cmap='seismic')\n",
        "            ax.set_xticks([])\n",
        "            ax.set_yticks([])\n",
        "    plt.suptitle(name, fontsize=10)    \n",
        "    plt.show()\n",
        "\n",
        "# Define the function for plotting the activations\n",
        "\n",
        "def plot_activations(A, number_rows=1, name=\"\", i=0):\n",
        "    A = A[0, :, :, :].detach().numpy()\n",
        "    n_activations = A.shape[0]\n",
        "    A_min = A.min().item()\n",
        "    A_max = A.max().item()\n",
        "    fig, axes = plt.subplots(number_rows, n_activations // number_rows)\n",
        "    fig.subplots_adjust(hspace = 0.4)\n",
        "\n",
        "    for i, ax in enumerate(axes.flat):\n",
        "        if i < n_activations:\n",
        "            # Set the label for the sub-plot.\n",
        "            ax.set_xlabel(\"activation:{0}\".format(i + 1))\n",
        "\n",
        "            # Plot the image.\n",
        "            ax.imshow(A[i, :], vmin=A_min, vmax=A_max, cmap='seismic')\n",
        "            ax.set_xticks([])\n",
        "            ax.set_yticks([])\n",
        "    plt.show()\n",
        "\n",
        "\n",
        "def show_data(data_sample):\n",
        "    plt.imshow(data_sample[0].numpy().reshape(IMAGE_SIZE, IMAGE_SIZE), cmap='gray')\n",
        "    plt.title('y = '+ str(data_sample[1]))"
      ],
      "metadata": {
        "id": "UfyCdq7ImS6m"
      },
      "execution_count": null,
      "outputs": []
    },
    {
      "cell_type": "code",
      "source": [
        "\n",
        "\n",
        "IMAGE_SIZE = 16\n",
        "\n",
        "#Define transforms\n",
        "composed = transforms.Compose([transforms.Resize((IMAGE_SIZE, IMAGE_SIZE)), transforms.ToTensor()])\n",
        "\n",
        "\n",
        "#Make training dataset\n",
        "train_dataset = dsets.MNIST(root='./data', train=True, download=True, transform=composed)\n",
        "# Make the validating \n",
        "validation_dataset = dsets.MNIST(root='./data', train=False, download=True, transform=composed)\n",
        "\n",
        "\n"
      ],
      "metadata": {
        "colab": {
          "base_uri": "https://localhost:8080/",
          "height": 451,
          "referenced_widgets": [
            "43d6ca5f64ed40dd8a5e19605a29870e",
            "a5cb3bdf9e0242f6ad4a3520ffaec762",
            "bf1767521b5847808075c42ae6ac9b80",
            "be2ab8fccffe4e9fa5f418e7056242ee",
            "2b768dafb2ae4de88674112ccb2fba94",
            "b26c29c4793f41f99edfeccd40395ae0",
            "180049c06f434898ad9928af460d3b5c",
            "5a9280271e424210ab964c0ff9e56e40",
            "383aac50ac0e4eda8bf081f2b901f4c0",
            "af52ae33a0324aaab818c8c603705987",
            "4790680ea27c497bb065002a76be78e4",
            "7459143abdce48c2a171f028093816b4",
            "0976922316d8435ea9eb8d69aefdc161",
            "e05e108e7c074e318c61b1928cc27123",
            "bc89c828d8af4fab9e011a9c5593f38e",
            "92d9da7b27cb47e88f30a75bfbea87db",
            "41126d5d851a46cd810c4c901cea5e97",
            "2d852244caf44bdb8f1772cb84c922c5",
            "a0300f2c3d2246739565946f941634f4",
            "a3a3943a93c4487fa6cb3f4ea6314efa",
            "36a8dd9a7e0a4330920f814e18ca6b2a",
            "0e71eed378b9445cb825e2a74c185f72",
            "d0f60c9e588146f6b84cf632dc2be15c",
            "b1d9e50d411a4a73bb90e8b03560911f",
            "78976e717b874739a4bc568dc4a1a764",
            "3979a4fd51214164830d61263315cbc6",
            "46b22c39572a4c5d81e398aa07e2aecd",
            "62d912a1dff348dd9bce75d120d73b02",
            "46db3375e20e4c459a62f0730b26c779",
            "e6a1bd6a5b9f4bee8a3c793355355f44",
            "769d8766e4c440458f7e2d11b17bfb9e",
            "96d021e913e0498fa566ae2e5dc95a29",
            "2898bf205a114bb683c6101ef46c17bc",
            "b45b0340d35246008d21f954262ac25c",
            "98bdb6ad91bc47228db0b293c1450fbf",
            "7517872ed2024696bb873f7feed1230b",
            "9aa32e94563441898bc48aabbe1a678a",
            "668964a2e69f4c4ab28dc9deb006995a",
            "13281de4f4354ecb954384e750b4d195",
            "e2d5d31b2cf1429fb6a2a59a2eec4471",
            "a8defdfb8afc4089bf355d681af1ac20",
            "bcbd3d97bbd84e5696da0b5783d3a9de",
            "4b3891da32274ae19f8d4f6af2d4fb3a",
            "239e3ad2f00f49dab5926a19da47389c"
          ]
        },
        "id": "1loXEp7rm0_G",
        "outputId": "ace54940-def0-456d-8777-c92904cb7082"
      },
      "execution_count": null,
      "outputs": [
        {
          "output_type": "stream",
          "name": "stdout",
          "text": [
            "Downloading http://yann.lecun.com/exdb/mnist/train-images-idx3-ubyte.gz\n",
            "Downloading http://yann.lecun.com/exdb/mnist/train-images-idx3-ubyte.gz to ./data/MNIST/raw/train-images-idx3-ubyte.gz\n"
          ]
        },
        {
          "output_type": "display_data",
          "data": {
            "text/plain": [
              "  0%|          | 0/9912422 [00:00<?, ?it/s]"
            ],
            "application/vnd.jupyter.widget-view+json": {
              "version_major": 2,
              "version_minor": 0,
              "model_id": "43d6ca5f64ed40dd8a5e19605a29870e"
            }
          },
          "metadata": {}
        },
        {
          "output_type": "stream",
          "name": "stdout",
          "text": [
            "Extracting ./data/MNIST/raw/train-images-idx3-ubyte.gz to ./data/MNIST/raw\n",
            "\n",
            "Downloading http://yann.lecun.com/exdb/mnist/train-labels-idx1-ubyte.gz\n",
            "Downloading http://yann.lecun.com/exdb/mnist/train-labels-idx1-ubyte.gz to ./data/MNIST/raw/train-labels-idx1-ubyte.gz\n"
          ]
        },
        {
          "output_type": "display_data",
          "data": {
            "text/plain": [
              "  0%|          | 0/28881 [00:00<?, ?it/s]"
            ],
            "application/vnd.jupyter.widget-view+json": {
              "version_major": 2,
              "version_minor": 0,
              "model_id": "7459143abdce48c2a171f028093816b4"
            }
          },
          "metadata": {}
        },
        {
          "output_type": "stream",
          "name": "stdout",
          "text": [
            "Extracting ./data/MNIST/raw/train-labels-idx1-ubyte.gz to ./data/MNIST/raw\n",
            "\n",
            "Downloading http://yann.lecun.com/exdb/mnist/t10k-images-idx3-ubyte.gz\n",
            "Downloading http://yann.lecun.com/exdb/mnist/t10k-images-idx3-ubyte.gz to ./data/MNIST/raw/t10k-images-idx3-ubyte.gz\n"
          ]
        },
        {
          "output_type": "display_data",
          "data": {
            "text/plain": [
              "  0%|          | 0/1648877 [00:00<?, ?it/s]"
            ],
            "application/vnd.jupyter.widget-view+json": {
              "version_major": 2,
              "version_minor": 0,
              "model_id": "d0f60c9e588146f6b84cf632dc2be15c"
            }
          },
          "metadata": {}
        },
        {
          "output_type": "stream",
          "name": "stdout",
          "text": [
            "Extracting ./data/MNIST/raw/t10k-images-idx3-ubyte.gz to ./data/MNIST/raw\n",
            "\n",
            "Downloading http://yann.lecun.com/exdb/mnist/t10k-labels-idx1-ubyte.gz\n",
            "Downloading http://yann.lecun.com/exdb/mnist/t10k-labels-idx1-ubyte.gz to ./data/MNIST/raw/t10k-labels-idx1-ubyte.gz\n"
          ]
        },
        {
          "output_type": "display_data",
          "data": {
            "text/plain": [
              "  0%|          | 0/4542 [00:00<?, ?it/s]"
            ],
            "application/vnd.jupyter.widget-view+json": {
              "version_major": 2,
              "version_minor": 0,
              "model_id": "b45b0340d35246008d21f954262ac25c"
            }
          },
          "metadata": {}
        },
        {
          "output_type": "stream",
          "name": "stdout",
          "text": [
            "Extracting ./data/MNIST/raw/t10k-labels-idx1-ubyte.gz to ./data/MNIST/raw\n",
            "\n"
          ]
        }
      ]
    },
    {
      "cell_type": "markdown",
      "source": [
        "### Build a Convolutional Neural Network Class\n",
        "\n",
        "Build a Convolutional Network class with two Convolutional layers and one fully connected layer. Pre-determine the size of the final output matrix. The parameters in the constructor are the number of output channels for the first and second layer.\n"
      ],
      "metadata": {
        "id": "-ziQoh5gnXjb"
      }
    },
    {
      "cell_type": "code",
      "source": [
        "class CNN(nn.Module):\n",
        "    \n",
        "    # Contructor\n",
        "    def __init__(self, out_1=16, out_2=32):\n",
        "        super(CNN, self).__init__()\n",
        "        self.cnn1 = nn.Conv2d(in_channels=1, out_channels=out_1, kernel_size=5, padding=2)\n",
        "        self.maxpool1=nn.MaxPool2d(kernel_size=2)\n",
        "\n",
        "        self.cnn2 = nn.Conv2d(in_channels=out_1, out_channels=out_2, kernel_size=5, stride=1, padding=2)\n",
        "        self.maxpool2=nn.MaxPool2d(kernel_size=2)\n",
        "        self.fc1 = nn.Linear(out_2 * 4 * 4, 10)\n",
        "    \n",
        "    # Prediction\n",
        "    def forward(self, x):\n",
        "        x = self.cnn1(x)\n",
        "        x = torch.relu(x)\n",
        "        x = self.maxpool1(x)\n",
        "        x = self.cnn2(x)\n",
        "        x = torch.relu(x)\n",
        "        x = self.maxpool2(x)\n",
        "        x = x.view(x.size(0), -1)\n",
        "        x = self.fc1(x)\n",
        "        return x\n",
        "    \n",
        "    # Outputs in each steps\n",
        "    def activations(self, x):\n",
        "        #outputs activation this is not necessary\n",
        "        z1 = self.cnn1(x)\n",
        "        a1 = torch.relu(z1)\n",
        "        out = self.maxpool1(a1)\n",
        "        \n",
        "        z2 = self.cnn2(out)\n",
        "        a2 = torch.relu(z2)\n",
        "        out1 = self.maxpool2(a2)\n",
        "        out = out.view(out.size(0),-1)\n",
        "        return z1, a1, z2, a2, out1,out"
      ],
      "metadata": {
        "id": "0pjf6LyanMgU"
      },
      "execution_count": null,
      "outputs": []
    },
    {
      "cell_type": "markdown",
      "source": [
        "### Define the Convolutional Neural Network Classifier, Criterion function, Optimizer and Train the Model"
      ],
      "metadata": {
        "id": "f48yVKNUnqjl"
      }
    },
    {
      "cell_type": "code",
      "source": [
        "# Create the model object using CNN class\n",
        "model = CNN(out_1=16, out_2=32)"
      ],
      "metadata": {
        "id": "lGaamnelnsde"
      },
      "execution_count": null,
      "outputs": []
    },
    {
      "cell_type": "code",
      "source": [
        "# Plot the parameters\n",
        "#Plot the model parameters for the kernels before training the kernels. The kernels are initialized randomly.\n",
        "\n",
        "plot_parameters(model.state_dict()['cnn1.weight'], number_rows=4, name=\"1st layer kernels before training \")\n",
        "plot_parameters(model.state_dict()['cnn2.weight'], number_rows=4, name='2nd layer kernels before training' )"
      ],
      "metadata": {
        "colab": {
          "base_uri": "https://localhost:8080/",
          "height": 562
        },
        "id": "1y1T4opIn12m",
        "outputId": "766ca949-1170-43e4-c7ae-d94ab0905e46"
      },
      "execution_count": null,
      "outputs": [
        {
          "output_type": "display_data",
          "data": {
            "text/plain": [
              "<Figure size 432x288 with 16 Axes>"
            ],
            "image/png": "[encoded data removed]"
          },
          "metadata": {}
        },
        {
          "output_type": "display_data",
          "data": {
            "text/plain": [
              "<Figure size 432x288 with 32 Axes>"
            ],
            "image/png": "[encoded data removed]"
          },
          "metadata": {}
        }
      ]
    },
    {
      "cell_type": "markdown",
      "source": [
        "### Define the loss function, the optimizer and the dataset loader\n"
      ],
      "metadata": {
        "id": "SlRYYpIPoEk7"
      }
    },
    {
      "cell_type": "code",
      "source": [
        "criterion = nn.CrossEntropyLoss()\n",
        "learning_rate = 0.1\n",
        "optimizer = torch.optim.SGD(model.parameters(), lr = learning_rate)\n",
        "train_loader = torch.utils.data.DataLoader(dataset=train_dataset, batch_size=100)\n",
        "validation_loader = torch.utils.data.DataLoader(dataset=validation_dataset, batch_size=5000)"
      ],
      "metadata": {
        "id": "hZDcCvwXn6cd"
      },
      "execution_count": null,
      "outputs": []
    },
    {
      "cell_type": "markdown",
      "source": [
        "### Train the model and determine validation accuracy technically test accuracy "
      ],
      "metadata": {
        "id": "dyA0_Fk5oPGm"
      }
    },
    {
      "cell_type": "code",
      "source": [
        "# Train the model\n",
        "\n",
        "n_epochs=3\n",
        "cost_list=[]\n",
        "accuracy_list=[]\n",
        "N_test=len(validation_dataset)\n",
        "COST=0\n",
        "\n",
        "def train_model(n_epochs):\n",
        "    for epoch in range(n_epochs):\n",
        "        COST=0\n",
        "        for x, y in train_loader:\n",
        "            optimizer.zero_grad()\n",
        "            z = model(x)\n",
        "            loss = criterion(z, y)\n",
        "            loss.backward()\n",
        "            optimizer.step()\n",
        "            COST+=loss.data\n",
        "        \n",
        "        cost_list.append(COST)\n",
        "        correct=0\n",
        "        #perform a prediction on the validation  data  \n",
        "        for x_test, y_test in validation_loader:\n",
        "            z = model(x_test)\n",
        "            _, yhat = torch.max(z.data, 1)\n",
        "            correct += (yhat == y_test).sum().item()\n",
        "        accuracy = correct / N_test\n",
        "        accuracy_list.append(accuracy)\n",
        "     \n",
        "train_model(n_epochs)"
      ],
      "metadata": {
        "id": "ABEbHcJtoIo1"
      },
      "execution_count": null,
      "outputs": []
    },
    {
      "cell_type": "markdown",
      "source": [
        "### Plot Acc AND Loss on val dataset"
      ],
      "metadata": {
        "id": "l-xdJu48oYnu"
      }
    },
    {
      "cell_type": "code",
      "source": [
        "# Plot the loss and accuracy\n",
        "\n",
        "fig, ax1 = plt.subplots()\n",
        "color = 'tab:red'\n",
        "ax1.plot(cost_list, color=color)\n",
        "ax1.set_xlabel('epoch', color=color)\n",
        "ax1.set_ylabel('Cost', color=color)\n",
        "ax1.tick_params(axis='y', color=color)\n",
        "    \n",
        "ax2 = ax1.twinx()  \n",
        "color = 'tab:blue'\n",
        "ax2.set_ylabel('accuracy', color=color) \n",
        "ax2.set_xlabel('epoch', color=color)\n",
        "ax2.plot( accuracy_list, color=color)\n",
        "ax2.tick_params(axis='y', color=color)\n",
        "fig.tight_layout()"
      ],
      "metadata": {
        "colab": {
          "base_uri": "https://localhost:8080/",
          "height": 297
        },
        "id": "pWd123_zoTRW",
        "outputId": "5fdd4aec-8705-41d2-87b6-39caecdb462c"
      },
      "execution_count": null,
      "outputs": [
        {
          "output_type": "display_data",
          "data": {
            "text/plain": [
              "<Figure size 432x288 with 2 Axes>"
            ],
            "image/png": "[encoded data removed]"
          },
          "metadata": {
            "needs_background": "light"
          }
        }
      ]
    },
    {
      "cell_type": "markdown",
      "source": [
        "### View the results of the parameters for the Convolutional layers\n"
      ],
      "metadata": {
        "id": "Sw-aUHEtozYJ"
      }
    },
    {
      "cell_type": "code",
      "source": [
        "# Plot the channels\n",
        "\n",
        "plot_channels(model.state_dict()['cnn1.weight'])\n",
        "plot_channels(model.state_dict()['cnn2.weight'])\n",
        "\n",
        "\n"
      ],
      "metadata": {
        "colab": {
          "base_uri": "https://localhost:8080/",
          "height": 487
        },
        "id": "FaAYC9BZoefa",
        "outputId": "d720344a-baea-44b1-adcd-c9b8f850334a"
      },
      "execution_count": null,
      "outputs": [
        {
          "output_type": "display_data",
          "data": {
            "text/plain": [
              "<Figure size 432x288 with 16 Axes>"
            ],
            "image/png": "[encoded data removed]"
          },
          "metadata": {
            "needs_background": "light"
          }
        },
        {
          "output_type": "display_data",
          "data": {
            "text/plain": [
              "<Figure size 432x288 with 512 Axes>"
            ],
            "image/png": "[encoded data removed]"
          },
          "metadata": {
            "needs_background": "light"
          }
        }
      ]
    },
    {
      "cell_type": "code",
      "source": [
        "# Show the second image\n",
        "\n",
        "show_data(train_dataset[1])"
      ],
      "metadata": {
        "colab": {
          "base_uri": "https://localhost:8080/",
          "height": 281
        },
        "id": "1gY1O1QSo8jX",
        "outputId": "dfd25d93-f7d7-4cd8-c7cb-b6349bff46fa"
      },
      "execution_count": null,
      "outputs": [
        {
          "output_type": "display_data",
          "data": {
            "text/plain": [
              "<Figure size 432x288 with 1 Axes>"
            ],
            "image/png": "[encoded data removed]"
          },
          "metadata": {
            "needs_background": "light"
          }
        }
      ]
    },
    {
      "cell_type": "code",
      "source": [
        "# Use the CNN activations class to see the steps\n",
        "\n",
        "out = model.activations(train_dataset[1][0].view(1, 1, IMAGE_SIZE, IMAGE_SIZE))\n",
        "\n",
        "\n",
        "# Plot the outputs after the first CNN\n",
        "\n",
        "plot_activations(out[0], number_rows=4, name=\"Output after the 1st CNN\")\n",
        "\n",
        "# Plot the outputs after the first Relu\n",
        "\n",
        "plot_activations(out[1], number_rows=4, name=\"Output after the 1st Relu\")\n",
        "\n",
        "\n",
        "# Plot the outputs after the second CNN\n",
        "\n",
        "plot_activations(out[2], number_rows=32 // 4, name=\"Output after the 2nd CNN\")\n",
        "\n",
        "\n",
        "\n",
        "# Plot the outputs after the second Relu\n",
        "\n",
        "plot_activations(out[3], number_rows=4, name=\"Output after the 2nd Relu\")\n",
        "\n",
        "\n"
      ],
      "metadata": {
        "colab": {
          "base_uri": "https://localhost:8080/",
          "height": 991
        },
        "id": "zbPKppi6pM0S",
        "outputId": "c51368a6-33f7-40d8-8a60-7c26a8251560"
      },
      "execution_count": null,
      "outputs": [
        {
          "output_type": "display_data",
          "data": {
            "text/plain": [
              "<Figure size 432x288 with 16 Axes>"
            ],
            "image/png": "[encoded data removed]"
          },
          "metadata": {}
        },
        {
          "output_type": "display_data",
          "data": {
            "text/plain": [
              "<Figure size 432x288 with 16 Axes>"
            ],
            "image/png": "[encoded data removed]"
          },
          "metadata": {}
        },
        {
          "output_type": "display_data",
          "data": {
            "text/plain": [
              "<Figure size 432x288 with 32 Axes>"
            ],
            "image/png": "[encoded data removed]"
          },
          "metadata": {}
        },
        {
          "output_type": "display_data",
          "data": {
            "text/plain": [
              "<Figure size 432x288 with 32 Axes>"
            ],
            "image/png": "[encoded data removed]"
          },
          "metadata": {}
        }
      ]
    },
    {
      "cell_type": "code",
      "source": [
        "# Plot the mis-classified samples\n",
        "\n",
        "count = 0\n",
        "for x, y in torch.utils.data.DataLoader(dataset=validation_dataset, batch_size=1):\n",
        "    z = model(x)\n",
        "    _, yhat = torch.max(z, 1)\n",
        "    if yhat != y:\n",
        "        show_data((x, y))\n",
        "        plt.show()\n",
        "        print(\"yhat: \",yhat)\n",
        "        count += 1\n",
        "    if count >= 5:\n",
        "        break  "
      ],
      "metadata": {
        "colab": {
          "base_uri": "https://localhost:8080/",
          "height": 1000
        },
        "id": "JQsV921_pe6Y",
        "outputId": "b164873a-be87-45eb-d5a7-aaa33d5a9842"
      },
      "execution_count": null,
      "outputs": [
        {
          "output_type": "display_data",
          "data": {
            "text/plain": [
              "<Figure size 432x288 with 1 Axes>"
            ],
            "image/png": "[encoded data removed]"
          },
          "metadata": {
            "needs_background": "light"
          }
        },
        {
          "output_type": "stream",
          "name": "stdout",
          "text": [
            "yhat:  tensor([2])\n"
          ]
        },
        {
          "output_type": "display_data",
          "data": {
            "text/plain": [
              "<Figure size 432x288 with 1 Axes>"
            ],
            "image/png": "[encoded data removed]"
          },
          "metadata": {
            "needs_background": "light"
          }
        },
        {
          "output_type": "stream",
          "name": "stdout",
          "text": [
            "yhat:  tensor([0])\n"
          ]
        },
        {
          "output_type": "display_data",
          "data": {
            "text/plain": [
              "<Figure size 432x288 with 1 Axes>"
            ],
            "image/png": "[encoded data removed]"
          },
          "metadata": {
            "needs_background": "light"
          }
        },
        {
          "output_type": "stream",
          "name": "stdout",
          "text": [
            "yhat:  tensor([4])\n"
          ]
        },
        {
          "output_type": "display_data",
          "data": {
            "text/plain": [
              "<Figure size 432x288 with 1 Axes>"
            ],
            "image/png": "[encoded data removed]"
          },
          "metadata": {
            "needs_background": "light"
          }
        },
        {
          "output_type": "stream",
          "name": "stdout",
          "text": [
            "yhat:  tensor([1])\n"
          ]
        },
        {
          "output_type": "display_data",
          "data": {
            "text/plain": [
              "<Figure size 432x288 with 1 Axes>"
            ],
            "image/png": "[encoded data removed]"
          },
          "metadata": {
            "needs_background": "light"
          }
        },
        {
          "output_type": "stream",
          "name": "stdout",
          "text": [
            "yhat:  tensor([1])\n"
          ]
        }
      ]
    },
    {
      "cell_type": "code",
      "source": [],
      "metadata": {
        "id": "FwgDLb-Dps7S"
      },
      "execution_count": null,
      "outputs": []
    },
    {
      "cell_type": "markdown",
      "source": [
        "# "
      ],
      "metadata": {
        "id": "k3N50G3xp-kI"
      }
    },
    {
      "cell_type": "markdown",
      "source": [
        "# CNN: MNIST data with Batch-Normalization"
      ],
      "metadata": {
        "id": "bVOBFdRurftv"
      }
    },
    {
      "cell_type": "markdown",
      "source": [
        "Like a fully connected network, we create a <code>BatchNorm2d</code> object, but we apply it to the 2D convolution object. First, we create objects <code>Conv2d</code> object; we require the number of output channels, specified by the variable <code>OUT</code>.\n",
        "\n",
        "<code>self.cnn1 = nn.Conv2d(in_channels=1, out_channels=OUT, kernel_size=5, padding=2) </code>\n",
        "\n",
        "We then create a Batch Norm  object for 2D convolution as follows:\n",
        "\n",
        "<code>self.conv1\\_bn = nn.BatchNorm2d(OUT)</code>\n",
        "\n",
        "The parameter out is the number of channels in the output. We can then apply batch norm  after  the convolution operation :\n",
        "\n",
        "<code>x = self.cnn1(x)</code>\n",
        "\n",
        "<p></p>\n",
        " <code> x=self.conv1_bn(x)</code>\n"
      ],
      "metadata": {
        "id": "d2cJlBBPrl_K"
      }
    },
    {
      "cell_type": "code",
      "source": [
        "import torch \n",
        "import torch.nn as nn\n",
        "import torchvision.transforms as transforms\n",
        "import torchvision.datasets as dsets\n",
        "import matplotlib.pylab as plt\n",
        "import numpy as np\n",
        "def show_data(data_sample):\n",
        "    plt.imshow(data_sample[0].numpy().reshape(IMAGE_SIZE, IMAGE_SIZE), cmap='gray')\n",
        "    plt.title('y = '+ str(data_sample[1]))"
      ],
      "metadata": {
        "id": "p9iDa9EBrhGq"
      },
      "execution_count": null,
      "outputs": []
    },
    {
      "cell_type": "code",
      "source": [
        "IMAGE_SIZE = 16\n",
        "\n",
        "composed = transforms.Compose([transforms.Resize((IMAGE_SIZE, IMAGE_SIZE)), transforms.ToTensor()])\n",
        "#train dataset\n",
        "train_dataset = dsets.MNIST(root='./data', train=True, download=True, transform=composed)\n",
        "# Make the validating \n",
        "validation_dataset = dsets.MNIST(root='./data', train=False, download=True, transform=composed)\n",
        "\n",
        "# Show the data type for each element in dataset\n",
        "type(train_dataset[0][1])\n",
        "# The image for the fourth data element\n",
        "show_data(train_dataset[3])"
      ],
      "metadata": {
        "colab": {
          "base_uri": "https://localhost:8080/",
          "height": 281
        },
        "id": "GTOvlIrMr9yO",
        "outputId": "2b7e04d7-199d-42a1-e562-7db99aba4505"
      },
      "execution_count": null,
      "outputs": [
        {
          "output_type": "display_data",
          "data": {
            "text/plain": [
              "<Figure size 432x288 with 1 Axes>"
            ],
            "image/png": "[encoded data removed]"
          },
          "metadata": {
            "needs_background": "light"
          }
        }
      ]
    },
    {
      "cell_type": "markdown",
      "source": [
        "### Build a Two Convolutional Neural Network Class"
      ],
      "metadata": {
        "id": "TeVhuWLpsWkG"
      }
    },
    {
      "cell_type": "markdown",
      "source": [
        "Build a Convolutional Network class with two Convolutional layers and one fully connected layer. Pre-determine the size of the final output matrix. The parameters in the constructor are the number of output channels for the first and second layer.\n"
      ],
      "metadata": {
        "id": "vDPFCHODsZ-C"
      }
    },
    {
      "cell_type": "code",
      "source": [
        "class CNN(nn.Module):\n",
        "    \n",
        "    # Contructor\n",
        "    def __init__(self, out_1=16, out_2=32):\n",
        "        super(CNN, self).__init__()\n",
        "        self.cnn1 = nn.Conv2d(in_channels=1, out_channels=out_1, kernel_size=5, padding=2)\n",
        "        self.maxpool1=nn.MaxPool2d(kernel_size=2)\n",
        "\n",
        "        self.cnn2 = nn.Conv2d(in_channels=out_1, out_channels=out_2, kernel_size=5, stride=1, padding=2)\n",
        "        self.maxpool2=nn.MaxPool2d(kernel_size=2)\n",
        "        self.fc1 = nn.Linear(out_2 * 4 * 4, 10)\n",
        "    \n",
        "    # Prediction\n",
        "    def forward(self, x):\n",
        "        x = self.cnn1(x)\n",
        "        x = torch.relu(x)\n",
        "        x = self.maxpool1(x)\n",
        "        x = self.cnn2(x)\n",
        "        x = torch.relu(x)\n",
        "        x = self.maxpool2(x)\n",
        "        x = x.view(x.size(0), -1)\n",
        "        x = self.fc1(x)\n",
        "        return x\n"
      ],
      "metadata": {
        "id": "wDUMCAUTsSgs"
      },
      "execution_count": null,
      "outputs": []
    },
    {
      "cell_type": "markdown",
      "source": [
        "Build a Convolutional Network class with two Convolutional layers and one fully connected layer. But we add Batch Norm for the convolutional layers.\n"
      ],
      "metadata": {
        "id": "QTNLpYV_sdr-"
      }
    },
    {
      "cell_type": "code",
      "source": [
        "class CNN_batch(nn.Module):\n",
        "    \n",
        "    # Contructor\n",
        "    def __init__(self, out_1=16, out_2=32,number_of_classes=10):\n",
        "        super(CNN_batch, self).__init__()\n",
        "        self.cnn1 = nn.Conv2d(in_channels=1, out_channels=out_1, kernel_size=5, padding=2)\n",
        "        self.conv1_bn = nn.BatchNorm2d(out_1)\n",
        "\n",
        "        self.maxpool1=nn.MaxPool2d(kernel_size=2)\n",
        "        \n",
        "        self.cnn2 = nn.Conv2d(in_channels=out_1, out_channels=out_2, kernel_size=5, stride=1, padding=2)\n",
        "        self.conv2_bn = nn.BatchNorm2d(out_2)\n",
        "\n",
        "        self.maxpool2=nn.MaxPool2d(kernel_size=2)\n",
        "        self.fc1 = nn.Linear(out_2 * 4 * 4, number_of_classes)\n",
        "        self.bn_fc1 = nn.BatchNorm1d(10)\n",
        "    \n",
        "    # Prediction\n",
        "    def forward(self, x):\n",
        "        x = self.cnn1(x)\n",
        "        x=self.conv1_bn(x)\n",
        "        x = torch.relu(x)\n",
        "        x = self.maxpool1(x)\n",
        "        x = self.cnn2(x)\n",
        "        x=self.conv2_bn(x)\n",
        "        x = torch.relu(x)\n",
        "        x = self.maxpool2(x)\n",
        "        x = x.view(x.size(0), -1)\n",
        "        x = self.fc1(x)\n",
        "        x=self.bn_fc1(x)\n",
        "        return x"
      ],
      "metadata": {
        "id": "9jx9NwvJsc8M"
      },
      "execution_count": null,
      "outputs": []
    },
    {
      "cell_type": "markdown",
      "source": [
        "### Function to train the model"
      ],
      "metadata": {
        "id": "WTxZggcVslTI"
      }
    },
    {
      "cell_type": "code",
      "source": [
        "def train_model(model,train_loader,validation_loader,optimizer,n_epochs=4):\n",
        "    \n",
        "    #global variable \n",
        "    N_test=len(validation_dataset)\n",
        "    accuracy_list=[]\n",
        "    loss_list=[]\n",
        "    for epoch in range(n_epochs):\n",
        "        for x, y in train_loader:\n",
        "            model.train()\n",
        "            optimizer.zero_grad()\n",
        "            z = model(x)\n",
        "            loss = criterion(z, y)\n",
        "            loss.backward()\n",
        "            optimizer.step()\n",
        "            loss_list.append(loss.data)\n",
        "\n",
        "        correct=0\n",
        "        #perform a prediction on the validation  data  \n",
        "        for x_test, y_test in validation_loader:\n",
        "            model.eval()\n",
        "            z = model(x_test)\n",
        "            _, yhat = torch.max(z.data, 1)\n",
        "            correct += (yhat == y_test).sum().item()\n",
        "        accuracy = correct / N_test\n",
        "        accuracy_list.append(accuracy)\n",
        "     \n",
        "    return accuracy_list, loss_list"
      ],
      "metadata": {
        "id": "eTCzA9ensiTT"
      },
      "execution_count": null,
      "outputs": []
    },
    {
      "cell_type": "markdown",
      "source": [
        "### Define the Convolutional Neural Network Classifier, Criterion function, Optimizer and Train the Model"
      ],
      "metadata": {
        "id": "e10fmDJIssIZ"
      }
    },
    {
      "cell_type": "code",
      "source": [
        "# Create the model object using CNN class\n",
        "model = CNN(out_1=16, out_2=32)\n",
        "\n",
        "criterion = nn.CrossEntropyLoss()\n",
        "learning_rate = 0.1\n",
        "optimizer = torch.optim.SGD(model.parameters(), lr = learning_rate)\n",
        "train_loader = torch.utils.data.DataLoader(dataset=train_dataset, batch_size=100)\n",
        "validation_loader = torch.utils.data.DataLoader(dataset=validation_dataset, batch_size=5000)\n",
        "\n",
        "# Train the model\n",
        "accuracy_list_normal, loss_list_normal=train_model(model=model,n_epochs=10,train_loader=train_loader,validation_loader=validation_loader,optimizer=optimizer)"
      ],
      "metadata": {
        "id": "zhG9_6V_sn6_"
      },
      "execution_count": null,
      "outputs": []
    },
    {
      "cell_type": "markdown",
      "source": [
        "Repeat the Process for the model with  batch norm"
      ],
      "metadata": {
        "id": "QGahy4NXs8QW"
      }
    },
    {
      "cell_type": "code",
      "source": [
        "\n",
        "model_batch=CNN_batch(out_1=16, out_2=32)\n",
        "criterion = nn.CrossEntropyLoss()\n",
        "learning_rate = 0.1\n",
        "optimizer = torch.optim.SGD(model_batch.parameters(), lr = learning_rate)\n",
        "accuracy_list_batch, loss_list_batch=train_model(model=model_batch,n_epochs=10,train_loader=train_loader,validation_loader=validation_loader,optimizer=optimizer)"
      ],
      "metadata": {
        "id": "rKTYCy4ys243"
      },
      "execution_count": null,
      "outputs": []
    },
    {
      "cell_type": "markdown",
      "source": [
        "### Loss Plot"
      ],
      "metadata": {
        "id": "WnOscgk8tAK2"
      }
    },
    {
      "cell_type": "code",
      "source": [
        "# Plot the loss and accuracy\n",
        "\n",
        "plt.plot(loss_list_normal, 'b',label='loss normal cnn ')\n",
        "plt.plot(loss_list_batch,'r',label='loss batch cnn')\n",
        "plt.xlabel('iteration')\n",
        "plt.title(\"loss\")\n",
        "plt.legend()"
      ],
      "metadata": {
        "colab": {
          "base_uri": "https://localhost:8080/",
          "height": 313
        },
        "id": "fdIxvaTus9p4",
        "outputId": "d0b8ee00-7f29-4b26-ca80-60a417bbb2c8"
      },
      "execution_count": null,
      "outputs": [
        {
          "output_type": "execute_result",
          "data": {
            "text/plain": [
              "<matplotlib.legend.Legend at 0x7f8e72a9d190>"
            ]
          },
          "metadata": {},
          "execution_count": 132
        },
        {
          "output_type": "display_data",
          "data": {
            "text/plain": [
              "<Figure size 432x288 with 1 Axes>"
            ],
            "image/png": "[encoded data removed]"
          },
          "metadata": {
            "needs_background": "light"
          }
        }
      ]
    },
    {
      "cell_type": "code",
      "source": [
        "plt.plot(accuracy_list_normal, 'b',label=' normal CNN')\n",
        "plt.plot(accuracy_list_batch,'r',label=' CNN with Batch Norm')\n",
        "plt.xlabel('Epoch')\n",
        "plt.title(\"Accuracy \")\n",
        "plt.legend()\n",
        "plt.show()"
      ],
      "metadata": {
        "colab": {
          "base_uri": "https://localhost:8080/",
          "height": 295
        },
        "id": "KHbnicLStCW5",
        "outputId": "c51cb5f6-6030-4665-fddb-691ecf17ecb8"
      },
      "execution_count": null,
      "outputs": [
        {
          "output_type": "display_data",
          "data": {
            "text/plain": [
              "<Figure size 432x288 with 1 Axes>"
            ],
            "image/png": "[encoded data removed]"
          },
          "metadata": {
            "needs_background": "light"
          }
        }
      ]
    },
    {
      "cell_type": "code",
      "source": [],
      "metadata": {
        "id": "hsSsj9y_tF9O"
      },
      "execution_count": null,
      "outputs": []
    },
    {
      "cell_type": "markdown",
      "source": [
        "# Reference\n",
        "\n",
        "https://cs231n.github.io/convolutional-networks/\n",
        "\n",
        "https://pytorch.org/tutorials/beginner/blitz/cifar10_tutorial.html\n",
        "\n",
        "https://pytorch.org/tutorials/"
      ],
      "metadata": {
        "id": "vycfttWQtj8f"
      }
    },
    {
      "cell_type": "code",
      "source": [],
      "metadata": {
        "id": "fqIVPc5StyBu"
      },
      "execution_count": null,
      "outputs": []
    }
  ]
}