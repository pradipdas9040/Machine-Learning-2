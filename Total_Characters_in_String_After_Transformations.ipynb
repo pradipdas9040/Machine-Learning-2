{
 "cells": [
  {
   "cell_type": "markdown",
   "id": "8f3c8ddf",
   "metadata": {},
   "source": [
    "## Total Characters in String After Transformations I\n",
    "\n",
    "You are given a string `s` and an integer `t`, representing the number of transformations to perform. In one transformation, every character in s is replaced according to the following rules:\n",
    "\n",
    "- If the character is `'z'`, replace it with the string `\"ab\"`.\n",
    "- Otherwise, replace it with the next character in the alphabet. For example, `'a'` is replaced with `'b'`, `'b'` is replaced with `'c'`, and so on.\n",
    "Return the length of the resulting string after exactly `t` transformations.\n",
    "\n",
    "Since the answer may be very large, return it modulo `10^9 + 7`.\n",
    "\n",
    "## Example 1:\n",
    "\n",
    "- Input: s = \"abcyy\", t = 2\n",
    "- Output: 7\n",
    "- Explanation:\n",
    "```plaintext[]\n",
    "        First Transformation (t = 1):\n",
    "                'a' becomes 'b'\n",
    "                'b' becomes 'c'\n",
    "                'c' becomes 'd'\n",
    "                'y' becomes 'z'\n",
    "                'y' becomes 'z'\n",
    "                String after the first transformation: \"bcdzz\"\n",
    "        Second Transformation (t = 2):\n",
    "                'b' becomes 'c'\n",
    "                'c' becomes 'd'\n",
    "                'd' becomes 'e'\n",
    "                'z' becomes \"ab\"\n",
    "                'z' becomes \"ab\"\n",
    "                String after the second transformation: \"cdeabab\"\n",
    "        Final Length of the string: The string is \"cdeabab\", which has 7 characters.\n",
    "```\n"
   ]
  },
  {
   "cell_type": "code",
   "execution_count": 1,
   "id": "32d62245",
   "metadata": {},
   "outputs": [],
   "source": [
    "from collections import Counter"
   ]
  },
  {
   "cell_type": "code",
   "execution_count": 2,
   "id": "9b9f69bc",
   "metadata": {},
   "outputs": [],
   "source": [
    "## not space efficient\n",
    "\n",
    "def lengthAfterTransformations(s: str, t: int) -> int:\n",
    "    for _ in range(t):\n",
    "        new_s = ''\n",
    "        for item in s:\n",
    "            if item != 'z':\n",
    "                new_s += chr(ord(item) + 1)\n",
    "            else:\n",
    "                new_s += 'ab'\n",
    "        s = new_s\n",
    "    return len(s) % (10 ** 9 + 7)"
   ]
  },
  {
   "cell_type": "code",
   "execution_count": 3,
   "id": "f82b08ac",
   "metadata": {},
   "outputs": [
    {
     "data": {
      "text/plain": [
       "7"
      ]
     },
     "execution_count": 3,
     "metadata": {},
     "output_type": "execute_result"
    }
   ],
   "source": [
    "s = \"abcyy\"\n",
    "t = 2\n",
    "lengthAfterTransformations(s, t)"
   ]
  },
  {
   "cell_type": "code",
   "execution_count": 4,
   "id": "fc26f935",
   "metadata": {},
   "outputs": [],
   "source": [
    "## space efficient but not time\n",
    "\n",
    "def lengthAfterTransformations(s: str, t: int) -> int:\n",
    "    count = Counter(s)\n",
    "    for _ in range(t):\n",
    "        new_count = Counter()\n",
    "        for ch in count:\n",
    "            if ch == 'z':\n",
    "                new_count['a'] += count[ch]\n",
    "                new_count['b'] += count[ch]\n",
    "\n",
    "            else:\n",
    "                new_count[chr(ord(ch) + 1)] += count[ch]\n",
    "        count = new_count\n",
    "    return sum(count.values()) % (10 ** 9 + 7)"
   ]
  },
  {
   "cell_type": "code",
   "execution_count": 5,
   "id": "b7531e92",
   "metadata": {},
   "outputs": [
    {
     "data": {
      "text/plain": [
       "5"
      ]
     },
     "execution_count": 5,
     "metadata": {},
     "output_type": "execute_result"
    }
   ],
   "source": [
    "s = 'xly'\n",
    "t = 5\n",
    "lengthAfterTransformations(s, t)"
   ]
  },
  {
   "cell_type": "code",
   "execution_count": 6,
   "id": "a6b7b627",
   "metadata": {},
   "outputs": [],
   "source": [
    "## optimized time and space\n",
    "\n",
    "def lengthAfterTransformations(s: str, t: int) -> int:\n",
    "    mod = 10**9 + 7\n",
    "    cnt = [0] * 26\n",
    "    for ch in s:\n",
    "        cnt[ord(ch) - ord(\"a\")] += 1\n",
    "    for round in range(t):\n",
    "        nxt = [0] * 26\n",
    "        nxt[0] = cnt[25]\n",
    "        nxt[1] = (cnt[25] + cnt[0]) % mod\n",
    "        for i in range(2, 26):\n",
    "            nxt[i] = cnt[i - 1]\n",
    "        cnt = nxt\n",
    "    ans = sum(cnt) % mod\n",
    "    return ans"
   ]
  }
 ],
 "metadata": {
  "kernelspec": {
   "display_name": "Python 3",
   "language": "python",
   "name": "python3"
  },
  "language_info": {
   "codemirror_mode": {
    "name": "ipython",
    "version": 3
   },
   "file_extension": ".py",
   "mimetype": "text/x-python",
   "name": "python",
   "nbconvert_exporter": "python",
   "pygments_lexer": "ipython3",
   "version": "3.12.3"
  }
 },
 "nbformat": 4,
 "nbformat_minor": 5
}
