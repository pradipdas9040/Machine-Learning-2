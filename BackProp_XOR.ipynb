{
 "cells": [
  {
   "cell_type": "code",
   "execution_count": 1,
   "id": "7bddcebf",
   "metadata": {},
   "outputs": [],
   "source": [
    "import numpy as np\n",
    "import matplotlib.pyplot as pl"
   ]
  },
  {
   "cell_type": "code",
   "execution_count": 2,
   "id": "169807a0",
   "metadata": {},
   "outputs": [],
   "source": [
    "# These are XOR inputs\n",
    "x=np.array([[0,0,1,1],[0,1,0,1]])\n",
    "# These are XOR outputs\n",
    "y=np.array([[0,1,1,0]])\n",
    "# Number of inputs\n",
    "n_x = 2\n",
    "# Number of neurons in output layer\n",
    "n_y = 1\n",
    "# Number of neurons in hidden layer\n",
    "n_h = 2\n",
    "# Total training examples\n",
    "m = x.shape[1]\n",
    "# Learning rate\n",
    "lr = 0.1\n",
    "# Define random seed for consistent results\n",
    "np.random.seed(2)\n",
    "# Define weight matrices for neural network\n",
    "w1 = np.random.rand(n_h,n_x)   # Weight matrix for hidden layer\n",
    "w2 = np.random.rand(n_y,n_h)   # Weight matrix for output layer\n",
    "# I didnt use bias units\n",
    "# We will use this list to accumulate losses\n",
    "losses = []"
   ]
  },
  {
   "cell_type": "code",
   "execution_count": 3,
   "id": "0f3df05b",
   "metadata": {},
   "outputs": [],
   "source": [
    "# I used sigmoid activation function for hidden layer and output\n",
    "def sigmoid(z):\n",
    "    z= 1/(1+np.exp(-z))\n",
    "    return z\n",
    "\n",
    "# Forward propagation\n",
    "def forward_prop(w1,w2,x):\n",
    "    z1 = np.dot(w1,x)\n",
    "    a1 = sigmoid(z1)    \n",
    "    z2 = np.dot(w2,a1)\n",
    "    a2 = sigmoid(z2)\n",
    "    return z1,a1,z2,a2\n",
    "\n",
    "# Backward propagation\n",
    "def back_prop(m,w1,w2,z1,a1,z2,a2,y):\n",
    "    \n",
    "    dz2 = a2-y\n",
    "    dw2 = np.dot(dz2,a1.T)/m\n",
    "    dz1 = np.dot(w2.T,dz2) * a1*(1-a1)\n",
    "    dw1 = np.dot(dz1,x.T)/m\n",
    "    dw1 = np.reshape(dw1,w1.shape)\n",
    "    \n",
    "    dw2 = np.reshape(dw2,w2.shape)    \n",
    "    return dz2,dw2,dz1,dw1"
   ]
  },
  {
   "cell_type": "code",
   "execution_count": 4,
   "id": "5caab988",
   "metadata": {},
   "outputs": [
    {
     "data": {
      "text/plain": [
       "Text(0, 0.5, 'Loss value')"
      ]
     },
     "execution_count": 4,
     "metadata": {},
     "output_type": "execute_result"
    },
    {
     "data": {
      "image/png": "[encoded data removed]",
      "text/plain": [
       "<Figure size 432x288 with 1 Axes>"
      ]
     },
     "metadata": {
      "needs_background": "light"
     },
     "output_type": "display_data"
    }
   ],
   "source": [
    "iterations = 10000\n",
    "for i in range(iterations):\n",
    "    z1,a1,z2,a2 = forward_prop(w1,w2,x)\n",
    "    loss = -(1/m)*np.sum(y*np.log(a2)+(1-y)*np.log(1-a2))\n",
    "    losses.append(loss)\n",
    "    da2,dw2,dz1,dw1 = back_prop(m,w1,w2,z1,a1,z2,a2,y)\n",
    "    w2 = w2-lr*dw2\n",
    "    w1 = w1-lr*dw1\n",
    "\n",
    "# We plot losses to see how our network is doing\n",
    "pl.plot(losses)\n",
    "pl.xlabel(\"EPOCHS\")\n",
    "pl.ylabel(\"Loss value\")"
   ]
  },
  {
   "cell_type": "code",
   "execution_count": 5,
   "id": "029ebf1f",
   "metadata": {},
   "outputs": [],
   "source": [
    "def predict(w1,w2,test):\n",
    "    z1,a1,z2,a2 = forward_prop(w1,w2,test)\n",
    "    a2 = np.squeeze(a2)\n",
    "    if a2>=0.5:\n",
    "        print(\"For input\", [i[0] for i in test], \"output is 1\")\n",
    "    else:\n",
    "        print(\"For input\", [i[0] for i in test], \"output is 0\")"
   ]
  },
  {
   "cell_type": "code",
   "execution_count": 6,
   "id": "ede6b829",
   "metadata": {},
   "outputs": [
    {
     "name": "stdout",
     "output_type": "stream",
     "text": [
      "For input [0, 0] output is 0\n",
      "For input [1, 0] output is 1\n",
      "For input [0, 1] output is 1\n",
      "For input [1, 1] output is 0\n"
     ]
    }
   ],
   "source": [
    "test = np.array([[0],[0]])\n",
    "predict(w1,w2,test)\n",
    "test = np.array([[1],[0]])\n",
    "predict(w1,w2,test)\n",
    "test = np.array([[0],[1]])\n",
    "predict(w1,w2,test)\n",
    "test = np.array([[1],[1]])\n",
    "predict(w1,w2,test)"
   ]
  },
  {
   "cell_type": "code",
   "execution_count": null,
   "id": "44d38fc9",
   "metadata": {},
   "outputs": [],
   "source": []
  }
 ],
 "metadata": {
  "kernelspec": {
   "display_name": "Python 3 (ipykernel)",
   "language": "python",
   "name": "python3"
  },
  "language_info": {
   "codemirror_mode": {
    "name": "ipython",
    "version": 3
   },
   "file_extension": ".py",
   "mimetype": "text/x-python",
   "name": "python",
   "nbconvert_exporter": "python",
   "pygments_lexer": "ipython3",
   "version": "3.10.2"
  }
 },
 "nbformat": 4,
 "nbformat_minor": 5
}
