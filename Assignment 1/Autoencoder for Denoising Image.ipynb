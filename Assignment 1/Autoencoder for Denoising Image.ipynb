{
 "cells": [
  {
   "cell_type": "code",
   "execution_count": 1,
   "id": "ef13e333",
   "metadata": {},
   "outputs": [],
   "source": [
    "from keras.models import Sequential \n",
    "from keras.layers import Dense,Conv2D,MaxPooling2D,UpSampling2D\n",
    "from keras import Input, Model\n",
    "from keras.datasets import mnist\n",
    "\n",
    "from extra_keras_datasets import kmnist\n",
    "\n",
    "import numpy as np\n",
    "import matplotlib.pyplot as plt\n",
    "import random\n",
    "\n",
    "from IPython.display import SVG\n",
    "from keras.utils.vis_utils import model_to_dot"
   ]
  },
  {
   "cell_type": "code",
   "execution_count": 2,
   "id": "9644f985",
   "metadata": {},
   "outputs": [],
   "source": [
    "(x_train, _), (x_test, _) = mnist.load_data()"
   ]
  },
  {
   "cell_type": "code",
   "execution_count": 3,
   "id": "1022ebf1",
   "metadata": {},
   "outputs": [],
   "source": [
    "x_train_noise = []\n",
    "for item in range(x_train.shape[0]):\n",
    "    noise = np.zeros(x_train[0].shape)\n",
    "    n = random.randrange(20)\n",
    "    for i in range(n, n+9):\n",
    "        for j in range(n, n+9):\n",
    "            noise[i,j] =  0.7 * np.random.normal(loc=200, scale=25.0)\n",
    "    noise = np.uint8(noise)\n",
    "    x_train_noise.append(x_train[item] + noise)\n",
    "x_train_noise = np.array(x_train_noise)\n",
    "\n",
    "x_test_noise = []         \n",
    "for item in range(x_test.shape[0]):\n",
    "    noise = np.zeros(x_test[0].shape)\n",
    "    n = random.randrange(20)\n",
    "    for i in range(n, n+9):\n",
    "        for j in range(n, n+9):\n",
    "            noise[i,j] =  0.7 * np.random.normal(loc=200, scale=25.0)\n",
    "    noise = np.uint8(noise)\n",
    "    x_test_noise.append(x_test[item] + noise)\n",
    "x_test_noise = np.array(x_test_noise)"
   ]
  },
  {
   "cell_type": "code",
   "execution_count": 4,
   "id": "341f6b51",
   "metadata": {},
   "outputs": [
    {
     "name": "stdout",
     "output_type": "stream",
     "text": [
      "(60000, 784)\n",
      "(10000, 784)\n",
      "(60000, 784)\n",
      "(10000, 784)\n"
     ]
    }
   ],
   "source": [
    "x_train = x_train.astype('float32') / 255.\n",
    "x_test = x_test.astype('float32') / 255.\n",
    "\n",
    "x_train = x_train.reshape((len(x_train), np.prod(x_train.shape[1:])))\n",
    "x_test = x_test.reshape((len(x_test), np.prod(x_test.shape[1:])))\n",
    "\n",
    "x_train_noise = x_train_noise.astype('float32') / 255.\n",
    "x_test_noise = x_test_noise.astype('float32') / 255.\n",
    "\n",
    "x_train_noise = x_train_noise.reshape((len(x_train_noise), np.prod(x_train_noise.shape[1:])))\n",
    "x_test_noise = x_test_noise.reshape((len(x_test_noise), np.prod(x_test_noise.shape[1:])))\n",
    "\n",
    "\n",
    "print(x_train.shape)\n",
    "print(x_test.shape)\n",
    "print(x_train_noise.shape)\n",
    "print(x_test_noise.shape)"
   ]
  },
  {
   "cell_type": "code",
   "execution_count": 7,
   "id": "8747faa3",
   "metadata": {},
   "outputs": [
    {
     "name": "stdout",
     "output_type": "stream",
     "text": [
      "Orignal Image:\n"
     ]
    },
    {
     "data": {
      "image/png": "[encoded data removed]",
      "text/plain": [
       "<Figure size 1440x288 with 10 Axes>"
      ]
     },
     "metadata": {
      "needs_background": "light"
     },
     "output_type": "display_data"
    },
    {
     "name": "stdout",
     "output_type": "stream",
     "text": [
      "Noisy Image:\n"
     ]
    },
    {
     "data": {
      "image/png": "[encoded data removed]",
      "text/plain": [
       "<Figure size 1440x288 with 10 Axes>"
      ]
     },
     "metadata": {
      "needs_background": "light"
     },
     "output_type": "display_data"
    }
   ],
   "source": [
    "n = 10\n",
    "\n",
    "print('Orignal Image:')\n",
    "plt.figure(figsize=(20, 4))\n",
    "for i in range(n):\n",
    "    ax = plt.subplot(2, n, i + 1)\n",
    "    plt.imshow(x_test[i].reshape(28, 28))\n",
    "    plt.gray()\n",
    "    ax.get_xaxis().set_visible(False)\n",
    "    ax.get_yaxis().set_visible(False)\n",
    "plt.show()\n",
    "\n",
    "print('Noisy Image:')\n",
    "plt.figure(figsize=(20, 4))\n",
    "for i in range(n):\n",
    "    ax = plt.subplot(2, n, i + 1 + n)\n",
    "    plt.imshow(x_test_noise[i].reshape(28, 28))\n",
    "    plt.gray()\n",
    "    ax.get_xaxis().set_visible(False)\n",
    "    ax.get_yaxis().set_visible(False)\n",
    "plt.show()"
   ]
  },
  {
   "cell_type": "code",
   "execution_count": 8,
   "id": "4954c7e1",
   "metadata": {},
   "outputs": [
    {
     "name": "stdout",
     "output_type": "stream",
     "text": [
      "Model: \"model_1\"\n",
      "_________________________________________________________________\n",
      " Layer (type)                Output Shape              Param #   \n",
      "=================================================================\n",
      " input_2 (InputLayer)        [(None, 784)]             0         \n",
      "                                                                 \n",
      " dense_8 (Dense)             (None, 200)               157000    \n",
      "                                                                 \n",
      " dense_9 (Dense)             (None, 100)               20100     \n",
      "                                                                 \n",
      " dense_10 (Dense)            (None, 30)                3030      \n",
      "                                                                 \n",
      " dense_11 (Dense)            (None, 15)                465       \n",
      "                                                                 \n",
      " dense_12 (Dense)            (None, 30)                480       \n",
      "                                                                 \n",
      " dense_13 (Dense)            (None, 100)               3100      \n",
      "                                                                 \n",
      " dense_14 (Dense)            (None, 200)               20200     \n",
      "                                                                 \n",
      " dense_15 (Dense)            (None, 784)               157584    \n",
      "                                                                 \n",
      "=================================================================\n",
      "Total params: 361,959\n",
      "Trainable params: 361,959\n",
      "Non-trainable params: 0\n",
      "_________________________________________________________________\n"
     ]
    }
   ],
   "source": [
    "encoding_dim = 15\n",
    "\n",
    "input_img = Input(shape=(x_train[0].shape))\n",
    "encoded_1 = Dense(200, activation='relu')(input_img)\n",
    "encoded_2 = Dense(100, activation='relu')(encoded_1)\n",
    "encoded_3 = Dense(30, activation='relu')(encoded_2)\n",
    "encoded = Dense(encoding_dim, activation='relu')(encoded_3)\n",
    "decoded_3 = Dense(30, activation='relu')(encoded)\n",
    "decoded_2 = Dense(100, activation='relu')(decoded_3) \n",
    "decoded_1 = Dense(200, activation='relu')(decoded_2) \n",
    "decoded = Dense((x_train[0].shape[0]), activation='sigmoid')(decoded_1)\n",
    "\n",
    "autoencoder = Model(inputs=input_img, outputs=decoded)\n",
    "\n",
    "autoencoder.summary()"
   ]
  },
  {
   "cell_type": "code",
   "execution_count": 9,
   "id": "84bea8f9",
   "metadata": {},
   "outputs": [
    {
     "name": "stdout",
     "output_type": "stream",
     "text": [
      "Epoch 1/30\n",
      "235/235 [==============================] - 3s 11ms/step - loss: 0.2669 - val_loss: 0.2017\n",
      "Epoch 2/30\n",
      "235/235 [==============================] - 3s 11ms/step - loss: 0.1843 - val_loss: 0.1691\n",
      "Epoch 3/30\n",
      "235/235 [==============================] - 3s 11ms/step - loss: 0.1635 - val_loss: 0.1589\n",
      "Epoch 4/30\n",
      "235/235 [==============================] - 3s 11ms/step - loss: 0.1542 - val_loss: 0.1493\n",
      "Epoch 5/30\n",
      "235/235 [==============================] - 3s 12ms/step - loss: 0.1471 - val_loss: 0.1444\n",
      "Epoch 6/30\n",
      "235/235 [==============================] - 3s 12ms/step - loss: 0.1428 - val_loss: 0.1405\n",
      "Epoch 7/30\n",
      "235/235 [==============================] - 2s 10ms/step - loss: 0.1398 - val_loss: 0.1381\n",
      "Epoch 8/30\n",
      "235/235 [==============================] - 2s 11ms/step - loss: 0.1377 - val_loss: 0.1367\n",
      "Epoch 9/30\n",
      "235/235 [==============================] - 2s 11ms/step - loss: 0.1359 - val_loss: 0.1351\n",
      "Epoch 10/30\n",
      "235/235 [==============================] - 2s 10ms/step - loss: 0.1346 - val_loss: 0.1336\n",
      "Epoch 11/30\n",
      "235/235 [==============================] - 2s 10ms/step - loss: 0.1332 - val_loss: 0.1328\n",
      "Epoch 12/30\n",
      "235/235 [==============================] - 2s 11ms/step - loss: 0.1322 - val_loss: 0.1321\n",
      "Epoch 13/30\n",
      "235/235 [==============================] - 3s 12ms/step - loss: 0.1312 - val_loss: 0.1316\n",
      "Epoch 14/30\n",
      "235/235 [==============================] - 3s 11ms/step - loss: 0.1303 - val_loss: 0.1306\n",
      "Epoch 15/30\n",
      "235/235 [==============================] - 2s 11ms/step - loss: 0.1291 - val_loss: 0.1291\n",
      "Epoch 16/30\n",
      "235/235 [==============================] - 3s 11ms/step - loss: 0.1280 - val_loss: 0.1287\n",
      "Epoch 17/30\n",
      "235/235 [==============================] - 3s 11ms/step - loss: 0.1270 - val_loss: 0.1277\n",
      "Epoch 18/30\n",
      "235/235 [==============================] - 3s 11ms/step - loss: 0.1262 - val_loss: 0.1267\n",
      "Epoch 19/30\n",
      "235/235 [==============================] - 2s 10ms/step - loss: 0.1255 - val_loss: 0.1266\n",
      "Epoch 20/30\n",
      "235/235 [==============================] - 3s 11ms/step - loss: 0.1248 - val_loss: 0.1249\n",
      "Epoch 21/30\n",
      "235/235 [==============================] - 3s 11ms/step - loss: 0.1242 - val_loss: 0.1248\n",
      "Epoch 22/30\n",
      "235/235 [==============================] - 3s 11ms/step - loss: 0.1236 - val_loss: 0.1251\n",
      "Epoch 23/30\n",
      "235/235 [==============================] - 3s 11ms/step - loss: 0.1234 - val_loss: 0.1242\n",
      "Epoch 24/30\n",
      "235/235 [==============================] - 3s 11ms/step - loss: 0.1227 - val_loss: 0.1236\n",
      "Epoch 25/30\n",
      "235/235 [==============================] - 3s 11ms/step - loss: 0.1223 - val_loss: 0.1232\n",
      "Epoch 26/30\n",
      "235/235 [==============================] - 3s 11ms/step - loss: 0.1219 - val_loss: 0.1234\n",
      "Epoch 27/30\n",
      "235/235 [==============================] - 3s 11ms/step - loss: 0.1217 - val_loss: 0.1236\n",
      "Epoch 28/30\n",
      "235/235 [==============================] - 3s 11ms/step - loss: 0.1213 - val_loss: 0.1232\n",
      "Epoch 29/30\n",
      "235/235 [==============================] - 3s 11ms/step - loss: 0.1211 - val_loss: 0.1223\n",
      "Epoch 30/30\n",
      "235/235 [==============================] - 3s 12ms/step - loss: 0.1206 - val_loss: 0.1224\n"
     ]
    }
   ],
   "source": [
    "autoencoder.compile(optimizer='adam', loss='binary_crossentropy')\n",
    "history = autoencoder.fit(x_train_noise, x_train, epochs=30, batch_size=256, validation_data=(x_test_noise, x_test))"
   ]
  },
  {
   "cell_type": "code",
   "execution_count": 10,
   "id": "16a07cf7",
   "metadata": {},
   "outputs": [],
   "source": [
    "decoded_img = autoencoder.predict(x_test)"
   ]
  },
  {
   "cell_type": "code",
   "execution_count": 11,
   "id": "2371c534",
   "metadata": {},
   "outputs": [
    {
     "data": {
      "image/png": "[encoded data removed]",
      "text/plain": [
       "<Figure size 432x288 with 1 Axes>"
      ]
     },
     "metadata": {
      "needs_background": "light"
     },
     "output_type": "display_data"
    }
   ],
   "source": [
    "plt.plot(history.history['loss'])\n",
    "plt.plot(history.history['val_loss'])\n",
    "plt.title('Loss Vs Epoch')\n",
    "plt.ylabel('Loss')\n",
    "plt.xlabel('Epoch')\n",
    "plt.legend(['Train', 'Validation'])\n",
    "plt.show()"
   ]
  },
  {
   "cell_type": "code",
   "execution_count": 12,
   "id": "b5e14c1b",
   "metadata": {},
   "outputs": [
    {
     "name": "stdout",
     "output_type": "stream",
     "text": [
      "Orignal Image:\n"
     ]
    },
    {
     "data": {
      "image/png": "[encoded data removed]",
      "text/plain": [
       "<Figure size 1440x288 with 10 Axes>"
      ]
     },
     "metadata": {
      "needs_background": "light"
     },
     "output_type": "display_data"
    },
    {
     "name": "stdout",
     "output_type": "stream",
     "text": [
      "Noisy Image:\n"
     ]
    },
    {
     "data": {
      "image/png": "[encoded data removed]",
      "text/plain": [
       "<Figure size 1440x288 with 10 Axes>"
      ]
     },
     "metadata": {
      "needs_background": "light"
     },
     "output_type": "display_data"
    },
    {
     "name": "stdout",
     "output_type": "stream",
     "text": [
      "Reconstructed Image:\n"
     ]
    },
    {
     "data": {
      "image/png": "[encoded data removed]",
      "text/plain": [
       "<Figure size 1440x288 with 10 Axes>"
      ]
     },
     "metadata": {
      "needs_background": "light"
     },
     "output_type": "display_data"
    }
   ],
   "source": [
    "n = 10\n",
    "\n",
    "print('Orignal Image:')\n",
    "plt.figure(figsize=(20, 4))\n",
    "for i in range(n):\n",
    "    ax = plt.subplot(2, n, i + 1)\n",
    "    plt.imshow(x_test[i].reshape(28, 28))\n",
    "    plt.gray()\n",
    "    ax.get_xaxis().set_visible(False)\n",
    "    ax.get_yaxis().set_visible(False)\n",
    "plt.show()\n",
    "\n",
    "print('Noisy Image:')\n",
    "plt.figure(figsize=(20, 4))\n",
    "for i in range(n):\n",
    "    ax = plt.subplot(2, n, i + 1 + n)\n",
    "    plt.imshow(x_test_noise[i].reshape(28, 28))\n",
    "    plt.gray()\n",
    "    ax.get_xaxis().set_visible(False)\n",
    "    ax.get_yaxis().set_visible(False)\n",
    "plt.show()\n",
    "\n",
    "print('Reconstructed Image:')\n",
    "plt.figure(figsize=(20, 4))\n",
    "for i in range(n):\n",
    "    ax = plt.subplot(2, n, i + 1 + n)\n",
    "    plt.imshow(decoded_img[i].reshape(28, 28))\n",
    "    plt.gray()\n",
    "    ax.get_xaxis().set_visible(False)\n",
    "    ax.get_yaxis().set_visible(False)\n",
    "plt.show()"
   ]
  },
  {
   "cell_type": "code",
   "execution_count": null,
   "id": "9c6f7387",
   "metadata": {},
   "outputs": [],
   "source": []
  }
 ],
 "metadata": {
  "kernelspec": {
   "display_name": "Python 3 (ipykernel)",
   "language": "python",
   "name": "python3"
  },
  "language_info": {
   "codemirror_mode": {
    "name": "ipython",
    "version": 3
   },
   "file_extension": ".py",
   "mimetype": "text/x-python",
   "name": "python",
   "nbconvert_exporter": "python",
   "pygments_lexer": "ipython3",
   "version": "3.10.2"
  }
 },
 "nbformat": 4,
 "nbformat_minor": 5
}
