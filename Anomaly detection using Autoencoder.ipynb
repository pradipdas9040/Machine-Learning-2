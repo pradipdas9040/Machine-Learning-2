{
 "cells": [
  {
   "cell_type": "code",
   "execution_count": 1,
   "id": "328e085f",
   "metadata": {},
   "outputs": [],
   "source": [
    "# general libraries\n",
    "import numpy as np\n",
    "import pandas as pd\n",
    "import time\n",
    "import sys\n",
    "import seaborn as sns\n",
    "import matplotlib.pyplot as plt\n",
    "\n",
    "# tensorflow libraries\n",
    "import tensorflow as tf\n",
    "import tensorflow.keras as keras\n",
    "from tensorflow.keras.layers import Input, Dense\n",
    "from tensorflow.keras.models import Model"
   ]
  },
  {
   "cell_type": "code",
   "execution_count": 2,
   "id": "f6faab11",
   "metadata": {},
   "outputs": [],
   "source": [
    "from keras.datasets import mnist\n",
    "(mnist_x_train, mnist_y_train), (mnist_x_test, mnist_y_test) = mnist.load_data()"
   ]
  },
  {
   "cell_type": "code",
   "execution_count": 3,
   "id": "4cb8484f",
   "metadata": {},
   "outputs": [],
   "source": [
    "mnist_x_train = mnist_x_train.astype('float32') / 255.\n",
    "mnist_x_test = mnist_x_test.astype('float32') / 255.\n",
    "mnist_x_train = mnist_x_train.reshape((len(mnist_x_train), np.prod(mnist_x_train.shape[1:])))\n",
    "mnist_x_test = mnist_x_test.reshape((len(mnist_x_test), np.prod(mnist_x_test.shape[1:])))"
   ]
  },
  {
   "cell_type": "code",
   "execution_count": 4,
   "id": "407320f2",
   "metadata": {},
   "outputs": [],
   "source": [
    "from keras.datasets import fashion_mnist\n",
    "(fashion_x_train, fashion_y_train), (fashion_x_test, fashion_y_test) = fashion_mnist.load_data()"
   ]
  },
  {
   "cell_type": "code",
   "execution_count": 5,
   "id": "3bae6d64",
   "metadata": {},
   "outputs": [],
   "source": [
    "fashion_x_train = fashion_x_train.astype('float32') / 255.\n",
    "fashion_x_test = fashion_x_test.astype('float32') / 255.\n",
    "fashion_x_train = fashion_x_train.reshape((len(fashion_x_train), np.prod(fashion_x_train.shape[1:])))\n",
    "fashion_x_test = fashion_x_test.reshape((len(fashion_x_test), np.prod(fashion_x_test.shape[1:])))"
   ]
  },
  {
   "cell_type": "markdown",
   "id": "ba787a65",
   "metadata": {},
   "source": [
    "Now let’s explain better what anomaly detection means. Let’s create a special dataset that is made of the 10000 images of the MNIST test dataset and one single image from the fashion MNIST dataset. Our goal in this notebook will be to find this image automatically without looking at them. Can we do it?"
   ]
  },
  {
   "cell_type": "code",
   "execution_count": 6,
   "id": "764b0827",
   "metadata": {},
   "outputs": [
    {
     "name": "stdout",
     "output_type": "stream",
     "text": [
      "(10002, 784)\n"
     ]
    }
   ],
   "source": [
    "x_test = mnist_x_test\n",
    "for i in range(2):\n",
    "    x_test = np.concatenate((x_test, fashion_x_test[i].reshape(1,784)))\n",
    "print(x_test.shape)"
   ]
  },
  {
   "cell_type": "code",
   "execution_count": 7,
   "id": "6afcdcb1",
   "metadata": {},
   "outputs": [
    {
     "data": {
      "text/plain": [
       "<matplotlib.image.AxesImage at 0x1ea89fcdfc0>"
      ]
     },
     "execution_count": 7,
     "metadata": {},
     "output_type": "execute_result"
    },
    {
     "data": {
      "image/png": "[encoded data removed]",
      "text/plain": [
       "<Figure size 432x288 with 1 Axes>"
      ]
     },
     "metadata": {},
     "output_type": "display_data"
    }
   ],
   "source": [
    "plt.gray()\n",
    "plt.tick_params(axis = 'x', which = 'both', bottom = False, top = False, labelbottom = False) \n",
    "plt.tick_params(axis = 'y', which = 'both', left = False, right = False, labelleft = False)\n",
    "\n",
    "plt.imshow(mnist_x_test[10].reshape(28, 28))"
   ]
  },
  {
   "cell_type": "code",
   "execution_count": 8,
   "id": "a18ea863",
   "metadata": {},
   "outputs": [
    {
     "data": {
      "image/png": "[encoded data removed]",
      "text/plain": [
       "<Figure size 432x288 with 1 Axes>"
      ]
     },
     "metadata": {},
     "output_type": "display_data"
    },
    {
     "data": {
      "image/png": "[encoded data removed]",
      "text/plain": [
       "<Figure size 432x288 with 1 Axes>"
      ]
     },
     "metadata": {},
     "output_type": "display_data"
    }
   ],
   "source": [
    "for i in range(2):\n",
    "    plt.gray()\n",
    "    plt.tick_params(axis = 'x', which = 'both', bottom = False, top = False, \n",
    "                    labelbottom = False) \n",
    "    plt.tick_params(axis = 'y', which = 'both', left = False, right = False, \n",
    "                    labelleft = False)\n",
    "\n",
    "    plt.imshow(fashion_x_test[i].reshape(28, 28))\n",
    "    plt.show()"
   ]
  },
  {
   "cell_type": "code",
   "execution_count": 9,
   "id": "1d99d502",
   "metadata": {},
   "outputs": [],
   "source": [
    "def create_autoencoders(feature_layer_dim = 16):\n",
    "    input_img = Input(shape = (784,), name = 'Input_Layer')\n",
    "    # 784 is the total number of pixels of MNIST images\n",
    "\n",
    "    # The layer encoded has a dimension equal to feature_layer_dim and contains\n",
    "    # the encoded input (therefore the name)\n",
    "    encoded = Dense(feature_layer_dim, activation = 'relu', name = 'Encoded_Features')(input_img)\n",
    "    decoded = Dense(784, activation = 'sigmoid', name = 'Decoded_Input')(encoded)\n",
    "\n",
    "    autoencoder = Model(input_img, decoded)\n",
    "    encoder = Model(input_img, encoded)\n",
    "\n",
    "    encoded_input = Input(shape = (feature_layer_dim,))\n",
    "    decoder = autoencoder.layers[-1]\n",
    "    decoder = Model(encoded_input, decoder(encoded_input))\n",
    "\n",
    "    return autoencoder, encoder, decoder"
   ]
  },
  {
   "cell_type": "code",
   "execution_count": 10,
   "id": "72255c8f",
   "metadata": {},
   "outputs": [],
   "source": [
    "autoencoder, encoder, decoder = create_autoencoders(64)\n",
    "\n",
    "autoencoder.compile(optimizer = 'adam', loss = 'binary_crossentropy')\n",
    "\n",
    "history = autoencoder.fit(mnist_x_train, mnist_x_train, epochs = 30,\n",
    "                          batch_size = 256, shuffle = True,\n",
    "                          validation_data = (mnist_x_test, mnist_x_test),\n",
    "                          verbose = 0)"
   ]
  },
  {
   "cell_type": "code",
   "execution_count": 11,
   "id": "24655dc4",
   "metadata": {},
   "outputs": [],
   "source": [
    "encoded_imgs = encoder.predict(x_test)\n",
    "decoded_imgs = decoder.predict(encoded_imgs)"
   ]
  },
  {
   "cell_type": "code",
   "execution_count": 12,
   "id": "94604cbe",
   "metadata": {},
   "outputs": [],
   "source": [
    "RE = ((x_test - decoded_imgs)**2).mean(axis = 1)\n",
    "RE_original = RE.copy()"
   ]
  },
  {
   "cell_type": "code",
   "execution_count": 13,
   "id": "1385b056",
   "metadata": {},
   "outputs": [
    {
     "name": "stdout",
     "output_type": "stream",
     "text": [
      "[0.01793028 0.01799711 0.01810498 0.01813813 0.01872291 0.01892933\n",
      " 0.01895804 0.0189717  0.01910594 0.02166471 0.05987502 0.29712778]\n"
     ]
    }
   ],
   "source": [
    "RE.sort()\n",
    "print(RE[9990:])"
   ]
  },
  {
   "cell_type": "markdown",
   "id": "36bda93f",
   "metadata": {},
   "source": [
    "We can see that the third highest reconstruction error (0.02529096) is less than half (and 10 times small) of the RE for the added image (0.05736294 and 0.29712778). Below we can see the original image and the one that the trained autoencoder has reconstructed. We can see how the reconstructed image does not look like the original at all."
   ]
  },
  {
   "cell_type": "code",
   "execution_count": 14,
   "id": "dab94f43",
   "metadata": {},
   "outputs": [
    {
     "data": {
      "text/plain": [
       "<matplotlib.image.AxesImage at 0x1ea924004c0>"
      ]
     },
     "execution_count": 14,
     "metadata": {},
     "output_type": "execute_result"
    },
    {
     "data": {
      "image/png": "[encoded data removed]",
      "text/plain": [
       "<Figure size 1008x504 with 2 Axes>"
      ]
     },
     "metadata": {},
     "output_type": "display_data"
    }
   ],
   "source": [
    "biggest_re_pos = np.argmax(RE_original)\n",
    "\n",
    "fig = plt.figure(figsize = (14, 7))\n",
    "\n",
    "ax = fig.add_subplot(1, 2, 1)\n",
    "plt.title('Original Image', fontsize = 16)\n",
    "\n",
    "plt.gray()\n",
    "plt.tick_params(axis = 'x', which = 'both', bottom = False, top = False, \n",
    "                labelbottom = False) \n",
    "plt.tick_params(axis = 'y', which = 'both', left = False, right = False, \n",
    "                labelleft = False)\n",
    "\n",
    "plt.imshow(x_test[biggest_re_pos].reshape(28, 28))\n",
    "\n",
    "ax = fig.add_subplot(1, 2, 2)\n",
    "plt.title('Reconstructed Image', fontsize = 16)\n",
    "plt.gray()\n",
    "plt.tick_params(axis = 'x', which = 'both', bottom = False, top = False, \n",
    "                labelbottom = False) \n",
    "plt.tick_params(axis = 'y', which = 'both', left = False, right = False, \n",
    "                labelleft = False)\n",
    "\n",
    "plt.imshow(decoded_imgs[biggest_re_pos].reshape(28, 28))"
   ]
  },
  {
   "cell_type": "code",
   "execution_count": 15,
   "id": "3ada93f4",
   "metadata": {},
   "outputs": [
    {
     "data": {
      "text/plain": [
       "<matplotlib.image.AxesImage at 0x1ea8d022a10>"
      ]
     },
     "execution_count": 15,
     "metadata": {},
     "output_type": "execute_result"
    },
    {
     "data": {
      "image/png": "[encoded data removed]",
      "text/plain": [
       "<Figure size 1008x504 with 2 Axes>"
      ]
     },
     "metadata": {},
     "output_type": "display_data"
    }
   ],
   "source": [
    "second_biggest_re_pos = list(RE_original).index(RE[-2])\n",
    "fig = plt.figure(figsize = (14, 7))\n",
    "\n",
    "ax = fig.add_subplot(1, 2, 1)\n",
    "plt.tick_params(axis = 'x', which = 'both', bottom = False, top = False, \n",
    "                labelbottom = False) \n",
    "plt.tick_params(axis = 'y', which = 'both', left = False, right = False, \n",
    "                labelleft = False)\n",
    "plt.title('Original Image', fontsize = 16)\n",
    "plt.gray()\n",
    "plt.imshow(x_test[second_biggest_re_pos].reshape(28, 28))\n",
    "\n",
    "ax = fig.add_subplot(1, 2, 2)\n",
    "plt.tick_params(axis = 'x', which = 'both', bottom = False, top = False, \n",
    "                labelbottom = False) \n",
    "plt.tick_params(axis = 'y', which = 'both', left = False, right = False, \n",
    "                labelleft = False)\n",
    "plt.title('Reconstructed Image', fontsize = 16)\n",
    "plt.gray()\n",
    "plt.imshow(decoded_imgs[second_biggest_re_pos].reshape(28, 28))"
   ]
  },
  {
   "cell_type": "markdown",
   "id": "dced41ad",
   "metadata": {},
   "source": [
    "Third biggest RE\n",
    "\n",
    "The image shown below (and its reconstructed version) is the one with the third highest reconstruction error. The reason is clear, this image does not seems like a hand-written digit at all! That could even count as an outlier in the dataset."
   ]
  },
  {
   "cell_type": "code",
   "execution_count": 16,
   "id": "28eea5b6",
   "metadata": {},
   "outputs": [
    {
     "data": {
      "text/plain": [
       "<matplotlib.image.AxesImage at 0x1ea9244d630>"
      ]
     },
     "execution_count": 16,
     "metadata": {},
     "output_type": "execute_result"
    },
    {
     "data": {
      "image/png": "[encoded data removed]",
      "text/plain": [
       "<Figure size 1008x504 with 2 Axes>"
      ]
     },
     "metadata": {
      "needs_background": "light"
     },
     "output_type": "display_data"
    }
   ],
   "source": [
    "third_biggest_re_pos = list(RE_original).index(RE[-3])\n",
    "fig = plt.figure(figsize = (14, 7))\n",
    "\n",
    "ax = fig.add_subplot(1, 2, 1)\n",
    "plt.title('Original Image', fontsize = 16)\n",
    "plt.gray()\n",
    "plt.imshow(x_test[third_biggest_re_pos].reshape(28,28))\n",
    "\n",
    "ax = fig.add_subplot(1, 2, 2)\n",
    "plt.title('Reconstructed Image', fontsize = 16)\n",
    "plt.gray()\n",
    "plt.imshow(decoded_imgs[third_biggest_re_pos].reshape(28,28))"
   ]
  },
  {
   "cell_type": "code",
   "execution_count": 17,
   "id": "ab3526ea",
   "metadata": {},
   "outputs": [
    {
     "data": {
      "text/plain": [
       "<matplotlib.image.AxesImage at 0x1ea924fcb80>"
      ]
     },
     "execution_count": 17,
     "metadata": {},
     "output_type": "execute_result"
    },
    {
     "data": {
      "image/png": "[encoded data removed]",
      "text/plain": [
       "<Figure size 1008x504 with 2 Axes>"
      ]
     },
     "metadata": {
      "needs_background": "light"
     },
     "output_type": "display_data"
    }
   ],
   "source": [
    "forth_biggest_re_pos = list(RE_original).index(RE[-4])\n",
    "fig = plt.figure(figsize = (14, 7))\n",
    "\n",
    "ax = fig.add_subplot(1, 2, 1)\n",
    "plt.title('Original Image', fontsize = 16)\n",
    "plt.gray()\n",
    "plt.imshow(x_test[forth_biggest_re_pos].reshape(28,28))\n",
    "\n",
    "ax = fig.add_subplot(1, 2, 2)\n",
    "plt.title('Reconstructed Image', fontsize = 16)\n",
    "plt.gray()\n",
    "plt.imshow(decoded_imgs[forth_biggest_re_pos].reshape(28,28))"
   ]
  }
 ],
 "metadata": {
  "kernelspec": {
   "display_name": "Python 3 (ipykernel)",
   "language": "python",
   "name": "python3"
  },
  "language_info": {
   "codemirror_mode": {
    "name": "ipython",
    "version": 3
   },
   "file_extension": ".py",
   "mimetype": "text/x-python",
   "name": "python",
   "nbconvert_exporter": "python",
   "pygments_lexer": "ipython3",
   "version": "3.10.2"
  }
 },
 "nbformat": 4,
 "nbformat_minor": 5
}
